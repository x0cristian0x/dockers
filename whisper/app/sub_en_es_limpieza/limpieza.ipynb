{
 "cells": [
  {
   "cell_type": "code",
   "execution_count": 1,
   "metadata": {},
   "outputs": [],
   "source": [
    "import ast"
   ]
  },
  {
   "cell_type": "code",
   "execution_count": 2,
   "metadata": {},
   "outputs": [],
   "source": [
    "url = \"/app/carpeta 1/español.txt\""
   ]
  },
  {
   "cell_type": "code",
   "execution_count": 3,
   "metadata": {},
   "outputs": [
    {
     "data": {
      "text/plain": [
       "\"[{'translation_text': '1'}, {'translation_text': '00:00:00,000 -- 00:00:06,000'}, {'translation_text': 'Hola, quería tomarme un segundo al final de todo, al final de tu viaje de aprendizaje.'}, {'translation_text': 'Aspectos generales'}, {'translation_text': '2'}, {'translation_text': '00:00:06,000 -- 00:00:15,000'}, {'translation_text': 'solo decir una cosa y eso es gracias. Sé que su tiempo es valioso. Tenemos tiempo limitado'}, {'translation_text': 'Aspectos generales'}, {'translation_text': '3'}, {'translation_text': '00:00:15,000 -- 00:00:22,000'}, {'translation_text': 'en esta tierra y decidiste gastar tu tiempo y tu dinero francamente con nosotros haciendo algo'}, {'translation_text': 'Aspectos generales'}, {'translation_text': '4'}, {'translation_text': '00:00:22,000 -- 00:00:29,000'}, {'translation_text': 'Así que verdaderamente, desde el fondo de nuestros corazones, sé que suena cursi.'}, {'translation_text': 'Aspectos generales'}, {'translation_text': '5'}, {'translation_text': '00:00:29,000 -- 00:00:35,000'}, {'translation_text': 'pero gracias por dedicar tu tiempo y esfuerzo a este curso. Espero que tengas lo que querías'}, {'translation_text': 'Aspectos generales'}, {'translation_text': '6'}, {'translation_text': '00:00:35,000 -- 00:00:41,000'}, {'translation_text': 'y felicítate por llegar tan lejos porque mucha gente empieza, mucha gente'}, {'translation_text': 'Aspectos generales'}, {'translation_text': '7'}, {'translation_text': '00:00:41,000 -- 00:00:48,000'}, {'translation_text': 'Tienen esperanzas de aprender, pero se dan por vencidos en el camino. Pero no hiciste eso. Trabajaste a través de'}, {'translation_text': 'Aspectos generales'}, {'translation_text': '8'}, {'translation_text': '00:00:48,000 -- 00:00:54,000'}, {'translation_text': 'los desafíos, los problemas y llegaste aquí. Ahora tu viaje de aprendizaje no termina aquí. Se mantiene'}, {'translation_text': 'Aspectos generales'}, {'translation_text': '9'}, {'translation_text': '00:00:54,000 -- 00:01:02,000'}, {'translation_text': 'pero espero que esto haya creado una base para que puedas salir y aprender cosas por tu cuenta.'}, {'translation_text': 'Aspectos generales'}, {'translation_text': '10'}, {'translation_text': '00:01:02,000 -- 00:01:08,000'}, {'translation_text': 'una promoción, ser contratado, iniciar un nuevo negocio. Sea lo que sea, de nuevo gracias y lo mejor de'}, {'translation_text': 'Aspectos generales'}, {'translation_text': '11'}, {'translation_text': '00:01:08,000 -- 00:01:15,000'}, {'translation_text': 'Esto es solo el comienzo de lo que decidas hacer en el futuro.'}, {'translation_text': 'Aspectos generales'}, {'translation_text': '12'}, {'translation_text': '00:01:15,000 -- 00:01:17,000'}, {'translation_text': 'Así que gracias y buena suerte.'}, {'translation_text': 'Aspectos generales'}]\\n\""
      ]
     },
     "execution_count": 3,
     "metadata": {},
     "output_type": "execute_result"
    }
   ],
   "source": [
    "# Leer el archivo de texto\n",
    "with open(url, 'r') as file:\n",
    "    data = file.read()\n",
    "\n",
    "data"
   ]
  },
  {
   "cell_type": "code",
   "execution_count": 4,
   "metadata": {},
   "outputs": [
    {
     "data": {
      "text/plain": [
       "str"
      ]
     },
     "execution_count": 4,
     "metadata": {},
     "output_type": "execute_result"
    }
   ],
   "source": [
    "type(data)"
   ]
  },
  {
   "cell_type": "code",
   "execution_count": 20,
   "metadata": {},
   "outputs": [
    {
     "data": {
      "text/plain": [
       "'data_list'"
      ]
     },
     "execution_count": 20,
     "metadata": {},
     "output_type": "execute_result"
    }
   ],
   "source": [
    "# Convertir la cadena de texto en una lista\n",
    "data_list = ast.literal_eval(data)\n",
    "\"data_list\""
   ]
  },
  {
   "cell_type": "code",
   "execution_count": 24,
   "metadata": {},
   "outputs": [
    {
     "data": {
      "text/plain": [
       "['1',\n",
       " '00:00:00,000 --> 00:00:06,000',\n",
       " 'Hola, quería tomarme un segundo al final de todo, al final de tu viaje de aprendizaje.',\n",
       " '',\n",
       " '2',\n",
       " '00:00:06,000 --> 00:00:15,000',\n",
       " 'solo decir una cosa y eso es gracias. Sé que su tiempo es valioso. Tenemos tiempo limitado',\n",
       " '',\n",
       " '3',\n",
       " '00:00:15,000 --> 00:00:22,000',\n",
       " 'en esta tierra y decidiste gastar tu tiempo y tu dinero francamente con nosotros haciendo algo',\n",
       " '',\n",
       " '4',\n",
       " '00:00:22,000 --> 00:00:29,000',\n",
       " 'Así que verdaderamente, desde el fondo de nuestros corazones, sé que suena cursi.',\n",
       " '',\n",
       " '5',\n",
       " '00:00:29,000 --> 00:00:35,000',\n",
       " 'pero gracias por dedicar tu tiempo y esfuerzo a este curso. Espero que tengas lo que querías',\n",
       " '',\n",
       " '6',\n",
       " '00:00:35,000 --> 00:00:41,000',\n",
       " 'y felicítate por llegar tan lejos porque mucha gente empieza, mucha gente',\n",
       " '',\n",
       " '7',\n",
       " '00:00:41,000 --> 00:00:48,000',\n",
       " 'Tienen esperanzas de aprender, pero se dan por vencidos en el camino. Pero no hiciste eso. Trabajaste a través de',\n",
       " '',\n",
       " '8',\n",
       " '00:00:48,000 --> 00:00:54,000',\n",
       " 'los desafíos, los problemas y llegaste aquí. Ahora tu viaje de aprendizaje no termina aquí. Se mantiene',\n",
       " '',\n",
       " '9',\n",
       " '00:00:54,000 --> 00:01:02,000',\n",
       " 'pero espero que esto haya creado una base para que puedas salir y aprender cosas por tu cuenta.',\n",
       " '',\n",
       " '10',\n",
       " '00:01:02,000 --> 00:01:08,000',\n",
       " 'una promoción, ser contratado, iniciar un nuevo negocio. Sea lo que sea, de nuevo gracias y lo mejor de',\n",
       " '',\n",
       " '11',\n",
       " '00:01:08,000 --> 00:01:15,000',\n",
       " 'Esto es solo el comienzo de lo que decidas hacer en el futuro.',\n",
       " '',\n",
       " '12',\n",
       " '00:01:15,000 --> 00:01:17,000',\n",
       " 'Así que gracias y buena suerte.',\n",
       " '']"
      ]
     },
     "execution_count": 24,
     "metadata": {},
     "output_type": "execute_result"
    }
   ],
   "source": [
    "formatted_data = []\n",
    "\n",
    "for item in data_list:\n",
    "    for key, value in item.items():\n",
    "        value = value.replace('translation_text', '')\n",
    "        if value == 'Aspectos generales':\n",
    "            value = ''\n",
    "        formatted_data.append(value.replace('--', '-->'))\n",
    "\n",
    "formatted_data"
   ]
  },
  {
   "cell_type": "code",
   "execution_count": 25,
   "metadata": {},
   "outputs": [],
   "source": [
    "with open('1. copia.es.srt', 'w') as file:\n",
    "    for item in formatted_data:\n",
    "        file.write(\"%s\\n\" % item)"
   ]
  },
  {
   "cell_type": "code",
   "execution_count": null,
   "metadata": {},
   "outputs": [],
   "source": []
  }
 ],
 "metadata": {
  "kernelspec": {
   "display_name": "base",
   "language": "python",
   "name": "python3"
  },
  "language_info": {
   "codemirror_mode": {
    "name": "ipython",
    "version": 3
   },
   "file_extension": ".py",
   "mimetype": "text/x-python",
   "name": "python",
   "nbconvert_exporter": "python",
   "pygments_lexer": "ipython3",
   "version": "3.10.13"
  }
 },
 "nbformat": 4,
 "nbformat_minor": 2
}
