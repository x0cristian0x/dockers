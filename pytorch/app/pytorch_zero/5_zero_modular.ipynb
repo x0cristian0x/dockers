{
 "cells": [
  {
   "cell_type": "code",
   "execution_count": 8,
   "metadata": {},
   "outputs": [
    {
     "name": "stdout",
     "output_type": "stream",
     "text": [
      "./data/pizza_steak_sushi directory exists\n"
     ]
    }
   ],
   "source": [
    "import os\n",
    "import zipfile\n",
    "from pathlib import Path\n",
    "import requests\n",
    "\n",
    "\n",
    "# get data\n",
    "data = \"./data/\"\n",
    "image_path = data +\"pizza_steak_sushi\"\n",
    "image_path\n",
    "\n",
    "if os.path.isdir(image_path):\n",
    "    print(f\"{image_path} directory exists\")\n",
    "else:\n",
    "    print(f\"Did not find {image_path} , to create new dir\")\n",
    "    os.mkdir(image_path)\n",
    "\n",
    "\n",
    "# Download data pizza, steak, sushi format zip\n",
    "with open(data + \"pizza_steak_sushi.zip\", \"wb\") as f:\n",
    "    request = requests.get(\"https://github.com/mrdbourke/pytorch-deep-learning/raw/main/data/pizza_steak_sushi.zip\")\n",
    "    print(\"Download data image\")\n",
    "    f.write(request.content)\n",
    "\n",
    "# Unzip data\n",
    "with zipfile.ZipFile(data + \"pizza_steak_sushi.zip\" ,\"r\") as zip_ref:\n",
    "    print(\"Unzip data image\")\n",
    "    zip_ref.extractall(image_path)\n",
    "\n",
    "# remove zip file\n",
    "os.remove(data + \"pizza_steak_sushi.zip\")"
   ]
  },
  {
   "cell_type": "code",
   "execution_count": 9,
   "metadata": {},
   "outputs": [
    {
     "data": {
      "text/plain": [
       "'./data/pizza_steak_sushi'"
      ]
     },
     "execution_count": 9,
     "metadata": {},
     "output_type": "execute_result"
    }
   ],
   "source": [
    "data = \"./data/\"\n",
    "image_path = data +\"pizza_steak_sushi\"\n",
    "image_path"
   ]
  },
  {
   "cell_type": "code",
   "execution_count": 10,
   "metadata": {},
   "outputs": [
    {
     "data": {
      "text/plain": [
       "'/'"
      ]
     },
     "execution_count": 10,
     "metadata": {},
     "output_type": "execute_result"
    }
   ],
   "source": [
    "os.getcwd()"
   ]
  },
  {
   "cell_type": "code",
   "execution_count": null,
   "metadata": {},
   "outputs": [],
   "source": []
  }
 ],
 "metadata": {
  "kernelspec": {
   "display_name": "base",
   "language": "python",
   "name": "python3"
  },
  "language_info": {
   "codemirror_mode": {
    "name": "ipython",
    "version": 3
   },
   "file_extension": ".py",
   "mimetype": "text/x-python",
   "name": "python",
   "nbconvert_exporter": "python",
   "pygments_lexer": "ipython3",
   "version": "3.1.0"
  }
 },
 "nbformat": 4,
 "nbformat_minor": 2
}
