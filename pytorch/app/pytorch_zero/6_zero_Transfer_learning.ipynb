{
 "cells": [
  {
   "cell_type": "code",
   "execution_count": 12,
   "metadata": {},
   "outputs": [],
   "source": [
    "import os\n",
    "import zipfile\n",
    "from pathlib import Path\n",
    "import requests\n",
    "from going_modular.going_modular import data_setup\n",
    "import torchvision\n",
    "from torchvision import transforms\n"
   ]
  },
  {
   "cell_type": "code",
   "execution_count": 6,
   "metadata": {},
   "outputs": [
    {
     "name": "stdout",
     "output_type": "stream",
     "text": [
      "./data/pizza_steak_sushi directory exists\n"
     ]
    }
   ],
   "source": [
    "# get data\n",
    "data = \"./data/\"\n",
    "image_path = data +\"pizza_steak_sushi\"\n",
    "image_path\n",
    "\n",
    "if os.path.isdir(image_path):\n",
    "    print(f\"{image_path} directory exists\")\n",
    "else:\n",
    "    print(f\"Did not find {image_path} , to create new dir\")\n",
    "    os.mkdir(image_path)\n",
    "    \n",
    "    # Download data pizza, steak, sushi format zip\n",
    "    with open(data + \"pizza_steak_sushi.zip\", \"wb\") as f:\n",
    "        request = requests.get(\"https://github.com/mrdbourke/pytorch-deep-learning/raw/main/data/pizza_steak_sushi.zip\")\n",
    "        print(\"Download data image\")\n",
    "        f.write(request.content)\n",
    "\n",
    "    # Unzip data\n",
    "    with zipfile.ZipFile(data + \"pizza_steak_sushi.zip\" ,\"r\") as zip_ref:\n",
    "        print(\"Unzip data image\")\n",
    "        zip_ref.extractall(image_path)\n",
    "\n",
    "    # remove zip file\n",
    "    os.remove(data + \"pizza_steak_sushi.zip\")"
   ]
  },
  {
   "cell_type": "code",
   "execution_count": 17,
   "metadata": {},
   "outputs": [
    {
     "data": {
      "text/plain": [
       "('./data/pizza_steak_sushi/train', './data/pizza_steak_sushi/test')"
      ]
     },
     "execution_count": 17,
     "metadata": {},
     "output_type": "execute_result"
    }
   ],
   "source": [
    "# setup directory path\n",
    "train_dir = image_path + \"/train\"\n",
    "test_dir = image_path + \"/test\"\n",
    "train_dir, test_dir"
   ]
  },
  {
   "cell_type": "code",
   "execution_count": 23,
   "metadata": {},
   "outputs": [
    {
     "data": {
      "text/plain": [
       "EfficientNet_B0_Weights.IMAGENET1K_V1"
      ]
     },
     "execution_count": 23,
     "metadata": {},
     "output_type": "execute_result"
    }
   ],
   "source": [
    "# TRANSFORM\n",
    "## Transform weight manual\n",
    "# normalize = transforms.Normalize(mean=[0.485, 0.456, 0.406], # values default\n",
    "#                                  std=[0.229, 0.224, 0.225 ])\n",
    "# manual_transform = transforms.Compose([\n",
    "#     transforms.Resize(size=(224,224)),\n",
    "#     transforms.ToTensor,\n",
    "#     normalize \n",
    "# ])\n",
    "\n",
    "## Transform weitght pretrained model\n",
    "weights = torchvision.models.EfficientNet_B0_Weights.DEFAULT # \"DEFAULT\" best available weights\n",
    "weights"
   ]
  },
  {
   "cell_type": "code",
   "execution_count": 24,
   "metadata": {},
   "outputs": [
    {
     "data": {
      "text/plain": [
       "ImageClassification(\n",
       "    crop_size=[224]\n",
       "    resize_size=[256]\n",
       "    mean=[0.485, 0.456, 0.406]\n",
       "    std=[0.229, 0.224, 0.225]\n",
       "    interpolation=InterpolationMode.BICUBIC\n",
       ")"
      ]
     },
     "execution_count": 24,
     "metadata": {},
     "output_type": "execute_result"
    }
   ],
   "source": [
    "# get transform used pretrained model\n",
    "auto_tranform = weights.transforms()\n",
    "auto_tranform"
   ]
  },
  {
   "cell_type": "code",
   "execution_count": 19,
   "metadata": {},
   "outputs": [],
   "source": [
    "# dataloader for train and test\n",
    "train_dataloader, test_dataloader, class_names = data_setup.create_dataloaders(train_dir=train_dir, test_dir=test_dir, transform=auto_tranform,\n",
    "                                                                               batch_size=32,num_workers=1) # num_workers = cpu kernel"
   ]
  },
  {
   "cell_type": "code",
   "execution_count": 21,
   "metadata": {},
   "outputs": [
    {
     "data": {
      "text/plain": [
       "['pizza', 'steak', 'sushi']"
      ]
     },
     "execution_count": 21,
     "metadata": {},
     "output_type": "execute_result"
    }
   ],
   "source": []
  },
  {
   "cell_type": "code",
   "execution_count": null,
   "metadata": {},
   "outputs": [],
   "source": []
  },
  {
   "cell_type": "markdown",
   "metadata": {},
   "source": [
    "# 7"
   ]
  },
  {
   "cell_type": "markdown",
   "metadata": {},
   "source": []
  }
 ],
 "metadata": {
  "kernelspec": {
   "display_name": "base",
   "language": "python",
   "name": "python3"
  },
  "language_info": {
   "codemirror_mode": {
    "name": "ipython",
    "version": 3
   },
   "file_extension": ".py",
   "mimetype": "text/x-python",
   "name": "python",
   "nbconvert_exporter": "python",
   "pygments_lexer": "ipython3",
   "version": "3.10.13"
  }
 },
 "nbformat": 4,
 "nbformat_minor": 2
}
