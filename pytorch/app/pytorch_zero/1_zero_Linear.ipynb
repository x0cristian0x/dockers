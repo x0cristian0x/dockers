{
 "cells": [
  {
   "cell_type": "code",
   "execution_count": 1,
   "metadata": {},
   "outputs": [],
   "source": [
    "import torch\n",
    "import numpy as np\n",
    "from torch import nn\n",
    "import matplotlib.pyplot as plt\n",
    "from sklearn.model_selection import train_test_split\n",
    "\n",
    "#import argparse\n",
    "#import sys"
   ]
  },
  {
   "cell_type": "code",
<<<<<<< HEAD
   "execution_count": 26,
=======
   "execution_count": 2,
>>>>>>> rama_3
   "metadata": {},
   "outputs": [
    {
     "data": {
      "text/plain": [
       "'2.1.2'"
      ]
     },
<<<<<<< HEAD
     "execution_count": 26,
=======
     "execution_count": 2,
>>>>>>> rama_3
     "metadata": {},
     "output_type": "execute_result"
    }
   ],
   "source": [
    "torch.__version__"
   ]
  },
  {
   "cell_type": "code",
<<<<<<< HEAD
   "execution_count": 27,
=======
   "execution_count": 3,
>>>>>>> rama_3
   "metadata": {},
   "outputs": [],
   "source": [
    "weight = 0.7\n",
    "bias = 0.3\n",
    "\n",
    "X = torch.arange(0.,1.,0.02).unsqueeze(dim=1)\n",
    "y = weight * X + bias"
   ]
  },
  {
   "cell_type": "code",
<<<<<<< HEAD
   "execution_count": 28,
=======
   "execution_count": 4,
>>>>>>> rama_3
   "metadata": {},
   "outputs": [
    {
     "data": {
      "text/plain": [
       "(tensor([[0.0000],\n",
       "         [0.0200],\n",
       "         [0.0400]]),\n",
       " tensor([[0.3000],\n",
       "         [0.3140],\n",
       "         [0.3280]]))"
      ]
     },
<<<<<<< HEAD
     "execution_count": 28,
=======
     "execution_count": 4,
>>>>>>> rama_3
     "metadata": {},
     "output_type": "execute_result"
    }
   ],
   "source": [
    "X[:3] , y[:3]"
   ]
  },
  {
   "cell_type": "code",
<<<<<<< HEAD
   "execution_count": 29,
=======
   "execution_count": 5,
>>>>>>> rama_3
   "metadata": {},
   "outputs": [
    {
     "data": {
      "text/plain": [
       "(50, 50)"
      ]
     },
<<<<<<< HEAD
     "execution_count": 29,
=======
     "execution_count": 5,
>>>>>>> rama_3
     "metadata": {},
     "output_type": "execute_result"
    }
   ],
   "source": [
    "len(X), len(y)"
   ]
  },
  {
   "cell_type": "code",
<<<<<<< HEAD
   "execution_count": 30,
=======
   "execution_count": 6,
>>>>>>> rama_3
   "metadata": {},
   "outputs": [],
   "source": [
    "x_train, x_test, y_train, y_test = train_test_split(X,y, test_size=.2)"
   ]
  },
  {
   "cell_type": "code",
<<<<<<< HEAD
   "execution_count": 31,
=======
   "execution_count": 7,
>>>>>>> rama_3
   "metadata": {},
   "outputs": [
    {
     "data": {
      "text/plain": [
       "(40, 10)"
      ]
     },
<<<<<<< HEAD
     "execution_count": 31,
=======
     "execution_count": 7,
>>>>>>> rama_3
     "metadata": {},
     "output_type": "execute_result"
    }
   ],
   "source": [
    "len(x_train), len(x_test)"
   ]
  },
  {
   "cell_type": "code",
<<<<<<< HEAD
   "execution_count": 50,
=======
   "execution_count": 8,
>>>>>>> rama_3
   "metadata": {},
   "outputs": [
    {
     "data": {
<<<<<<< HEAD
      "image/png": "iVBORw0KGgoAAAANSUhEUgAAASUAAAESCAYAAAC7GMNiAAAAOXRFWHRTb2Z0d2FyZQBNYXRwbG90bGliIHZlcnNpb24zLjYuMiwgaHR0cHM6Ly9tYXRwbG90bGliLm9yZy8o6BhiAAAACXBIWXMAAA9hAAAPYQGoP6dpAAAo0ElEQVR4nO3df1RT5/0H8HcMSUAmoMVGLIhUK+CPthKqAlW0Wjp0Kl276rZi7XST2g2RuRXq2VC3lXbHWTsH/hpo3fy11lpcxU3OppSKq4Xh2Tq0tlULapDiasBfIPH5/sE3mSEBckNIbpL365x7OHny3Hufa5KP937u89xHIYQQICKSiX7ubgAR0d0YlIhIVhiUiEhWGJSISFYYlIhIVhiUiEhWGJSISFb83N0Ae9y5cweXLl3CgAEDoFAo3N0cIrqLEAItLS0YOnQo+vXr/XmORwSlS5cuISIiwt3NIKJu1NfXIzw8vNfb8YigNGDAAAAdBx0UFOTm1hDR3ZqbmxEREWH+nfaWRwQl0yVbUFAQgxKRTDkrtSL5AvD999/H7NmzMXToUCgUCrz77rs9rlNeXg6dTgd/f3/cf//92LRpkyNtJSIfIDkoXb9+HQ899BB+97vf2VX/3LlzmDlzJiZPnoyamhq8/PLLyMzMxL59+yQ3loi8n+TLt9TUVKSmptpdf9OmTRg2bBjWr18PAIiNjUVVVRXWrl2Lp556yuY6ra2taG1tNb9ubm6W2kwi8lB93k/p+PHjSElJsSh74oknUFVVhdu3b9tcJz8/H8HBweaFd96IfEefJ7obGhqg1WotyrRaLdrb29HU1ISwsDCrdXJzc5GdnW1+bcru90QIAaPRiPb29t43nDyKSqWCUql0dzPICVxy961zVt70XLmusvUajQYajcbu7QshcPXqVXz55ZcwGo2ON5Q8WkhICIYMGcIOth6uz4PSkCFD0NDQYFHW2NgIPz8/3HPPPU7ZR0NDA65evWruMuDn58cvpg8RQuDGjRtobGwEAJtn3yTdgQPAkSPAtGnAnDmu22+fB6WEhAT8+c9/tig7fPgw4uPjoVKper19o9EIg8GAwYMHIzQ0tNfbI88UEBAAoOM/vHvvvZeXcr104AAwdy6gVALr1wMlJa4LTJIT3deuXcPJkydx8uRJAB23/E+ePIm6ujoAHfmgBQsWmOtnZGTgiy++QHZ2Nk6dOoXi4mIUFRVhxYoVTjmA27dvQwiBwMBAp2yPPFf//v0BoMsbKGS/I0c6ApLR2PH36FHX7VtyUKqqqsL48eMxfvx4AEB2djbGjx+Pn//85wAAvV5vDlAAEBUVhdLSUhw9ehQPP/wwfvGLX+C3v/1tl90BHMXLNeJ3wHmmTftfQDIagalTXbdvhSfMZtLc3Izg4GAYDAarYSa3bt3CuXPnEBUVBX9/fze1kOSA34VesJFAOnCg4wxp6tTuL926+306wiPGvhFRH+oigTRnjmsT3CZ8yJvMNTU1QaFQYPv27ZLWO3r0KF555RWnteP8+fNYtWoVLl265LRtAsD27duhUCjQ1NTk1O2SBO5MINnAoOSl+iIorV692ulBadasWTh+/DhCQkKcul2SwJ0JJBt4+UZOd/PmTfMt+p4MHjwYgwcP7uMWUWeWKaQ5HZds9iSQXEF4AIPBIAAIg8Fg9d7NmzdFbW2tuHnzphta5nxbtmwRkZGRIiAgQDz22GPi+PHjAoDYtm2buc6bb74pkpKSxMCBA0VISIhITk4WH374ofn9vLw8AcBiSU5OFkIIcerUKTFv3jwRHh4uAgICRGxsrFi7dq0wGo1dtunIkSNW2zN9dUzvvffee+Kpp54SAwYMELNmzbKrnUIIsW3bNgFAfPnll0IIIc6dOycAiD/84Q/ixRdfFCEhIWLIkCHixz/+sbh9+3a3/3be9l3oKyUlQgBCKJUdf0tKere97n6fjuCZkoy89957+MEPfoCFCxdi/vz5qKqqwvz5863qnT9/HgsWLMCIESPQ1taGXbt2YcqUKfjXv/6FUaNGYfHixbhw4QJ27dqFv//97wBgvity8eJFREdH47vf/S4GDBiAkydPIi8vD9evXzd36+gsLi4OBQUFePHFF7Ft2zbExMRY1VmyZAmeffZZvPDCC+bnNPfUzu6sXLkSc+fOxZ/+9CccO3YMq1evxsiRI5GRkSHp35Ss2UohufvkyIJTQlsfc8eZUkmJEFlZvf9fRIqJEyeKyZMnW5Tl5uZanSndzWg0itu3b4vo6GiRm5trLs/LyxOBgYHd7u/OnTvi9u3b4le/+pUICwvrtq7pjOijjz6yWb506dJu1++qnV2dKX3rW9+yWD8pKUlMnz69233wTMk+cj9TYqLbBtMd0g0bOv4eOND3+zQajaiursaTTz5pUf70009b1T116hSefPJJaLVaKJVKqFQqfPLJJzhz5kyP+7l16xby8vIwcuRIaDQaqFQqrFy5Enq9HteuXXO4/TNnznRqOzs/7mb06NG4cOGCw+2j/zGlkDIzXTt8xF68fLPBHae3X375Jdrb23HvvfdalHd+7EtLSwtSUlIwePBgrFu3DpGRkfD398fixYtx69atHvfz0ksvYevWrcjLy4NOp0NISAhKSkrwy1/+Erdu3cLXvvY1h9rfud29bWfnu3Fqtdqu9ci2zn0j3dUHyR4MSjZMm9bRh8yVd0gHDx4MPz8/80h3k8uXL1u8Pn78OC5cuID33nsPDz30kLncYDDYNb3NW2+9hSVLluCll14ylx08eLCXrbce4tHbdpLzuHNwrSN4+WaDO05vlUol4uLisH//fovyt99+2+L1zZs3AXScOZhUVlbi/PnzFvXUarXFI4XvXv/udY1GI/bs2dNj+0zr2Hu2Ym87qe/JrG9kj3im1AV3nN6a7jg9//zz5rtvu3btsqgzadIkfO1rX8OLL76InJwcXLx4EatWrcJ9991nUS82Nhbt7e144403kJiYiKCgIERHR+Pxxx/H1q1bMXr0aAwePBgFBQU2g1dno0aNglKpRHFxsTk/FB8f32V9e9tJfc8dZ/69wTMlGZkzZw42bdqEv/3tb0hLS0NZWRl2795tUUer1eKtt95CY2Mj5s6di/Xr12PTpk0YOXKkRb3Zs2dj6dKlyM/Px8SJE7FkyRIAwIYNG5CcnIwf/ehH+N73vodx48bh5Zdf7rFtoaGhKCgoQHl5OaZMmYJHHnmk2/r2tpP6yIEDwPLlwIEDsk9sd8anBJDX4Hfh/92dRDIa+zwSOfspATxTIvI2npZE6oRBicjbyGyArVRMdBN5OKvns8ltgK1EDEpEHqzLPkhy7h3ZA16+EXkwD08f2eRQUCosLDTf4dDpdKioqOi2fkFBAWJjYxEQEIDo6Gjs2LHDocYSkSUPTx/ZJPnybe/evcjKykJhYSGSkpKwefNmpKamora2FsOGDbOqv3HjRuTm5mLr1q145JFHcOLECXz/+9/HwIEDMXv2bKccBJEv6ZxD8uD0kW1SHyswYcIEkZGRYVEWExMjcnJybNZPSEgQK1assChbtmyZSEpKsnufvvSQN3KcL3wXnP3YEWdw66NL2traUF1dbfVYiZSUFFRWVtpcp7W11aojW0BAAE6cONHlpIGtra1obm62WIjIO3NInUkKSk1NTTAajVaP09BqtWhoaLC5zhNPPIHf//73qK6uhhACVVVVKC4uxu3bt7ucwSI/Px/BwcHmJSIiQkozvYq3z2Zisn37dqtxfmTNG3NInTmU6O78mAohRJezk/7sZz9DamoqJk2aBJVKhblz52LhwoUA0OV877m5uTAYDOalvr7ekWb6NE+ZzcSEQck+njaOzRGSglJoaCiUSqXVWVFjY6PV2ZNJQEAAiouLcePGDZw/fx51dXUYPnw4BgwYgNDQUJvraDQaBAUFWSxEvuqusbUAOgLRunXeGZAAiUFJrVZDp9OhrKzMorysrAyJiYndrqtSqRAeHg6lUok9e/bgG9/4hvkB8/Q/W7duxfDhw9G/f39Mnz4dn332mVWdHTt24NFHH8WgQYMwcOBATJ06FSdOnDC/v2rVKqxevRrXr1+HQqGAQqHA1P8/zz99+jTmz5+PiIgI9O/fH6NHj8ZvfvMb3Llzp8s2HT16FNOmTQMAPPLII+Ztmly9ehVLly5FWFgYNBoNdDodDh8+bLGNY8eOYcqUKQgODsaAAQMwbtw4vPnmmwCAqVOnory8HAcPHjRve9WqVY7+E3oVdzya2d0kdwnIzs5Geno64uPjkZCQgC1btqCurs48y0Rubi4uXrxo7ot05swZnDhxAhMnTsRXX32FdevW4eOPPzZ/Iel/PHE2k7a2Njz++OO4fPkyfvWrX+G+++7DH//4R8yaNQv//Oc/MW7cODQ3N2PWrFl49NFHsXv3bmg0GtTW1uLq1asAOvq9Pfvss+jfvz/Wrl0LAHw65f+T/cwjfcGRW3YFBQUiMjJSqNVqERcXJ8rLy83vPffcc+Y5xoQQora2Vjz88MMiICBABAUFiblz54rTp09L2p+vdAnwxNlMiouLhZ+fn/jPf/5jUT5hwgTzjCQfffSRACD+9a9/dbn95ORk83xxjvKm74KJHLsAdCaLed+WLl2KpUuX2nyv812i2NhY1NTUOLIb97Ia5di3TLOZ/PrXv7Yof/rpp5Gfn29RdurUKbz88suorKy0eKa3vbOZ5OfnY+fOnairq7PolnHt2jXJEwccPnwY48aNw6hRo9De3m4unz59uvkBdSNGjEBQUBBeeOEFZGZmYtq0aZwVtwu2HvDvdZ0je8ABuba44UnrnjqbSVNTE2pqaqBSqazeM91dHThwIMrKypCXl4f09HS0t7dj8uTJ2LBhA8aNGydpf96sq6+dB4+tdQiDki1uuJD31NlMBg0ahAcffBBFRUXd1pswYQIOHTqEmzdv4siRI1ixYgXS0tLw+eefO7xvb+OT+SMbePvLFjf0UPPU2UxmzJiBs2fPYujQoYiPj7daOgsICMDMmTPxwgsv4Ny5c+btcV433+gYaQ+eKdnipgt5T5zNZMGCBdi8eTOmTp2KFStWYNSoUbh69SpqamrQ1taG/Px8HDx4EEVFRXjyyScxbNgwNDQ0YMOGDUhKSjIPQYqNjcWbb76JP//5zwgLC8PQoUMxdOhQ5/3jypTXD651hFPS5X3MV+6+CSHEpk2bREREhPD39xfJycmisrLS6u7boUOHxJgxY4S/v7948MEHRWlpqdXdq9u3b4ulS5cKrVYrFAqF+Y5oQ0ODSEtLEwMGDBBarVa89NJLYuvWrQKA+PLLL3ts2/333y/8/PzE3V8dg8Egli9fLoYNGyZUKpUICwsTM2fOFO+9954QQojTp0+Lp556SkRERAi1Wi2GDh0qFi5cKPR6vXkbFy5cEDNnzhQhISECgMjLy5P8b+dp3wVPuLNmD2fffeNsJuQ1PO27sHx5R6dI0yVbZmZHT21Pw9lMiLwEc0i2MadE5CbMIdnGoETkSp0y277WB8kevHwjchVfHF3rAAYlIlfxhcdGOoHXBCUPuIlIfUz23wFmtu3i8TkllUoFhUKB69evIyAgwN3NITe6ceMGANgch+cO3jZzrat4fD8lANDr9bh69ar5KZV+fn5dPp6XvI8QAjdu3EBjYyNCQkIQFhbm7iZZDK41Gr330bWA8/spefyZEgAMGTIEAQEBaGxs5MwnPiwkJARDhgxxdzMAcHBtb3hFUFIoFAgJCUFwcDCMRqPFc33IN6hUqi4nonCHadM6Hj/C9JF0XhGUTBQKBfz8/ODn51WHRR6Cg2udwytySkTu5ks5pM449o1IhtgFyXkYlIicgF2QnMehoFRYWGh+PIROp0NFRUW39Xfu3ImHHnoI/fv3R1hYGJ5//nlcuXLFoQYTycXdk0T6wsy1LiP1AUx79uwRKpVKbN26VdTW1oply5aJwMBA8cUXX9isX1FRIfr16yfeeOMNcfbsWVFRUSHGjBkj0tLS7N6nsx8iRdRb3vKANmdw9u9T8pnSunXrsGjRIixevBixsbFYv349IiIisHHjRpv1//GPf2D48OHIzMxEVFQUHn30USxZsgRVVVW9DKdE7sMcUt+RFJTa2tpQXV2NlJQUi/KUlBRUVlbaXCcxMREXLlxAaWkphBC4fPky3n77bcyaNavL/bS2tqK5udliIZIT5pD6jqSg1NTUBKPRaDUXmVarRUNDg811EhMTsXPnTsybNw9qtRpDhgxBSEgINmzY0OV+8vPzERwcbF4iIiKkNJOozzGH1HccSnR3HlcmhOhyrFltbS0yMzPx85//HNXV1fjLX/6Cc+fOISMjo8vt5+bmwmAwmJf6+npHmknkNHcntU3mzOl4pjYDknNJ6vocGhoKpVJpdVbU2NhodfZkkp+fj6SkJPzkJz8BADz44IMIDAzE5MmT8ctf/tLm4EmNRgONRiOlaUR9xg0TJvs0SWdKarUaOp0OZWVlFuVlZWVITEy0uc6NGzfQr5/lbkxjlIT8O5MTMantYpIv37Kzs/H73/8excXFOHXqFJYvX466ujrz5Vhubi4WLFhgrj979my888472LhxI86ePYtjx44hMzMTEyZM8InJBsnzMantWpJHrs6bNw9XrlzBmjVroNfrMXbsWJSWliIyMhJAx7ON6urqzPUXLlyIlpYW/O53v8OPf/xjhISE4LHHHsNrr73mvKMgcjIOrnUfDsgl6sSXB9c6ggNyifoYc0juxaBE1AlzSO7Fp6ERgTkkOWFOiXwec0i9w5wSkZMxhyQvDErk85hDkhfmlMjnMYckLwxK5Huspq7t+MNgJA+8fCPfYspqb9jQ8ffuYf8kCwxK5FuY1ZY9BiXyLcxqyx5zSuT1LFNIzGrLHTtPkldjx8i+x86TRBIwheR5GJTIqzGF5HmYUyLvc1cSac6cOUwheRjmlMi7MInkcswpEXWHSSSPx6BE3oVJJI/HnBJ5PPZD8i4OnSkVFhYiKioK/v7+0Ol0qKio6LLuwoULoVAorJYxY8Y43GgiE5tD2Th1rUeTHJT27t2LrKwsrFy5EjU1NZg8eTJSU1MtplW62xtvvAG9Xm9e6uvrMWjQIHzrW9/qdeOJmELyPpKD0rp167Bo0SIsXrwYsbGxWL9+PSIiIrBx40ab9YODgzFkyBDzUlVVha+++grPP/98l/tobW1Fc3OzxUJkC1NI3kdSUGpra0N1dTVSUlIsylNSUlBZWWnXNoqKijBjxgzz5JW25OfnIzg42LxERERIaSb5EFMKKTOTd/+9haSg1NTUBKPRCK1Wa1Gu1WrR0NDQ4/p6vR6HDh3C4sWLu62Xm5sLg8FgXurr66U0k7zYgQPA8uWWj0FiCsm7OHT3TaFQWLwWQliV2bJ9+3aEhIQgLS2t23oajQYajcaRppEXu7tf5Pr1PDPyVpLOlEJDQ6FUKq3OihobG63OnjoTQqC4uBjp6elQq9XSW0o+j0lt3yApKKnVauh0OpSVlVmUl5WVITExsdt1y8vL8dlnn2HRokXSW0kEJrV9heTLt+zsbKSnpyM+Ph4JCQnYsmUL6urqkJGRAaAjH3Tx4kXs2LHDYr2ioiJMnDgRY8eOdU7LySdw5lrfIzkozZs3D1euXMGaNWug1+sxduxYlJaWmu+m6fV6qz5LBoMB+/btwxtvvOGcVpNP6CqHxGDk3fiUAJKt5cs7emqbLtkyMzvuspG88CkB5DOYQ/JNHJBL8sIHtPk8Xr6RfPABbR6Jl2/kvdgRicCgRHLCJBKBOSWSE3ZEIjAokTt17hkJsCMS8fKN3MTmIyOJGJTIXZjUpi4wKJF7MKlNXWBOiVyGs46QPdh5klyC/SK9FztPkkdiConsxaBELsEUEtmLOSXqM3xAGzmCOSXqE8wh+Q7mlMgjMIdEjmJQoj7BHBI5ijklcorO+SPmkMhRDp0pFRYWIioqCv7+/tDpdKioqOi2fmtrK1auXInIyEhoNBqMGDECxcXFDjWY5KerYWycuZYcIflMae/evcjKykJhYSGSkpKwefNmpKamora2FsOGDbO5zjPPPIPLly+jqKgII0eORGNjI9rb23vdeJIHW/kjBiJymJBowoQJIiMjw6IsJiZG5OTk2Kx/6NAhERwcLK5cuSJ1V2YGg0EAEAaDweFtUN8pKRECEEKp7PhbUuLuFpErOfv3Kenyra2tDdXV1UhJSbEoT0lJQWVlpc11Dhw4gPj4ePz617/Gfffdh1GjRmHFihW4efNml/tpbW1Fc3OzxULyZcofZWby1j/1nqTLt6amJhiNRmi1WotyrVaLhoYGm+ucPXsWH3zwAfz9/bF//340NTVh6dKl+O9//9tlXik/Px+rV6+W0jRyMVuJbQYjcgaHEt0KhcLitRDCqszkzp07UCgU2LlzJyZMmICZM2di3bp12L59e5dnS7m5uTAYDOalvr7ekWZSH+Hz2agvSQpKoaGhUCqVVmdFjY2NVmdPJmFhYbjvvvsQHBxsLouNjYUQAhcuXLC5jkajQVBQkMVC8sGOkdSXJAUltVoNnU6HsrIyi/KysjIkJibaXCcpKQmXLl3CtWvXzGVnzpxBv379EB4e7kCTyd3YMZL6lNTM+J49e4RKpRJFRUWitrZWZGVlicDAQHH+/HkhhBA5OTkiPT3dXL+lpUWEh4eLp59+WvznP/8R5eXl4oEHHhCLFy+2e5+8++Z+JSVCZGX9785aSYkQy5fzThs5//cpOSgJIURBQYGIjIwUarVaxMXFifLycvN7zz33nEhOTraof+rUKTFjxgwREBAgwsPDRXZ2trhx44bd+2NQci/e8qfuOPv3yacEUI+WL+9Iapsu2TIzO3pqEwF8SgC5AXNI5EockEvWOnVC4uBaciVevpElPp2NJOLlG/UtdkIiN2NQIktMIJGbMadElphAIjdjUCKrwbUcXUvuxMs3H8fBtSQ3DEo+jnltkhsGJR/HvDbJDXNKvuiuJNKcOXOY1yZZYedJX8POkeRk7DxJvcMkEskcg5KvYRKJZI45JS9nsw8Sk0gkY8wpeTGmj8gVmFMiuzF9RJ6IQcmLMX1Enog5JS/TOYfE9BF5GuaUvAhzSOQOssgpFRYWIioqCv7+/tDpdKioqOiy7tGjR6FQKKyW06dPO9xoso05JPIGkoPS3r17kZWVhZUrV6KmpgaTJ09Gamoq6urqul3vk08+gV6vNy8PPPCAw40m25hDIm8g+fJt4sSJiIuLw8aNG81lsbGxSEtLQ35+vlX9o0ePYtq0afjqq68QEhLiUCN5+Wa/AweYQyLXcuvlW1tbG6qrq5GSkmJRnpKSgsrKym7XHT9+PMLCwjB9+nQcOXKk27qtra1obm62WMi2Awc65mUzPQdpzpyOOdkYkMhTSQpKTU1NMBqN0Gq1FuVarRYNDQ021wkLC8OWLVuwb98+vPPOO4iOjsb06dPx/vvvd7mf/Px8BAcHm5eIiAgpzfQZfEAbeSOHugQoFAqL10IIqzKT6OhoREdHm18nJCSgvr4ea9euxZQpU2yuk5ubi+zsbPPr5uZmBiYbbCW2eYZEnk7SmVJoaCiUSqXVWVFjY6PV2VN3Jk2ahE8//bTL9zUaDYKCgiwWssbENnkjSUFJrVZDp9OhrKzMorysrAyJiYl2b6empgZhYWFSdk2AVQLJ1DkyM5N9ksiLCIn27NkjVCqVKCoqErW1tSIrK0sEBgaK8+fPCyGEyMnJEenp6eb6r7/+uti/f784c+aM+Pjjj0VOTo4AIPbt22f3Pg0GgwAgDAaD1OZ6j5ISIQAhlMqOvyUl7m4RkRDC+b9PyTmlefPm4cqVK1izZg30ej3Gjh2L0tJSREZGAgD0er1Fn6W2tjasWLECFy9eREBAAMaMGYODBw9i5syZTgqrPoIJJPIRHGbiKTiGhGTK2b9PDsiVMcvBtRxdS76BZ0oyxRMj8hSyGJBLfY+Da8lXMSjJFPsgka9iTkmmmEIiX8WgJCOdnxppWoh8CS/fZIKDa4k6MCjJBBPbRB0YlGSCiW2iDswpuRFnHiGyxs6TbsLOkeQt2HnSSzCHRGQbg5KbMIdEZBtzSi5iqw8Sc0hE1phTcgHmj8ibMafkgZg/IrIfg5ILMH9EZD/mlPoI+yAROYY5pT7AHBL5ElnklAoLCxEVFQV/f3/odDpUVFTYtd6xY8fg5+eHhx9+2JHdegzmkIgcJzko7d27F1lZWVi5ciVqamowefJkpKamWsxgYovBYMCCBQswffp0hxvrKZhDInKc5Mu3iRMnIi4uDhs3bjSXxcbGIi0tDfn5+V2uN3/+fDzwwANQKpV49913cfLkSbv36WmXb0DHJRxzSOQL3Hr51tbWhurqaqSkpFiUp6SkoLKyssv1tm3bhs8//xx5eXl27ae1tRXNzc0Wi9x1mrwWc+YA69YxIBFJJSkoNTU1wWg0QqvVWpRrtVo0NDTYXOfTTz9FTk4Odu7cCT8/+2725efnIzg42LxERERIaabL8QFtRM7jUKJboVBYvBZCWJUBgNFoxHe+8x2sXr0ao0aNsnv7ubm5MBgM5qW+vt6RZroME9tEziOpn1JoaCiUSqXVWVFjY6PV2RMAtLS0oKqqCjU1NfjhD38IALhz5w6EEPDz88Phw4fx2GOPWa2n0Wig0WikNM2tpk0D1q9nYpvIGSQFJbVaDZ1Oh7KyMjz55JPm8rKyMsydO9eqflBQEP79739blBUWFuLvf/873n77bURFRTnYbPfi4FqiviO5R3d2djbS09MRHx+PhIQEbNmyBXV1dcjIyADQcel18eJF7NixA/369cPYsWMt1r/33nvh7+9vVe4p7u4YuX79/zpGcuYRIueQHJTmzZuHK1euYM2aNdDr9Rg7dixKS0sRGRkJANDr9T32WfJktvJHDEZEzsNhJhJxCAmRJWf/Pjkg1w4cXEvkOjxT6gHPjIi6J4sBub6EfZCIXItBqQccXEvkWswp9YA5JCLXYlCywVbnSAYjItfg5VsnHFxL5F4MSp0wsU3kXgxKnTCxTeRePp9T4uBaInnx6c6T7BhJ1HvsPOlEzB8RyY9PByXmj4jkx+dyShxcSyRvPpVTYg6JyPmYU+oF5pCI5M+nghJzSETy5/U5JeaQiDyLV+eUmEMi6nvMKUnAHBKR53EoKBUWFiIqKgr+/v7Q6XSoqKjosu4HH3yApKQk3HPPPQgICEBMTAxef/11hxssBXNIRJ5Hck5p7969yMrKQmFhIZKSkrB582akpqaitrYWw4YNs6ofGBiIH/7wh3jwwQcRGBiIDz74AEuWLEFgYCB+8IMfOOUgusIcEpHnkZxTmjhxIuLi4rBx40ZzWWxsLNLS0pCfn2/XNr75zW8iMDAQf/jDH+yqb+81a+ekNhH1PbfmlNra2lBdXY2UlBSL8pSUFFRWVtq1jZqaGlRWViI5ObnLOq2trWhubrZYesKHsxF5B0lBqampCUajEVqt1qJcq9WioaGh23XDw8Oh0WgQHx+PF198EYsXL+6ybn5+PoKDg81LREREj21jUpvIOziU6FYoFBavhRBWZZ1VVFSgqqoKmzZtwvr167F79+4u6+bm5sJgMJiX+vr6HtvEpDaRd5CU6A4NDYVSqbQ6K2psbLQ6e+osKioKADBu3DhcvnwZq1atwre//W2bdTUaDTQajZSmMalN5CUknSmp1WrodDqUlZVZlJeVlSExMdHu7Qgh0NraKmXXdpkzB1i3jgGJyJNJ7hKQnZ2N9PR0xMfHIyEhAVu2bEFdXR0yMjIAdFx6Xbx4ETt27AAAFBQUYNiwYYiJiQHQ0W9p7dq1+NGPfuTEwyAibyE5KM2bNw9XrlzBmjVroNfrMXbsWJSWliIyMhIAoNfrUVdXZ65/584d5Obm4ty5c/Dz88OIESPw6quvYsmSJc47CiLyGl499o2I+h7HvhGRV2NQIiJZ8YjnKZmuMO3p2U1ErmX6XTorE+QRQamlpQUA7OrZTUTu0dLSguDg4F5vxyMS3Xfu3MGlS5cwYMCAbnuONzc3IyIiAvX19V6VEOdxeRZfOy4hBFpaWjB06FD069f7jJBHnCn169cP4eHhdtcPCgryqi+DCY/Ls/jScTnjDMmEiW4ikhUGJSKSFa8KShqNBnl5eZIH88odj8uz8Lh6xyMS3UTkO7zqTImIPB+DEhHJCoMSEckKgxIRyQqDEhHJiuyDkpTZeAGgvLwcOp0O/v7+uP/++7Fp0yarOvv27cPo0aOh0WgwevRo7N+/v6+a3yUpx/XOO+/g8ccfx+DBgxEUFISEhAT89a9/taizfft2KBQKq+XWrVt9fSgWpBzX0aNHbbb59OnTFvU87fNauHChzeMaM2aMuY67P6/3338fs2fPxtChQ6FQKPDuu+/2uI7LfltCxvbs2SNUKpXYunWrqK2tFcuWLROBgYHiiy++sFn/7Nmzon///mLZsmWitrZWbN26VahUKvH222+b61RWVgqlUileeeUVcerUKfHKK68IPz8/8Y9//MNVhyX5uJYtWyZee+01ceLECXHmzBmRm5srVCqV+Oc//2mus23bNhEUFCT0er3F4kpSj+vIkSMCgPjkk08s2tze3m6u44mf19WrVy2Op76+XgwaNEjk5eWZ67j78yotLRUrV64U+/btEwDE/v37u63vyt+WrIPShAkTREZGhkVZTEyMyMnJsVn/pz/9qYiJibEoW7JkiZg0aZL59TPPPCO+/vWvW9R54oknxPz5853U6p5JPS5bRo8eLVavXm1+vW3bNhEcHOysJjpE6nGZgtJXX33V5Ta94fPav3+/UCgU4vz58+YyOXxeJvYEJVf+tmR7+ebIbLzHjx+3qv/EE0+gqqoKt2/f7raOvTP89pYzZhm+c+cOWlpaMGjQIIvya9euITIyEuHh4fjGN76Bmpoap7W7J705rvHjxyMsLAzTp0/HkSNHLN7zhs+rqKgIM2bMMD/H3sSdn5dUrvxtyTYoOTIbb0NDg8367e3taGpq6rZOTzP8OktvZhk2+c1vfoPr16/jmWeeMZfFxMRg+/btOHDgAHbv3g1/f38kJSXh008/dWr7u+LIcYWFhWHLli3Yt28f3nnnHURHR2P69Ol4//33zXU8/fPS6/U4dOiQ1YzQ7v68pHLlb0v2jy6ROhuvrfqdyx2Z4dfZHG3D7t27sWrVKpSUlODee+81l0+aNAmTJk0yv05KSkJcXBw2bNiA3/72t85reA+kHFd0dDSio6PNrxMSElBfX4+1a9diypQpDm2zrzjahu3btyMkJARpaWkW5XL5vKRw1W9LtmdKjszGO2TIEJv1/fz8cM8993Rbp6cZfp2lN7MM7927F4sWLcKf/vQnzJgxo9u6/fr1wyOPPOKy/3l7c1x3mzRpkkWbPfnzEkKguLgY6enpUKvV3dZ19ecllSt/W7INSo7MxpuQkGBV//Dhw4iPj4dKpeq2jpQZfnvD0VmGd+/ejYULF2LXrl2YNWtWj/sRQuDkyZMICwvrdZvt4azZk2tqaiza7KmfF9BxC/2zzz7DokWLetyPqz8vqVz625KUFncx063YoqIiUVtbK7KyskRgYKD5LkZOTo5IT0831zfdtly+fLmora0VRUVFVrctjx07JpRKpXj11VfFqVOnxKuvvuq2W8z2HteuXbuEn5+fKCgosLh9fPXqVXOdVatWib/85S/i888/FzU1NeL5558Xfn5+4sMPP5Ttcb3++uti//794syZM+Ljjz8WOTk5AoDYt2+fuY4nfl4mzz77rJg4caLNbbr782ppaRE1NTWipqZGABDr1q0TNTU15m4O7vxtyTooCSFEQUGBiIyMFGq1WsTFxYny8nLze88995xITk62qH/06FExfvx4oVarxfDhw8XGjRuttvnWW2+J6OhooVKpRExMjMWPwFWkHFdycrIAYLU899xz5jpZWVli2LBhQq1Wi8GDB4uUlBRRWVnpwiPqIOW4XnvtNTFixAjh7+8vBg4cKB599FFx8OBBq2162uclREdfpYCAALFlyxab23P352XqjtHVd8qdvy0+T4mIZEW2OSUi8k0MSkQkKwxKRCQrDEpEJCsMSkQkKwxKRCQrDEpEJCsMSkQkKwxKRCQrDEpEJCsMSkQkK/8Hcio33lgWKCEAAAAASUVORK5CYII=",
=======
      "image/png": "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",
>>>>>>> rama_3
      "text/plain": [
       "<Figure size 300x300 with 1 Axes>"
      ]
     },
     "metadata": {},
     "output_type": "display_data"
    }
   ],
   "source": [
    "def plot_data(x1_data=None, x2_data=None, y1_data=None, y2_data=None, label_1=None, label_2=None,x3_data=None,y3_data=None, label_3=None):\n",
    "\n",
    "    plt.figure(figsize=(3, 3))\n",
    "    plt.scatter(x1_data, y1_data, c=\"b\" ,s=4, label=label_1)\n",
    "    plt.scatter(x2_data, y2_data, c=\"r\", s=4, label=label_2)\n",
    "    plt.scatter(x3_data, y3_data, c=\"g\", s=4, label=label_3)\n",
    "    plt.legend(prop={\"size\":11})\n",
    "\n",
    "plot_data(x1_data=x_train, x2_data=x_test, y1_data=y_train, y2_data=y_test, label_1=\"data train\", label_2=\"data test\")"
   ]
  },
  {
   "cell_type": "code",
<<<<<<< HEAD
   "execution_count": 34,
=======
   "execution_count": 9,
>>>>>>> rama_3
   "metadata": {},
   "outputs": [],
   "source": [
    "# Regression\n",
    "class LinearRegressionModel(nn.Module): \n",
    "    def __init__(self):\n",
    "        super().__init__()\n",
    "        self.weight = nn.Parameter(torch.randn(1, requires_grad=True, dtype=torch.float32))\n",
    "        self.bias   = nn.Parameter(torch.randn(1, requires_grad=True, dtype=torch.float32))\n",
    "\n",
    "    def forward(self, x:torch.Tensor) -> torch.Tensor:\n",
    "        return self.weight * x + self.bias"
   ]
  },
  {
   "cell_type": "code",
<<<<<<< HEAD
   "execution_count": 35,
=======
   "execution_count": 10,
>>>>>>> rama_3
   "metadata": {},
   "outputs": [
    {
     "data": {
      "text/plain": [
       "[Parameter containing:\n",
       " tensor([0.3367], requires_grad=True),\n",
       " Parameter containing:\n",
       " tensor([0.1288], requires_grad=True)]"
      ]
     },
<<<<<<< HEAD
     "execution_count": 35,
=======
     "execution_count": 10,
>>>>>>> rama_3
     "metadata": {},
     "output_type": "execute_result"
    }
   ],
   "source": [
    "torch.manual_seed(42)\n",
    "\n",
    "model_0 = LinearRegressionModel()\n",
    "list(model_0.parameters())"
   ]
  },
  {
   "cell_type": "code",
<<<<<<< HEAD
   "execution_count": 36,
=======
   "execution_count": 11,
>>>>>>> rama_3
   "metadata": {},
   "outputs": [
    {
     "data": {
      "text/plain": [
       "OrderedDict([('weight', tensor([0.3367])), ('bias', tensor([0.1288]))])"
      ]
     },
<<<<<<< HEAD
     "execution_count": 36,
=======
     "execution_count": 11,
>>>>>>> rama_3
     "metadata": {},
     "output_type": "execute_result"
    }
   ],
   "source": [
    "# Parameters Formato Dic\n",
    "model_0.state_dict()"
   ]
  },
  {
   "cell_type": "code",
<<<<<<< HEAD
   "execution_count": 37,
=======
   "execution_count": 12,
>>>>>>> rama_3
   "metadata": {},
   "outputs": [
    {
     "data": {
      "text/plain": [
<<<<<<< HEAD
       "tensor([[0.1490],\n",
       "        [0.3645],\n",
       "        [0.4588],\n",
       "        [0.4184],\n",
       "        [0.2500],\n",
       "        [0.2837],\n",
       "        [0.3712],\n",
       "        [0.1692],\n",
       "        [0.3174],\n",
       "        [0.3914]])"
      ]
     },
     "execution_count": 37,
=======
       "tensor([[0.4251],\n",
       "        [0.1692],\n",
       "        [0.3982],\n",
       "        [0.4184],\n",
       "        [0.4520],\n",
       "        [0.2972],\n",
       "        [0.3914],\n",
       "        [0.2029],\n",
       "        [0.2837],\n",
       "        [0.3106]])"
      ]
     },
     "execution_count": 12,
>>>>>>> rama_3
     "metadata": {},
     "output_type": "execute_result"
    }
   ],
   "source": [
    "# predic model\n",
    "with torch.inference_mode():\n",
    "    y_pred = model_0(x_test)\n",
    "\n",
    "y_pred"
   ]
  },
  {
   "cell_type": "code",
<<<<<<< HEAD
   "execution_count": 38,
=======
   "execution_count": 13,
>>>>>>> rama_3
   "metadata": {},
   "outputs": [
    {
     "data": {
<<<<<<< HEAD
      "image/png": "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",
=======
      "image/png": "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",
>>>>>>> rama_3
      "text/plain": [
       "<Figure size 300x300 with 1 Axes>"
      ]
     },
     "metadata": {},
     "output_type": "display_data"
    }
   ],
   "source": [
    "plot_data(x2_data=x_test, y2_data= y_test, x3_data=x_test, y3_data=y_pred, label_2=\"data test\", label_3=\"data predic\")"
   ]
  },
  {
   "cell_type": "code",
<<<<<<< HEAD
   "execution_count": 39,
=======
   "execution_count": 14,
>>>>>>> rama_3
   "metadata": {},
   "outputs": [
    {
     "data": {
      "text/plain": [
       "(L1Loss(),\n",
       " SGD (\n",
       " Parameter Group 0\n",
       "     dampening: 0\n",
       "     differentiable: False\n",
       "     foreach: None\n",
       "     lr: 0.01\n",
       "     maximize: False\n",
       "     momentum: 0\n",
       "     nesterov: False\n",
       "     weight_decay: 0\n",
       " ))"
      ]
     },
<<<<<<< HEAD
     "execution_count": 39,
=======
     "execution_count": 14,
>>>>>>> rama_3
     "metadata": {},
     "output_type": "execute_result"
    }
   ],
   "source": [
    "# Loss function L1\n",
    "loss_L1 = nn.L1Loss()\n",
    "\n",
    "# optimizador\n",
    "optimizer = torch.optim.SGD(params=model_0.parameters(), lr=0.01) # lr =learn rate\n",
    "\n",
    "loss_L1, optimizer"
   ]
  },
  {
   "cell_type": "code",
<<<<<<< HEAD
   "execution_count": 40,
=======
   "execution_count": 15,
>>>>>>> rama_3
   "metadata": {},
   "outputs": [
    {
     "name": "stdout",
     "output_type": "stream",
     "text": [
<<<<<<< HEAD
      "Epoch: 0 | MAE Train Loss: 0.34285441040992737 | MAE Test Loss: 0.36199793219566345 \n",
      "Epoch: 50 | MAE Train Loss: 0.04319997876882553 | MAE Test Loss: 0.044810935854911804 \n",
      "Epoch: 100 | MAE Train Loss: 0.018672414124011993 | MAE Test Loss: 0.01907080039381981 \n",
      "Epoch: 150 | MAE Train Loss: 0.006436258554458618 | MAE Test Loss: 0.005515888333320618 \n"
=======
      "Epoch: 0 | MAE Train Loss: 0.3381313681602478 | MAE Test Loss: 0.3807239234447479 \n",
      "Epoch: 50 | MAE Train Loss: 0.04424785077571869 | MAE Test Loss: 0.04692744091153145 \n",
      "Epoch: 100 | MAE Train Loss: 0.019225845113396645 | MAE Test Loss: 0.019680339843034744 \n",
      "Epoch: 150 | MAE Train Loss: 0.006917061749845743 | MAE Test Loss: 0.00515579292550683 \n"
>>>>>>> rama_3
     ]
    }
   ],
   "source": [
    "torch.manual_seed(42)\n",
    "\n",
    "# Track different values\n",
    "epoch_count = []\n",
    "loss_values = []\n",
    "test_loss_values = []\n",
    "\n",
    "epochs = 200                        # loop with epoch\n",
    "\n",
    "for epoch in range(epochs):\n",
    "    \n",
    "    model_0.train()                 # set the model\n",
    "    y_pred = model_0(x_train)       # 1. forward  pass = forward propagation\n",
    "    loss = loss_L1(y_pred, y_train) # 2. cal loss\n",
    "    \n",
    "    optimizer.zero_grad()           # 3. optimizer zero grad\n",
    "    loss.backward()                 # 4. perform backward = backpropagation\n",
    "    optimizer.step()                # 5. step the optimizer\n",
    "\n",
    "    model_0.eval()                  # turns off setting model\n",
    "    with torch.inference_mode():    # turns off gradiend tracking\n",
    "        test_pred = model_0(x_test) # do the fordward pass\n",
    "        test_loss= loss_L1(test_pred, y_test.type(torch.float)) # calculate the los\n",
    "\n",
    "    if epoch % 50 == 0:         # print out what's happenin\n",
    "        epoch_count.append(epoch)\n",
    "        loss_values.append(loss.detach().numpy())               # convert to numpy for plot\n",
    "        test_loss_values.append(test_loss.detach().numpy())     # convert to numpy for plot\n",
    "\n",
    "        print(f\"Epoch: {epoch} | MAE Train Loss: {loss} | MAE Test Loss: {test_loss} \")    # print out model"
   ]
  },
  {
   "cell_type": "code",
<<<<<<< HEAD
   "execution_count": 41,
=======
   "execution_count": 16,
>>>>>>> rama_3
   "metadata": {},
   "outputs": [
    {
     "data": {
      "text/plain": [
<<<<<<< HEAD
       "<matplotlib.legend.Legend at 0x7fa647dbfbb0>"
      ]
     },
     "execution_count": 41,
=======
       "<matplotlib.legend.Legend at 0x7f0e8e9d3c70>"
      ]
     },
     "execution_count": 16,
>>>>>>> rama_3
     "metadata": {},
     "output_type": "execute_result"
    },
    {
     "data": {
<<<<<<< HEAD
      "image/png": "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",
=======
      "image/png": "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",
>>>>>>> rama_3
      "text/plain": [
       "<Figure size 300x300 with 1 Axes>"
      ]
     },
     "metadata": {},
     "output_type": "display_data"
    }
   ],
   "source": [
    "# Plot the loss curves\n",
    "plt.figure(figsize=(3,3))\n",
    "plt.plot(epoch_count, loss_values, label=\"Train loss\")\n",
    "plt.plot(epoch_count, test_loss_values, label=\"Test loss\")\n",
    "plt.title(\"training and test loss curves\")\n",
    "plt.ylabel(\"Loss\")\n",
    "plt.xlabel(\"Epochs\")\n",
    "plt.legend()"
   ]
  },
  {
   "cell_type": "code",
<<<<<<< HEAD
   "execution_count": 42,
=======
   "execution_count": 17,
>>>>>>> rama_3
   "metadata": {},
   "outputs": [
    {
     "data": {
      "text/plain": [
<<<<<<< HEAD
       "[array(0.3428544, dtype=float32),\n",
       " array(0.04319998, dtype=float32),\n",
       " array(0.01867241, dtype=float32),\n",
       " array(0.00643626, dtype=float32)]"
      ]
     },
     "execution_count": 42,
=======
       "[array(0.33813137, dtype=float32),\n",
       " array(0.04424785, dtype=float32),\n",
       " array(0.01922585, dtype=float32),\n",
       " array(0.00691706, dtype=float32)]"
      ]
     },
     "execution_count": 17,
>>>>>>> rama_3
     "metadata": {},
     "output_type": "execute_result"
    }
   ],
   "source": [
    "loss_values"
   ]
  },
  {
   "cell_type": "code",
<<<<<<< HEAD
   "execution_count": 43,
=======
   "execution_count": 18,
>>>>>>> rama_3
   "metadata": {},
   "outputs": [],
   "source": [
    "with torch.inference_mode():\n",
    "    y_pred_new = model_0(x_test)"
   ]
  },
  {
   "cell_type": "code",
<<<<<<< HEAD
   "execution_count": 44,
=======
   "execution_count": 19,
>>>>>>> rama_3
   "metadata": {},
   "outputs": [
    {
     "data": {
      "text/plain": [
<<<<<<< HEAD
       "OrderedDict([('weight', tensor([0.6921])), ('bias', tensor([0.2973]))])"
      ]
     },
     "execution_count": 44,
=======
       "OrderedDict([('weight', tensor([0.6952])), ('bias', tensor([0.2953]))])"
      ]
     },
     "execution_count": 19,
>>>>>>> rama_3
     "metadata": {},
     "output_type": "execute_result"
    }
   ],
   "source": [
    "model_0.state_dict()"
   ]
  },
  {
   "cell_type": "code",
<<<<<<< HEAD
   "execution_count": 45,
=======
   "execution_count": 20,
>>>>>>> rama_3
   "metadata": {},
   "outputs": [
    {
     "data": {
<<<<<<< HEAD
      "image/png": "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",
=======
      "image/png": "iVBORw0KGgoAAAANSUhEUgAAASYAAAEXCAYAAAAA4unSAAAAOXRFWHRTb2Z0d2FyZQBNYXRwbG90bGliIHZlcnNpb24zLjYuMiwgaHR0cHM6Ly9tYXRwbG90bGliLm9yZy8o6BhiAAAACXBIWXMAAA9hAAAPYQGoP6dpAAAprUlEQVR4nO3de1RU570+8GeYgeEiFxVFEAQ0gqiJiYMSMQhGQ45agVwq5iKaahtqcwxQ08ihDeKxZaVJOSYGiDGgtdHEJl6gES2TFUC8nKgE2iRoTL0BCiI2AlG5De/vDw7zyzgDMjjMbIbns9ZerHnZl+/W8XHvPe+8r0wIIUBEJCE2li6AiOhODCYikhwGExFJDoOJiCSHwUREksNgIiLJYTARkeQwmIhIchhMRCQ5DCYikhyjg+nw4cNYvHgxvLy8IJPJsH///rtuU1JSApVKBXt7e4wfPx7vvvtuf2oloiHC6GC6efMmpk2bhnfeeadP61+4cAELFy5EWFgYysvL8V//9V9Ys2YN9uzZY3SxRDQ0yO7lS7wymQz79u1DTExMj+u8+uqryM/Px+nTp7Vt8fHx+Mc//oHjx4/36TidnZ24cuUKnJ2dIZPJ+lsuEQ0AIQSam5vh5eUFGxvTPB1SmGQvvTh+/DgiIyN12h5//HHk5OSgvb0dtra2etu0traitbVV+/ry5cuYPHnyQJdKRPeguroa3t7eJtnXgAdTXV0dPDw8dNo8PDzQ0dGBhoYGeHp66m2Tnp6OtLQ0vfbq6mq4uLgMWK1EZLympib4+PjA2dnZZPsc8GACoHf71X332NNtWXJyMpKSkrSvu0/cxcWFwUQkUaZ8zDLgwTRmzBjU1dXptNXX10OhUGDkyJEGt1EqlVAqlQNdGhFJ1ID3Y5o1axbUarVOW2FhIYKDgw0+XyIiMjqYfvjhB1RUVKCiogJAV3eAiooKVFVVAei6DYuLi9OuHx8fj0uXLiEpKQmnT59Gbm4ucnJysHbtWtOcARFZH2GkoqIiAUBvWb58uRBCiOXLl4vw8HCdbYqLi8VDDz0k7OzshJ+fn8jOzjbqmI2NjQKAaGxsNLZcIhpgA/Hv8576MZlLU1MTXF1d0djY2OvDbyEENBoNOjo6zFgdkS5bW1vI5XJLl2E2ff33aQyzfCo30IQQuHHjBq5duwaNRmPpcojg5uaGMWPGsENwP1lFMNXV1eHGjRva7gQKhYJvCLIIIQRu3bqF+vp6ADDYT2+wyM8HioqAuXOBqCjzHnvQB5NGo0FjYyNGjRoFd3d3S5dDBAcHBwBd3WJGjx49KG/r8vOB6GhALgc2bQLy8swbToN+2JP29nYIIeDk5GTpUoi0HB0dAXS9PwejoqKuUNJoun4WF5v3+IM+mLrx1o2kZLC/H+fOBTT35UP2H4nQ3JePiAjzHn/Q38oR0QAIzAeeiQaEHHh4ExCYB8B893JWc8VERKZTdKEIcpkcQqaBXCZH8cVisx6fwSRxDQ0NkMlk2L59u1HbFRcX4w9/+IPJ6rh48SLWr1+PK1eumGyfP7Z9+3bs2rVrQPZNxpvrPxca0RVKGqFBhF+EWY/PYLJSAxFMaWlpDKYhIiowCnlL87AmZA3yluYhKtC8/QX4jImIDIoKjDJ7IHXjFZPEbN26FX5+fnB0dMS8efPwr3/9S2+dHTt24JFHHsGIESMwfPhwRERE4MSJE9rfr1+/Hmlpabh58yZkMhlkMhki/u9jlTNnzmDp0qXw8fGBo6MjJk+ejD/96U/o7Ozssabi4mLMnTsXADBjxgztPrvduHEDq1evhqenJ5RKJVQqFQoLC3X2cfToUcyZMweurq5wdnbG/fffjz//+c8AgIiICJSUlODAgQPafa9fv76/f4RkBXjFJCGffvopfvGLX2DFihVYunQpTp06haVLl+qtd/HiRcTFxWHChAloa2vDrl27MGfOHPzzn/9EQEAAVq1ahZqaGuzatQuff/45AGi/w3T58mUEBgbiueeeg7OzMyoqKpCamoqbN2/itddeM1jX9OnTkZmZiV/96lfYtm0bJk2apP1dW1sbHnvsMVy9ehW///3vMXbsWHzwwQdYtGgRvvzyS9x///1oamrCokWL8Mgjj+DDDz+EUqlEZWUlbty4AQDIysrC888/D0dHR7z55psAYLIhWmmQMtnXgQdQb99evn37tqisrBS3b9826THz8oRISOj6aS4hISEiLCxMpy05OVkAENu2bTO4jUajEe3t7SIwMFAkJydr21NTU4WTk1Ovx+vs7BTt7e3i97//vfD09Ox13e5RJU6ePKnTnpubKxQKhfjmm2902mfOnCl++tOfCiGEOHnypAAg/vnPf/a4//DwcLFo0aJeaxhMBup9KUUDMboAb+UM6O6Ov3lz18/8/IE/pkajQVlZGZ544gmd9qefflpv3dOnT+OJJ56Ah4cH5HI5bG1t8e233+Ls2bN3PU5LSwtSU1Nx3333QalUwtbWFikpKaitrcUPP/xgdN2FhYW4//77ERAQgI6ODu0yb948nDx5EgAwYcIEuLi44Je//CX++te/4tq1a0Yfh4YWBpMBluiOf+3aNXR0dGD06NE67XdO5NDc3IzIyEhcunQJGRkZKC0txcmTJzFt2jS0tLTc9Tivvvoq3njjDfz85z9HQUEBTp48id/+9rcA0Kft79TQ0IDy8nLY2trqLOnp6aiurgYADB8+HGq1Gs7Ozli2bBnGjBmDiIgIfPXVV0Yfj4YGPmMyYO7cri8udoeTObrjjxo1CgqFQvut9G5Xr17VeX38+HHU1NTg008/xbRp07TtjY2NfXou8/HHH+PFF1/Eq6++qm07cOBAv+seMWIEHnjgAeTk5PS63syZM3Hw4EHcvn0bRUVFWLt2LWJiYnDu3Ll+H5usF4PJgKiorm9TFxd3hZI5vlUtl8sxffp07Nu3D4mJidr2Tz75RGe927dvAwDs7Oy0bceOHcPFixcxZcoUbZudnZ3O3Hw/3v7H22o0Gnz00Ud3ra97mzuvqubPn4+CggJ4eXnBy8vrrvtxcHDAwoULce7cObz88stoaWmBvb097Ozs+nXFRtaJwdSDqCjzj0GTkpKC6OhovPDCC9pP5e7sdPjwww9j2LBh+NWvfoV169bh8uXLWL9+PcaOHauzXlBQEDo6OvDWW28hNDQULi4uCAwMxGOPPYatW7di8uTJGDVqFDIzMw0G2J0CAgIgl8uRm5urfa4VHByMuLg4bNmyBREREVi7di0CAgJw48YNlJeXo62tDenp6Thw4ABycnLwxBNPYNy4cairq8PmzZsxe/Zs2Nvba+v985//jL/97W/w9PTsc9CRlTLZY/QBZIlP5Szl3XffFT4+PsLe3l6Eh4eLY8eO6X0qd/DgQTFlyhRhb28vHnjgAVFQUKD3qVZ7e7tYvXq18PDwEDKZTDsOe11dnYiJiRHOzs7Cw8NDvPrqq2Lr1q0CgLh27dpdaxs/frxQKBTix2+dxsZGkZiYKMaNGydsbW2Fp6enWLhwofj000+FEEKcOXNGPPXUU8LHx0fY2dkJLy8vsWLFClFbW6vdR01NjVi4cKFwc3MTAERqauq9/2FakLW9L3vDMb8NjCnc0tKCCxcuwN/fX/u/L5GlDaX35UCM+c1P5YhIchhMRFYiPx9ITDRPv7uBxmAisgKW6BQ8kBhMRFbA0mN0m1q/gikrK0v7UE+lUqG0tLTX9TMzMxEUFAQHBwcEBgZix44d/SqWiAyz9BjdpmZ0P6bdu3cjISEBWVlZmD17NrZs2YIFCxagsrIS48aN01s/OzsbycnJ2Lp1K2bMmIETJ07g5z//OYYPH47Fixeb5CSIhjwLj9FtakZfMWVkZGDlypVYtWoVgoKCsGnTJvj4+CA7O9vg+n/5y1/w4osvIjY2FuPHj8fSpUuxcuVKvP766/dcPNFQdeeDbkuP0W1qRgVTW1sbysrKEBkZqdMeGRmJY8eOGdymtbVVrx+Hg4MDTpw40eOcW62trWhqatJZiKiLoQfdlh6j29SMCqaGhgZoNBq9b7x7eHigrq7O4DaPP/443n//fZSVlUEIgVOnTiE3Nxft7e1oaGgwuE16ejpcXV21i4+PjzFlElk1Qw+6LT1Gt6n16+H3nZP5CSF6nODvd7/7HRYsWICHH34Ytra2iI6OxooVKwCgx6mTk5OT0djYqF26h88YiqQyS4olvfnmm4N+AklT6ulBd1RgFDIezxj0oQQYGUzu7u6Qy+V6V0f19fV6V1HdHBwckJubi1u3buHixYuoqqqCn58fnJ2d4e7ubnAbpVIJFxcXnYWMY03BRHfoftAdsrnrZ+Ag77RkgFHBZGdnB5VKBbVardOuVqsRGhra67a2trbw9vaGXC7HRx99hJ/85CewsWE3qqGAw5mYlrU96DbE6GRISkrC+++/j9zcXJw+fRqJiYmoqqpCfHw8gK7bsLi4OO36Z8+exQcffIDvvvsOJ06cwNKlS/H111/zf/MeSHGWFKDrCkwmk6GgoABPPvkknJyc4Onpqff3uH79egwbNgwnTpzArFmzYG9vj82bNwPoGhI4Ojoarq6ucHJywqJFi/QGimtqakJcXBycnZ0xatQo/OY3v0FHR8dd/9y2b98OmUyGL7/8EgsWLICTkxMmTpxosM/cgQMHEBISAgcHB4waNQq//OUvcfPmTe3vJ0yYoDMxw/79+yGTyZCUlKRt++yzzyCTyVBTU3PX2kzN2h50G9SfIQkyMzOFr6+vsLOzE9OnTxclJSXa3y1fvlw7xIYQQlRWVooHH3xQODg4CBcXFxEdHS3OnDlj1PGGyrAnf/vb3wQAsWLFCnHo0CGxceNG4evrqzfsSVpamtiyZYv47LPPREFBgXj++eeFUqkU3377rRBCiOrqarFy5Urh4OAgjh8/Lo4fP66dLOCzzz4Tr732msjPzxdFRUXif/7nf4SLi4tIS0vrtbbuyQjGjh0r1q5dKw4dOiTWrl0rAIjs7GzteqmpqcLW1lbcd999IjMzUxQVFYmKigpx7tw54ebmJh555BGxd+9esX//fjFjxgzh6+srWlpatNs/9dRTYtiwYeKdd94RBw4cEAsXLhRjx44Vd3urbtu2TQAQQUFBIiMjQxQWFoqnnnpKyGQynYkSPv74Y2FjYyNWrlwpDh48KHJzc8Xo0aNFbGysdp0VK1aIOXPmaF8nJiYKe3t7MX36dG3b7373O+Hv799jPQP9vsw7kycSDyWKvDNmnC2jBwMx7AnHY5KQwTBLyrJly3Tan3/+eeHt7S00Go32uADEX//6V5314uLihL+/v87fU319vXBychKZmZlCiK7/xGQymcjJydGu097eLsaNG9fnYOrelxBCNDU1CXt7e/Hf//3f2vP19fUVzzzzjM62Bw4cEDKZTHz99ddCiK6ZX5RKpbZWlUolXnrpJWFjYyNu3LghhOia1WX58uU91mNN78u74SwpZpT/bT4SDyUi/1vzPFgcLLOk3Fnfk08+iZqaGr1bmoULF+q8LiwsRHR0NBQKhXYmleHDh2PatGna2VROnDgBIYTOMRQKBaKjo+9aV7cf97FzdnaGj4+PtrazZ8/i0qVLWLJkic6MLuHh4ZDJZDh16hQAYM6cOWhtbcUXX3yB5uZmVFRUID4+HiNHjsSRI0fQ1taGL774AnPmzOlzXWQcDq1rQP63+Yj+KBpymRybvthkln4hxs6SMmrUKGRkZMDX1xf29vZYtWpVn2dJ2bp1K1JTU6FSqeDm5oa8vDxs3LgRLS0tGDZsWK/b31lf9+va2lrtV5IcHR3h5OSks15DQwM2bdqETZs26e3TwcFBuw9bW1sMHz681z+D3ri5uem8/vFY4t395u4M127d3VImTJgAb29vHD58GLdv38bw4cMxefJkhIWF4fDhw3B1dUVLSwvCw8P7XBcZh8FkQPenHt0PGIsvFg94MA2WWVLurK/7taenp7bNUJ+jESNGYNGiRVi9erXe75ydnbX7aG9vx/fff68TTnf+GfTXiBEjAADvvPMOQkJC9H7/4zHGw8LCUFJSgtu3byMsLAwymQxz5szBhx9+CFdXV3h5eWHChAkmqYv08VbOAEt86vHjWVJ+zJhZUn7M1LOkdLuzvr1798LLy+uuoTh//nx8/fXXeOihhxAcHKyzBAYGAgBmzJgBmUymc4yOjg7k5eX1ub7eTJo0Cd7e3jh//rxeDcHBwTrBNGfOHBw/fhyfffaZ9sooPDwcZWVlKCgo4G3cAOMVkwHd3fuLLxYjwi/CbD1ppTxLSrfPP/8cr7zyCh577DGo1Wp88MEHyMzMvGuftLS0NMyYMQOPP/44fvGLX2i/xlRSUoKwsDA888wzmDx5MmJiYpCQkICWlhb4+fkhMzMTGo2m73+IvZDJZMjIyMCzzz6LmzdvYtGiRXBycsKlS5dw4MAB/OEPf0BAQACArmC6desWTp48iS1btgAAHnjgAQwbNgxHjx5FVlaWSWqiHpjsMfoAGiqfygkh3VlSuj+V+/TTT8XixYuFo6Oj8PDw0H7i1a23TwPPnj0rlixZIkaOHCmUSqXw8/MTcXFx2k/DhBDi+++/F88995xwcnISI0eOFElJSSI9Pb3Pn8rdeQ5TpkzR+/SssLBQhIeHCycnJ+Hk5CSmTJkifv3rX2s/ces2atQo4erqqv3EUQghfvKTnwgAOjUb0pf3ZV6eEAkJXT8HM86SwllSLKa4uBhz587FyZMnERwcbOlyJO9u78vuEQK6v4ybl2f+eQxNhbOkEFkJaxsK19QYTEQWYG1D4ZoaH35Tn0RERGAQ3PUPHlY2FK6p8YqJaIAZmu9tKIwQcC8YTEQD6PPPDc/3NiRGCLgHVnMrx9sMkpLu9+P//q+BYXCjLNdXbrAY9MFka2sLmUyGmzdvar9zRWRpt27dAgDMmGHb9ZDbvwiaC3MREfH/AygqMIqB1INBH0xyuRyurq64du0aWltb4eLiAoVCwTGiySKEELh16xbq6+vh5uYGEXCAD7n7YdAHEwCMGTMGDg4OqK+v51RPJAlubm4YM2YMiv7xf18Ih/m+EG4NrCKYZDIZ3Nzc4OrqCo1G06ehWIkGiq2trXYGoLn+c7Hpi018yG0kqwimbjKZDAqFAgqFVZ0WDWJ8yN0/g/67ckRkWfyuHBENCQwmIpIcBhMRSQ6DiYgkh8FERJLDYCIiyelXMGVlZWmHDFWpVCgtLe11/Z07d2LatGlwdHSEp6cnXnjhBVy/fr1fBROR9TM6mHbv3o2EhASkpKSgvLwcYWFhWLBgAaqqqgyuf+TIEcTFxWHlypX45ptv8PHHH+PkyZNYtWrVPRdPRFbK2NkLZs6cKeLj43XaJk2aJNatW2dw/TfeeEOMHz9ep+3tt98W3t7efT7mQMzCQESmMRD/Po26Ympra0NZWZnO/PBA13zxx44dM7hNaGgoampqUFBQACEErl69ik8++QSLFi3q8Titra1oamrSWYho6DAqmBoaGqDRaPTmku+evNCQ0NBQ7Ny5E7GxsbCzs8OYMWPg5uaGzZs393ic9PR0uLq6ahcfHx9jyiSiQa5fD7/vHOtICNHj+EeVlZVYs2YNXnvtNZSVleHQoUO4cOEC4uPje9x/cnIyGhsbtUt1dXV/yiSiQcqor+G7u7tDLpfrXR3V19frXUV1S09Px+zZs/HKK68A6Jpm2cnJCWFhYdi4cSM8PT31tlEqlVAqlcaURkRWxKgrJjs7O6hUKqjVap12tVqN0NBQg9vcunVLb1777rFqhPQHNiAiCzD6Vi4pKQnvv/8+cnNzcfr0aSQmJqKqqkp7a5acnIy4uDjt+osXL8bevXuRnZ2N8+fP4+jRo1izZg1mzpwJLy8v050JEVkNo0dUi42NxfXr17FhwwbU1tZi6tSpKCgogK+vLwCgtrZWp0/TihUr0NzcjHfeeQe//vWv4ebmhkcffRSvv/666c6CiKwKB4ojonvCgeKIaEhgMBGR5DCYiEhyGExEJDkMJiKSHAYTEUkOg4mIJIfBRESSw2AiIslhMBGR5DCYiEhyGExEJDkMJiKSHAYTEUkOg4mIJIfBRESSw2AiIslhMBGR5DCYiEhyGExEJDkMJiKSHAYTEUkOg4mIJIfBRESS069gysrKgr+/P+zt7aFSqVBaWtrjuitWrIBMJtNbpkyZ0u+iici6GR1Mu3fvRkJCAlJSUlBeXo6wsDAsWLBAZ1rwH3vrrbdQW1urXaqrqzFixAj89Kc/vefiicg6GT1FeEhICKZPn47s7GxtW1BQEGJiYpCenn7X7ffv348nn3wSFy5cgK+vb5+OySnCiaTL4lOEt7W1oaysDJGRkTrtkZGROHbsWJ/2kZOTg/nz5/caSq2trWhqatJZiGjoMCqYGhoaoNFo4OHhodPu4eGBurq6u25fW1uLgwcPYtWqVb2ul56eDldXV+3i4+NjTJlENMj16+G3TCbTeS2E0GszZPv27XBzc0NMTEyv6yUnJ6OxsVG7VFdX96dMIhqkFMas7O7uDrlcrnd1VF9fr3cVdSchBHJzc7Fs2TLY2dn1uq5SqYRSqTSmNCKyIkZdMdnZ2UGlUkGtVuu0q9VqhIaG9rptSUkJ/vWvf2HlypXGV0lEQ4pRV0wAkJSUhGXLliE4OBizZs3Ce++9h6qqKsTHxwPoug27fPkyduzYobNdTk4OQkJCMHXqVNNUTkRWy+hgio2NxfXr17FhwwbU1tZi6tSpKCgo0H7KVltbq9enqbGxEXv27MFbb71lmqqJyKoZ3Y/JEtiPybrk5wNFRcDcuUBUlKWroXtl8X5MRPcqPx+IjgY2b+76mZ9v6YpIihhMZFZFRYBNUD408xNhE5SP4mJLV0RSZPQzJqJ74Tg9H51u0UCnHJ2zNsFhfB4A3s+RLl4xkVndGlUEG8gBGw1sIMft0cWWLokkiMFEZjXXfy46oYFcJkcnNIjwi7B0SSRBvJUjs4oKjELe0jwUXyxGhF8EogJ5G0f62F2AiO4JuwsQ0ZDAYCIiyWEwkcnk5wOJiew0SfeOwUQmwR7dZEoMJjIJ9ugmU2J3ATIJ9ugmU+IVE5kEe3STKTGYyCTYo5tMibdyZBLs0U2mxJ7fRHRP2PObiIYEBhMRSQ6Die6KPbrJ3BhM1Cv26CZLYDBRr9ijmyyB3QWoV+zRTZbAKybqFXt0kyUwmKhX7NFNltCvYMrKyoK/vz/s7e2hUqlQWlra6/qtra1ISUmBr68vlEolJkyYgNzc3H4VTObV3aN7Tcga5C3NY49uMgujnzHt3r0bCQkJyMrKwuzZs7FlyxYsWLAAlZWVGDdunMFtlixZgqtXryInJwf33Xcf6uvr0dHRcc/Fk3lEBUYxkMisjP5KSkhICKZPn47s7GxtW1BQEGJiYpCenq63/qFDh7B06VKcP38eI0aM6NMxWltb0draqn3d1NQEHx8ffiWFSIIs/pWUtrY2lJWVITIyUqc9MjISx44dM7hNfn4+goOD8cc//hFjx45FQEAA1q5di9u3b/d4nPT0dLi6umoXHx8fY8okokHOqFu5hoYGaDQaeHh46LR7eHigrq7O4Dbnz5/HkSNHYG9vj3379qGhoQGrV6/Gv//97x6fMyUnJyMpKUn7uvuKiYiGhn71Y5LJZDqvhRB6bd06Ozshk8mwc+dOuLq6AgAyMjLw9NNPIzMzEw4ODnrbKJVKKJXK/pRGRFbAqFs5d3d3yOVyvauj+vp6vauobp6enhg7dqw2lICuZ1JCCNTU1PSjZCKydkYFk52dHVQqFdRqtU67Wq1GaGiowW1mz56NK1eu4IcfftC2nT17FjY2NvD29u5HyURk7Yzux5SUlIT3338fubm5OH36NBITE1FVVYX4+HgAXc+H4uLitOs/++yzGDlyJF544QVUVlbi8OHDeOWVV/Czn/3M4G0cEZHRz5hiY2Nx/fp1bNiwAbW1tZg6dSoKCgrg6+sLAKitrUVVVZV2/WHDhkGtVuM///M/ERwcjJEjR2LJkiXYuHGj6c6CiKwKh9Ylonti8X5MRETmwGAiIslhMBGR5DCYiEhyGExEJDkMJiKSHAYTEUkOg4mIJIfBRESSw2AiIslhMBGR5DCYiEhyGExEJDkMJiKSHAYTEUkOg4mIJIfBRESSw2AiIslhMBGR5DCYiEhyGExEJDkMJiKSHAYTEUkOg4mIJKdfwZSVlQV/f3/Y29tDpVKhtLS0x3WLi4shk8n0ljNnzvS7aCKybkYH0+7du5GQkICUlBSUl5cjLCwMCxYs0JkW3JBvv/0WtbW12mXixIn9LpqIrJvRwZSRkYGVK1di1apVCAoKwqZNm+Dj44Ps7Oxetxs9ejTGjBmjXeRyeb+LJiLrZlQwtbW1oaysDJGRkTrtkZGROHbsWK/bPvTQQ/D09MS8efNQVFTU67qtra1oamrSWYho6DAqmBoaGqDRaODh4aHT7uHhgbq6OoPbeHp64r333sOePXuwd+9eBAYGYt68eTh8+HCPx0lPT4erq6t28fHxMaZMIhrkFP3ZSCaT6bwWQui1dQsMDERgYKD29axZs1BdXY0333wTc+bMMbhNcnIykpKStK+bmpoYTkRDiFFXTO7u7pDL5XpXR/X19XpXUb15+OGH8d133/X4e6VSCRcXF52FiIYOo4LJzs4OKpUKarVap12tViM0NLTP+ykvL4enp6cxhyaiIcToW7mkpCQsW7YMwcHBmDVrFt577z1UVVUhPj4eQNdt2OXLl7Fjxw4AwKZNm+Dn54cpU6agra0NH3zwAfbs2YM9e/aY9kyIyGoYHUyxsbG4fv06NmzYgNraWkydOhUFBQXw9fUFANTW1ur0aWpra8PatWtx+fJlODg4YMqUKThw4AAWLlxourMgIqsiE0IISxdxN01NTXB1dUVjYyOfNxFJzED8++R35YhIchhMRCQ5DCYikhwGExFJDoOJiCSHwUREksNgIiLJYTD1Q34+kJjY9ZOITI/BZKT8fCA6Gti8uesnw4nI9BhMRioqAmyC8qGZnwiboHwUF1u6IiLr06/xmIYyx+n56HSLBjrl6Jy1CQ7j8wBEWbosIqvCKyYj3RpVBBvIARsNbCDH7dHFli6JyOowmIw0138uOqGBXCZHJzSI8IuwdElEVoe3ckaKCoxC3tI8FF8sRoRfBKICeRtHZGoc9oSI7gmHPSGiIYHBRESSw2AiIslhMBGR5DCYiEhyGExEJDkMJiKSHAYTEUkOg4mIJKdfwZSVlQV/f3/Y29tDpVKhtLS0T9sdPXoUCoUCDz74YH8OS0RDhNHBtHv3biQkJCAlJQXl5eUICwvDggULdKYFN6SxsRFxcXGYN29ev4sloqHB6O/KhYSEYPr06cjOzta2BQUFISYmBunp6T1ut3TpUkycOBFyuRz79+9HRUVFn4/J78oRSZfFvyvX1taGsrIyREZG6rRHRkbi2LFjPW63bds2nDt3DqmpqX06TmtrK5qamnQWIho6jAqmhoYGaDQaeHh46LR7eHigrq7O4Dbfffcd1q1bh507d0Kh6NsoK+np6XB1ddUuPj4+xpRJRINcvx5+y2QynddCCL02ANBoNHj22WeRlpaGgICAPu8/OTkZjY2N2qW6uro/ZRLRIGXUQHHu7u6Qy+V6V0f19fV6V1EA0NzcjFOnTqG8vBwvvfQSAKCzsxNCCCgUChQWFuLRRx/V206pVEKpVBpTGhFZEaOumOzs7KBSqaBWq3Xa1Wo1QkND9dZ3cXHBV199hYqKCu0SHx+PwMBAVFRUICQk5N6qJyKrZPTQuklJSVi2bBmCg4Mxa9YsvPfee6iqqkJ8fDyArtuwy5cvY8eOHbCxscHUqVN1th89ejTs7e312k0hP79reqW5c4EojnhLNGgZHUyxsbG4fv06NmzYgNraWkydOhUFBQXw9fUFANTW1t61T9NA6J6IUi4HNm0C8vIYTkSDldWM+Z2YCLz993x0jiuCTdVcvPwfUcjIMHOhREPQQPRjsppZUjgRJZH1sJov8XIiSiLrYTXBxIkoiayH1dzKcSJKIuthNQ+/icgyLP4lXiIic2AwEZHkMJiISHIYTEQkOQwmIpKcQdFdoPuDQ45kSSQ93f8uTfkB/6AIpubmZgDgSJZEEnb9+nW4urqaZF+Doh9TZ2cnrly5AmdnZ4MjZQ6kpqYm+Pj4oLq6elD3oeJ5SI+1nEtjYyPGjRuH77//Hm5ubibZ56C4YrKxsYG3t7dFa3BxcRnUb55uPA/psZZzsbEx3SNrPvwmIslhMBGR5DCY7kKpVCI1NXXQT47A85AeazmXgTiPQfHwm4iGFl4xEZHkMJiISHIYTEQkOQwmIpIcBhMRSc6QD6asrCz4+/vD3t4eKpUKpaWlPa67d+9ePPbYYxg1ahRcXFwwa9Ys/P3vfzdjtb0z5lx+7OjRo1AoFHjwwQcHtsA+MvY8WltbkZKSAl9fXyiVSkyYMAG5ublmqrZnxp7Hzp07MW3aNDg6OsLT0xMvvPACrl+/bqZqDTt8+DAWL14MLy8vyGQy7N+//67blJSUQKVSwd7eHuPHj8e7775r/IHFEPbRRx8JW1tbsXXrVlFZWSlefvll4eTkJC5dumRw/Zdfflm8/vrr4sSJE+Ls2bMiOTlZ2Nraii+//NLMlesz9ly63bhxQ4wfP15ERkaKadOmmafYXvTnPKKiokRISIhQq9XiwoUL4osvvhBHjx41Y9X6jD2P0tJSYWNjI9566y1x/vx5UVpaKqZMmSJiYmLMXLmugoICkZKSIvbs2SMAiH379vW6/vnz54Wjo6N4+eWXRWVlpdi6dauwtbUVn3zyiVHHHdLBNHPmTBEfH6/TNmnSJLFu3bo+72Py5MkiLS3N1KUZrb/nEhsbK37729+K1NRUSQSTsedx8OBB4erqKq5fv26O8vrM2PN44403xPjx43Xa3n77beHt7T1gNRqrL8H0m9/8RkyaNEmn7cUXXxQPP/ywUccasrdybW1tKCsrQ2RkpE57ZGQkjh071qd9dHZ2orm5GSNGjBiIEvusv+eybds2nDt3DqmpqQNdYp/05zzy8/MRHByMP/7xjxg7diwCAgKwdu1a3L592xwlG9Sf8wgNDUVNTQ0KCgoghMDVq1fxySefYNGiReYo2WSOHz+ud96PP/44Tp06hfb29j7vZ1CMLjAQGhoaoNFo4OHhodPu4eGBurq6Pu3jT3/6E27evIklS5YMRIl91p9z+e6777Bu3TqUlpZCoZDG26A/53H+/HkcOXIE9vb22LdvHxoaGrB69Wr8+9//tthzpv6cR2hoKHbu3InY2Fi0tLSgo6MDUVFR2Lx5szlKNpm6ujqD593R0YGGhgZ4enr2aT9D9oqp253jOwkh+jTm04cffoj169dj9+7dGD169ECVZ5S+notGo8Gzzz6LtLQ0BAQEmKu8PjPm76SzsxMymQw7d+7EzJkzsXDhQmRkZGD79u0WvWoCjDuPyspKrFmzBq+99hrKyspw6NAhXLhwAfHx8eYo1aQMnbeh9t5I479KC3B3d4dcLtf7H6y+vl4v8e+0e/durFy5Eh9//DHmz58/kGX2ibHn0tzcjFOnTqG8vBwvvfQSgK5/4EIIKBQKFBYW4tFHHzVL7T/Wn78TT09PjB07VmfkxKCgIAghUFNTg4kTJw5ozYb05zzS09Mxe/ZsvPLKKwCABx54AE5OTggLC8PGjRv7fKVhaWPGjDF43gqFAiNHjuzzfobsFZOdnR1UKhXUarVOu1qtRmhoaI/bffjhh1ixYgV27dolmft/Y8/FxcUFX331FSoqKrRLfHw8AgMDUVFRgZCQEHOVrqM/fyezZ8/GlStX8MMPP2jbzp49a9HBBftzHrdu3dIbaE0ulwMw7VjaA23WrFl6511YWIjg4GDY2tr2fUdGPSq3Mt0f6ebk5IjKykqRkJAgnJycxMWLF4UQQqxbt04sW7ZMu/6uXbuEQqEQmZmZora2VrvcuHHDUqegZey53Ekqn8oZex7Nzc3C29tbPP300+Kbb74RJSUlYuLEiWLVqlWWOgUhhPHnsW3bNqFQKERWVpY4d+6cOHLkiAgODhYzZ8601CkIIbr+fMvLy0V5ebkAIDIyMkR5ebm228Od59HdXSAxMVFUVlaKnJwcdhfoj8zMTOHr6yvs7OzE9OnTRUlJifZ3y5cvF+Hh4drX4eHhAoDesnz5cvMXboAx53InqQSTEMafx+nTp8X8+fOFg4OD8Pb2FklJSeLWrVtmrlqfsefx9ttvi8mTJwsHBwfh6ekpnnvuOVFTU2PmqnUVFRX1+p43dB7FxcXioYceEnZ2dsLPz09kZ2cbfVyOx0REkjNknzERkXQxmIhIchhMRCQ5DCYikhwGExFJDoOJiCSHwUREksNgIiLJYTARkeQwmIhIchhMRCQ5/w8g0OVceBzf3AAAAABJRU5ErkJggg==",
>>>>>>> rama_3
      "text/plain": [
       "<Figure size 300x300 with 1 Axes>"
      ]
     },
     "metadata": {},
     "output_type": "display_data"
    }
   ],
   "source": [
    "plot_data(x1_data=x_test, y1_data=y_test, x3_data= x_test, y3_data=y_pred_new, label_1=\"data test\", label_3=\"data pred new\")"
   ]
  },
  {
   "cell_type": "code",
<<<<<<< HEAD
   "execution_count": 56,
=======
   "execution_count": 21,
>>>>>>> rama_3
   "metadata": {},
   "outputs": [],
   "source": [
    "torch.save(obj=model_0.state_dict(), f=\"model_0.pt\")    # save model"
   ]
  },
  {
   "cell_type": "code",
<<<<<<< HEAD
   "execution_count": 3,
=======
   "execution_count": 22,
>>>>>>> rama_3
   "metadata": {},
   "outputs": [
    {
     "data": {
      "text/plain": [
<<<<<<< HEAD
       "OrderedDict([('weight', tensor([0.6921])), ('bias', tensor([0.2973]))])"
      ]
     },
     "execution_count": 3,
=======
       "OrderedDict([('weight', tensor([0.6952])), ('bias', tensor([0.2953]))])"
      ]
     },
     "execution_count": 22,
>>>>>>> rama_3
     "metadata": {},
     "output_type": "execute_result"
    }
   ],
   "source": [
    "# load model and with state_dict\n",
    "#load_model = LinearRegressionModel()\n",
    "#load_model.load_state_dict(torch.load(f=\"model_0.pt\"))\n",
    "load_model = torch.load(f=\"model_0.pt\") \n",
    "\n",
    "load_model"
   ]
  },
  {
   "cell_type": "markdown",
   "metadata": {},
   "source": [
    "# Recrear LinearRegression "
   ]
  },
  {
   "cell_type": "code",
<<<<<<< HEAD
   "execution_count": 60,
=======
   "execution_count": 23,
>>>>>>> rama_3
   "metadata": {},
   "outputs": [
    {
     "data": {
      "text/plain": [
       "(tensor([[0.0000],\n",
       "         [0.0200],\n",
       "         [0.0400]]),\n",
       " tensor([[0.3000],\n",
       "         [0.3140],\n",
       "         [0.3280]]))"
      ]
     },
<<<<<<< HEAD
     "execution_count": 60,
=======
     "execution_count": 23,
>>>>>>> rama_3
     "metadata": {},
     "output_type": "execute_result"
    }
   ],
   "source": [
    "weight = 0.7\n",
    "bias = 0.3\n",
    "x = torch.arange(0.0, 1.0, 0.02).unsqueeze(dim=1)\n",
    "y = weight * x + bias\n",
    "x[:3],y[:3]"
   ]
  },
  {
   "cell_type": "code",
<<<<<<< HEAD
   "execution_count": 61,
=======
   "execution_count": 24,
>>>>>>> rama_3
   "metadata": {},
   "outputs": [
    {
     "data": {
      "text/plain": [
       "(40, 10)"
      ]
     },
<<<<<<< HEAD
     "execution_count": 61,
=======
     "execution_count": 24,
>>>>>>> rama_3
     "metadata": {},
     "output_type": "execute_result"
    }
   ],
   "source": [
    "x_train, x_test, y_train, y_test = train_test_split(x,y,train_size=0.8,random_state=42)\n",
    "len(x_train), len(x_test)"
   ]
  },
  {
   "cell_type": "code",
<<<<<<< HEAD
   "execution_count": 62,
=======
   "execution_count": 25,
>>>>>>> rama_3
   "metadata": {},
   "outputs": [
    {
     "data": {
      "text/plain": [
       "OrderedDict([('lineal_model.weight', tensor([[0.7645]])),\n",
       "             ('lineal_model.bias', tensor([0.8300]))])"
      ]
     },
<<<<<<< HEAD
     "execution_count": 62,
=======
     "execution_count": 25,
>>>>>>> rama_3
     "metadata": {},
     "output_type": "execute_result"
    }
   ],
   "source": [
    "class LinearRegressionModelV2(nn.Module):\n",
    "    def __init__(self, *args, **kwargs) -> None:\n",
    "        super().__init__(*args, **kwargs)\n",
    "        self.lineal_model = nn.Linear( in_features=1 , out_features=1) # in_features = una x, out_features = una y\n",
    "    \n",
    "    def forward(self, x:torch.tensor) -> torch.tensor:\n",
    "        return self.lineal_model(x)\n",
    "    \n",
    "torch.manual_seed(42)\n",
    "model_1 = LinearRegressionModelV2()\n",
    "model_1.state_dict()"
   ]
  },
  {
   "cell_type": "code",
<<<<<<< HEAD
   "execution_count": 63,
=======
   "execution_count": 26,
>>>>>>> rama_3
   "metadata": {},
   "outputs": [],
   "source": [
    "loss_2 = nn.L1Loss()\n",
    "optimizer = torch.optim.SGD(params=model_1.parameters(),lr=0.01)"
   ]
  },
  {
   "cell_type": "code",
<<<<<<< HEAD
   "execution_count": 64,
=======
   "execution_count": 27,
>>>>>>> rama_3
   "metadata": {},
   "outputs": [
    {
     "name": "stdout",
     "output_type": "stream",
     "text": [
      "epoch:0 | train loss: 0.5600506067276001 | test loss: 0.5552194714546204\n",
      "epoch:40 | train loss: 0.07337480783462524 | test loss: 0.04598527029156685\n",
      "epoch:80 | train loss: 0.018832748755812645 | test loss: 0.012815380468964577\n",
      "epoch:120 | train loss: 0.010759826749563217 | test loss: 0.0016480416525155306\n",
      "epoch:160 | train loss: 0.010759826749563217 | test loss: 0.0016480416525155306\n"
     ]
    }
   ],
   "source": [
    "epochs = 200\n",
    "\n",
    "for epoch in range(epochs):\n",
    "    \n",
    "    model_1.train()\n",
    "    y_pred = model_1(x_train)\n",
    "    loss = loss_2(y_pred, y_train)\n",
    "    optimizer.zero_grad()\n",
    "    loss.backward()\n",
    "    optimizer.step()\n",
    "\n",
    "    model_1.eval()\n",
    "    with torch.inference_mode():\n",
    "        test_pred = model_1(x_test)\n",
    "        test_loss = loss_2(test_pred, y_test)\n",
    "    \n",
    "    if epoch % 40 == 0:\n",
    "        print(f\"epoch:{epoch} | train loss: {loss} | test loss: {test_loss}\")"
   ]
  },
  {
   "cell_type": "code",
<<<<<<< HEAD
   "execution_count": 71,
=======
   "execution_count": 28,
>>>>>>> rama_3
   "metadata": {},
   "outputs": [
    {
     "data": {
      "text/plain": [
       "OrderedDict([('lineal_model.weight', tensor([[0.7027]])),\n",
       "             ('lineal_model.bias', tensor([0.3095]))])"
      ]
     },
<<<<<<< HEAD
     "execution_count": 71,
=======
     "execution_count": 28,
>>>>>>> rama_3
     "metadata": {},
     "output_type": "execute_result"
    }
   ],
   "source": [
    "model_1.state_dict()"
   ]
  },
  {
   "cell_type": "code",
<<<<<<< HEAD
   "execution_count": 69,
=======
   "execution_count": 29,
>>>>>>> rama_3
   "metadata": {},
   "outputs": [
    {
     "data": {
      "text/plain": [
       "tensor([[0.4922],\n",
       "        [0.8576],\n",
       "        [0.7311]])"
      ]
     },
<<<<<<< HEAD
     "execution_count": 69,
=======
     "execution_count": 29,
>>>>>>> rama_3
     "metadata": {},
     "output_type": "execute_result"
    }
   ],
   "source": [
    "model_1.eval()\n",
    "\n",
    "with torch.inference_mode():\n",
    "    y_pred_new = model_1(x_test)\n",
    "y_pred_new[:3]"
   ]
  },
  {
   "cell_type": "code",
<<<<<<< HEAD
   "execution_count": 70,
=======
   "execution_count": 30,
>>>>>>> rama_3
   "metadata": {},
   "outputs": [
    {
     "data": {
      "image/png": "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",
      "text/plain": [
       "<Figure size 300x300 with 1 Axes>"
      ]
     },
     "metadata": {},
     "output_type": "display_data"
    }
   ],
   "source": [
    "plot_data(x1_data=x_test, y1_data=y_test,x2_data=x_test, y2_data=y_pred_new, label_1=\"data test\", label_2=\"data pred\" )"
   ]
  },
  {
   "cell_type": "code",
<<<<<<< HEAD
   "execution_count": 77,
=======
   "execution_count": 31,
>>>>>>> rama_3
   "metadata": {},
   "outputs": [],
   "source": [
    "torch.save(obj=model_1.state_dict(), f=\"model_1.pt\") # only saving the state_dict() only saves the models learned parameters"
   ]
  },
  {
   "cell_type": "code",
<<<<<<< HEAD
   "execution_count": 80,
=======
   "execution_count": 32,
>>>>>>> rama_3
   "metadata": {},
   "outputs": [
    {
     "name": "stdout",
     "output_type": "stream",
     "text": [
      "Loaded model:\n",
      "LinearRegressionModelV2(\n",
      "  (lineal_model): Linear(in_features=1, out_features=1, bias=True)\n",
      ")\n",
      "Model on device:\n",
      "Parameter containing:\n",
      "tensor([[0.7027]], requires_grad=True)\n"
     ]
    }
   ],
   "source": [
    "load_model_1 = LinearRegressionModelV2()\n",
    "load_model_1.load_state_dict(torch.load(\"model_1.pt\"))\n",
    "\n",
    "print(f\"Loaded model:\\n{load_model_1}\")\n",
    "print(f\"Model on device:\\n{next(load_model_1.parameters())}\")"
   ]
  },
  {
   "cell_type": "code",
<<<<<<< HEAD
   "execution_count": 82,
=======
   "execution_count": 33,
>>>>>>> rama_3
   "metadata": {},
   "outputs": [
    {
     "data": {
      "text/plain": [
       "tensor([[True],\n",
       "        [True],\n",
       "        [True]])"
      ]
     },
<<<<<<< HEAD
     "execution_count": 82,
=======
     "execution_count": 33,
>>>>>>> rama_3
     "metadata": {},
     "output_type": "execute_result"
    }
   ],
   "source": [
    "load_model_1.eval()\n",
    "with torch.inference_mode():\n",
    "    load_model_1_preds = load_model_1(x_test)\n",
    "y_pred_new[:3] == load_model_1_preds[:3]"
   ]
  }
 ],
 "metadata": {
  "kernelspec": {
   "display_name": "base",
   "language": "python",
   "name": "python3"
  },
  "language_info": {
   "codemirror_mode": {
    "name": "ipython",
    "version": 3
   },
   "file_extension": ".py",
   "mimetype": "text/x-python",
   "name": "python",
   "nbconvert_exporter": "python",
   "pygments_lexer": "ipython3",
<<<<<<< HEAD
   "version": "3.10.13"
=======
   "version": "3.10.9"
>>>>>>> rama_3
  }
 },
 "nbformat": 4,
 "nbformat_minor": 2
}
