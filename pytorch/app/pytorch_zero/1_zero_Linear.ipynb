{
 "cells": [
  {
   "cell_type": "code",
   "execution_count": 1,
   "metadata": {},
   "outputs": [],
   "source": [
    "import torch\n",
    "import numpy as np\n",
    "from torch import nn\n",
    "import matplotlib.pyplot as plt\n",
    "from sklearn.model_selection import train_test_split\n",
    "\n",
    "#import argparse\n",
    "#import sys"
   ]
  },
  {
   "cell_type": "code",
   "execution_count": 26,
   "metadata": {},
   "outputs": [
    {
     "data": {
      "text/plain": [
       "'2.1.2'"
      ]
     },
     "execution_count": 26,
     "metadata": {},
     "output_type": "execute_result"
    }
   ],
   "source": [
    "torch.__version__"
   ]
  },
  {
   "cell_type": "code",
   "execution_count": 27,
   "metadata": {},
   "outputs": [],
   "source": [
    "weight = 0.7\n",
    "bias = 0.3\n",
    "\n",
    "X = torch.arange(0.,1.,0.02).unsqueeze(dim=1)\n",
    "y = weight * X + bias"
   ]
  },
  {
   "cell_type": "code",
   "execution_count": 28,
   "metadata": {},
   "outputs": [
    {
     "data": {
      "text/plain": [
       "(tensor([[0.0000],\n",
       "         [0.0200],\n",
       "         [0.0400]]),\n",
       " tensor([[0.3000],\n",
       "         [0.3140],\n",
       "         [0.3280]]))"
      ]
     },
     "execution_count": 28,
     "metadata": {},
     "output_type": "execute_result"
    }
   ],
   "source": [
    "X[:3] , y[:3]"
   ]
  },
  {
   "cell_type": "code",
   "execution_count": 29,
   "metadata": {},
   "outputs": [
    {
     "data": {
      "text/plain": [
       "(50, 50)"
      ]
     },
     "execution_count": 29,
     "metadata": {},
     "output_type": "execute_result"
    }
   ],
   "source": [
    "len(X), len(y)"
   ]
  },
  {
   "cell_type": "code",
   "execution_count": 30,
   "metadata": {},
   "outputs": [],
   "source": [
    "x_train, x_test, y_train, y_test = train_test_split(X,y, test_size=.2)"
   ]
  },
  {
   "cell_type": "code",
   "execution_count": 31,
   "metadata": {},
   "outputs": [
    {
     "data": {
      "text/plain": [
       "(40, 10)"
      ]
     },
     "execution_count": 31,
     "metadata": {},
     "output_type": "execute_result"
    }
   ],
   "source": [
    "len(x_train), len(x_test)"
   ]
  },
  {
   "cell_type": "code",
   "execution_count": 50,
   "metadata": {},
   "outputs": [
    {
     "data": {
      "image/png": "[encoded data removed]",
      "text/plain": [
       "<Figure size 300x300 with 1 Axes>"
      ]
     },
     "metadata": {},
     "output_type": "display_data"
    }
   ],
   "source": [
    "def plot_data(x1_data=None, x2_data=None, y1_data=None, y2_data=None, label_1=None, label_2=None,x3_data=None,y3_data=None, label_3=None):\n",
    "\n",
    "    plt.figure(figsize=(3, 3))\n",
    "    plt.scatter(x1_data, y1_data, c=\"b\" ,s=4, label=label_1)\n",
    "    plt.scatter(x2_data, y2_data, c=\"r\", s=4, label=label_2)\n",
    "    plt.scatter(x3_data, y3_data, c=\"g\", s=4, label=label_3)\n",
    "    plt.legend(prop={\"size\":11})\n",
    "\n",
    "plot_data(x1_data=x_train, x2_data=x_test, y1_data=y_train, y2_data=y_test, label_1=\"data train\", label_2=\"data test\")"
   ]
  },
  {
   "cell_type": "code",
   "execution_count": 34,
   "metadata": {},
   "outputs": [],
   "source": [
    "# Regression\n",
    "class LinearRegressionModel(nn.Module): \n",
    "    def __init__(self):\n",
    "        super().__init__()\n",
    "        self.weight = nn.Parameter(torch.randn(1, requires_grad=True, dtype=torch.float32))\n",
    "        self.bias   = nn.Parameter(torch.randn(1, requires_grad=True, dtype=torch.float32))\n",
    "\n",
    "    def forward(self, x:torch.Tensor) -> torch.Tensor:\n",
    "        return self.weight * x + self.bias"
   ]
  },
  {
   "cell_type": "code",
   "execution_count": 35,
   "metadata": {},
   "outputs": [
    {
     "data": {
      "text/plain": [
       "[Parameter containing:\n",
       " tensor([0.3367], requires_grad=True),\n",
       " Parameter containing:\n",
       " tensor([0.1288], requires_grad=True)]"
      ]
     },
     "execution_count": 35,
     "metadata": {},
     "output_type": "execute_result"
    }
   ],
   "source": [
    "torch.manual_seed(42)\n",
    "\n",
    "model_0 = LinearRegressionModel()\n",
    "list(model_0.parameters())"
   ]
  },
  {
   "cell_type": "code",
   "execution_count": 36,
   "metadata": {},
   "outputs": [
    {
     "data": {
      "text/plain": [
       "OrderedDict([('weight', tensor([0.3367])), ('bias', tensor([0.1288]))])"
      ]
     },
     "execution_count": 36,
     "metadata": {},
     "output_type": "execute_result"
    }
   ],
   "source": [
    "# Parameters Formato Dic\n",
    "model_0.state_dict()"
   ]
  },
  {
   "cell_type": "code",
   "execution_count": 37,
   "metadata": {},
   "outputs": [
    {
     "data": {
      "text/plain": [
       "tensor([[0.1490],\n",
       "        [0.3645],\n",
       "        [0.4588],\n",
       "        [0.4184],\n",
       "        [0.2500],\n",
       "        [0.2837],\n",
       "        [0.3712],\n",
       "        [0.1692],\n",
       "        [0.3174],\n",
       "        [0.3914]])"
      ]
     },
     "execution_count": 37,
     "metadata": {},
     "output_type": "execute_result"
    }
   ],
   "source": [
    "# predic model\n",
    "with torch.inference_mode():\n",
    "    y_pred = model_0(x_test)\n",
    "\n",
    "y_pred"
   ]
  },
  {
   "cell_type": "code",
   "execution_count": 38,
   "metadata": {},
   "outputs": [
    {
     "data": {
      "image/png": "[encoded data removed]",
      "text/plain": [
       "<Figure size 300x300 with 1 Axes>"
      ]
     },
     "metadata": {},
     "output_type": "display_data"
    }
   ],
   "source": [
    "plot_data(x2_data=x_test, y2_data= y_test, x3_data=x_test, y3_data=y_pred, label_2=\"data test\", label_3=\"data predic\")"
   ]
  },
  {
   "cell_type": "code",
   "execution_count": 39,
   "metadata": {},
   "outputs": [
    {
     "data": {
      "text/plain": [
       "(L1Loss(),\n",
       " SGD (\n",
       " Parameter Group 0\n",
       "     dampening: 0\n",
       "     differentiable: False\n",
       "     foreach: None\n",
       "     lr: 0.01\n",
       "     maximize: False\n",
       "     momentum: 0\n",
       "     nesterov: False\n",
       "     weight_decay: 0\n",
       " ))"
      ]
     },
     "execution_count": 39,
     "metadata": {},
     "output_type": "execute_result"
    }
   ],
   "source": [
    "# Loss function L1\n",
    "loss_L1 = nn.L1Loss()\n",
    "\n",
    "# optimizador\n",
    "optimizer = torch.optim.SGD(params=model_0.parameters(), lr=0.01) # lr =learn rate\n",
    "\n",
    "loss_L1, optimizer"
   ]
  },
  {
   "cell_type": "code",
   "execution_count": 40,
   "metadata": {},
   "outputs": [
    {
     "name": "stdout",
     "output_type": "stream",
     "text": [
      "Epoch: 0 | MAE Train Loss: 0.34285441040992737 | MAE Test Loss: 0.36199793219566345 \n",
      "Epoch: 50 | MAE Train Loss: 0.04319997876882553 | MAE Test Loss: 0.044810935854911804 \n",
      "Epoch: 100 | MAE Train Loss: 0.018672414124011993 | MAE Test Loss: 0.01907080039381981 \n",
      "Epoch: 150 | MAE Train Loss: 0.006436258554458618 | MAE Test Loss: 0.005515888333320618 \n"
     ]
    }
   ],
   "source": [
    "torch.manual_seed(42)\n",
    "\n",
    "# Track different values\n",
    "epoch_count = []\n",
    "loss_values = []\n",
    "test_loss_values = []\n",
    "\n",
    "epochs = 200                        # loop with epoch\n",
    "\n",
    "for epoch in range(epochs):\n",
    "    \n",
    "    model_0.train()                 # set the model\n",
    "    y_pred = model_0(x_train)       # 1. forward  pass = forward propagation\n",
    "    loss = loss_L1(y_pred, y_train) # 2. cal loss\n",
    "    \n",
    "    optimizer.zero_grad()           # 3. optimizer zero grad\n",
    "    loss.backward()                 # 4. perform backward = backpropagation\n",
    "    optimizer.step()                # 5. step the optimizer\n",
    "\n",
    "    model_0.eval()                  # turns off setting model\n",
    "    with torch.inference_mode():    # turns off gradiend tracking\n",
    "        test_pred = model_0(x_test) # do the fordward pass\n",
    "        test_loss= loss_L1(test_pred, y_test.type(torch.float)) # calculate the los\n",
    "\n",
    "    if epoch % 50 == 0:         # print out what's happenin\n",
    "        epoch_count.append(epoch)\n",
    "        loss_values.append(loss.detach().numpy())               # convert to numpy for plot\n",
    "        test_loss_values.append(test_loss.detach().numpy())     # convert to numpy for plot\n",
    "\n",
    "        print(f\"Epoch: {epoch} | MAE Train Loss: {loss} | MAE Test Loss: {test_loss} \")    # print out model"
   ]
  },
  {
   "cell_type": "code",
   "execution_count": 41,
   "metadata": {},
   "outputs": [
    {
     "data": {
      "text/plain": [
       "<matplotlib.legend.Legend at 0x7fa647dbfbb0>"
      ]
     },
     "execution_count": 41,
     "metadata": {},
     "output_type": "execute_result"
    },
    {
     "data": {
      "image/png": "[encoded data removed]",
      "text/plain": [
       "<Figure size 300x300 with 1 Axes>"
      ]
     },
     "metadata": {},
     "output_type": "display_data"
    }
   ],
   "source": [
    "# Plot the loss curves\n",
    "plt.figure(figsize=(3,3))\n",
    "plt.plot(epoch_count, loss_values, label=\"Train loss\")\n",
    "plt.plot(epoch_count, test_loss_values, label=\"Test loss\")\n",
    "plt.title(\"training and test loss curves\")\n",
    "plt.ylabel(\"Loss\")\n",
    "plt.xlabel(\"Epochs\")\n",
    "plt.legend()"
   ]
  },
  {
   "cell_type": "code",
   "execution_count": 42,
   "metadata": {},
   "outputs": [
    {
     "data": {
      "text/plain": [
       "[array(0.3428544, dtype=float32),\n",
       " array(0.04319998, dtype=float32),\n",
       " array(0.01867241, dtype=float32),\n",
       " array(0.00643626, dtype=float32)]"
      ]
     },
     "execution_count": 42,
     "metadata": {},
     "output_type": "execute_result"
    }
   ],
   "source": [
    "loss_values"
   ]
  },
  {
   "cell_type": "code",
   "execution_count": 43,
   "metadata": {},
   "outputs": [],
   "source": [
    "with torch.inference_mode():\n",
    "    y_pred_new = model_0(x_test)"
   ]
  },
  {
   "cell_type": "code",
   "execution_count": 44,
   "metadata": {},
   "outputs": [
    {
     "data": {
      "text/plain": [
       "OrderedDict([('weight', tensor([0.6921])), ('bias', tensor([0.2973]))])"
      ]
     },
     "execution_count": 44,
     "metadata": {},
     "output_type": "execute_result"
    }
   ],
   "source": [
    "model_0.state_dict()"
   ]
  },
  {
   "cell_type": "code",
   "execution_count": 45,
   "metadata": {},
   "outputs": [
    {
     "data": {
      "image/png": "[encoded data removed]",
      "text/plain": [
       "<Figure size 300x300 with 1 Axes>"
      ]
     },
     "metadata": {},
     "output_type": "display_data"
    }
   ],
   "source": [
    "plot_data(x1_data=x_test, y1_data=y_test, x3_data= x_test, y3_data=y_pred_new, label_1=\"data test\", label_3=\"data pred new\")"
   ]
  },
  {
   "cell_type": "code",
   "execution_count": 56,
   "metadata": {},
   "outputs": [],
   "source": [
    "torch.save(obj=model_0.state_dict(), f=\"model_0.pt\")    # save model"
   ]
  },
  {
   "cell_type": "code",
   "execution_count": 3,
   "metadata": {},
   "outputs": [
    {
     "data": {
      "text/plain": [
       "OrderedDict([('weight', tensor([0.6921])), ('bias', tensor([0.2973]))])"
      ]
     },
     "execution_count": 3,
     "metadata": {},
     "output_type": "execute_result"
    }
   ],
   "source": [
    "# load model and with state_dict\n",
    "#load_model = LinearRegressionModel()\n",
    "#load_model.load_state_dict(torch.load(f=\"model_0.pt\"))\n",
    "load_model = torch.load(f=\"model_0.pt\") \n",
    "\n",
    "load_model"
   ]
  },
  {
   "cell_type": "markdown",
   "metadata": {},
   "source": [
    "# Recrear LinearRegression "
   ]
  },
  {
   "cell_type": "code",
   "execution_count": 60,
   "metadata": {},
   "outputs": [
    {
     "data": {
      "text/plain": [
       "(tensor([[0.0000],\n",
       "         [0.0200],\n",
       "         [0.0400]]),\n",
       " tensor([[0.3000],\n",
       "         [0.3140],\n",
       "         [0.3280]]))"
      ]
     },
     "execution_count": 60,
     "metadata": {},
     "output_type": "execute_result"
    }
   ],
   "source": [
    "weight = 0.7\n",
    "bias = 0.3\n",
    "x = torch.arange(0.0, 1.0, 0.02).unsqueeze(dim=1)\n",
    "y = weight * x + bias\n",
    "x[:3],y[:3]"
   ]
  },
  {
   "cell_type": "code",
   "execution_count": 61,
   "metadata": {},
   "outputs": [
    {
     "data": {
      "text/plain": [
       "(40, 10)"
      ]
     },
     "execution_count": 61,
     "metadata": {},
     "output_type": "execute_result"
    }
   ],
   "source": [
    "x_train, x_test, y_train, y_test = train_test_split(x,y,train_size=0.8,random_state=42)\n",
    "len(x_train), len(x_test)"
   ]
  },
  {
   "cell_type": "code",
   "execution_count": 62,
   "metadata": {},
   "outputs": [
    {
     "data": {
      "text/plain": [
       "OrderedDict([('lineal_model.weight', tensor([[0.7645]])),\n",
       "             ('lineal_model.bias', tensor([0.8300]))])"
      ]
     },
     "execution_count": 62,
     "metadata": {},
     "output_type": "execute_result"
    }
   ],
   "source": [
    "class LinearRegressionModelV2(nn.Module):\n",
    "    def __init__(self, *args, **kwargs) -> None:\n",
    "        super().__init__(*args, **kwargs)\n",
    "        self.lineal_model = nn.Linear( in_features=1 , out_features=1) # in_features = una x, out_features = una y\n",
    "    \n",
    "    def forward(self, x:torch.tensor) -> torch.tensor:\n",
    "        return self.lineal_model(x)\n",
    "    \n",
    "torch.manual_seed(42)\n",
    "model_1 = LinearRegressionModelV2()\n",
    "model_1.state_dict()"
   ]
  },
  {
   "cell_type": "code",
   "execution_count": 63,
   "metadata": {},
   "outputs": [],
   "source": [
    "loss_2 = nn.L1Loss()\n",
    "optimizer = torch.optim.SGD(params=model_1.parameters(),lr=0.01)"
   ]
  },
  {
   "cell_type": "code",
   "execution_count": 64,
   "metadata": {},
   "outputs": [
    {
     "name": "stdout",
     "output_type": "stream",
     "text": [
      "epoch:0 | train loss: 0.5600506067276001 | test loss: 0.5552194714546204\n",
      "epoch:40 | train loss: 0.07337480783462524 | test loss: 0.04598527029156685\n",
      "epoch:80 | train loss: 0.018832748755812645 | test loss: 0.012815380468964577\n",
      "epoch:120 | train loss: 0.010759826749563217 | test loss: 0.0016480416525155306\n",
      "epoch:160 | train loss: 0.010759826749563217 | test loss: 0.0016480416525155306\n"
     ]
    }
   ],
   "source": [
    "epochs = 200\n",
    "\n",
    "for epoch in range(epochs):\n",
    "    \n",
    "    model_1.train()\n",
    "    y_pred = model_1(x_train)\n",
    "    loss = loss_2(y_pred, y_train)\n",
    "    optimizer.zero_grad()\n",
    "    loss.backward()\n",
    "    optimizer.step()\n",
    "\n",
    "    model_1.eval()\n",
    "    with torch.inference_mode():\n",
    "        test_pred = model_1(x_test)\n",
    "        test_loss = loss_2(test_pred, y_test)\n",
    "    \n",
    "    if epoch % 40 == 0:\n",
    "        print(f\"epoch:{epoch} | train loss: {loss} | test loss: {test_loss}\")"
   ]
  },
  {
   "cell_type": "code",
   "execution_count": 71,
   "metadata": {},
   "outputs": [
    {
     "data": {
      "text/plain": [
       "OrderedDict([('lineal_model.weight', tensor([[0.7027]])),\n",
       "             ('lineal_model.bias', tensor([0.3095]))])"
      ]
     },
     "execution_count": 71,
     "metadata": {},
     "output_type": "execute_result"
    }
   ],
   "source": [
    "model_1.state_dict()"
   ]
  },
  {
   "cell_type": "code",
   "execution_count": 69,
   "metadata": {},
   "outputs": [
    {
     "data": {
      "text/plain": [
       "tensor([[0.4922],\n",
       "        [0.8576],\n",
       "        [0.7311]])"
      ]
     },
     "execution_count": 69,
     "metadata": {},
     "output_type": "execute_result"
    }
   ],
   "source": [
    "model_1.eval()\n",
    "\n",
    "with torch.inference_mode():\n",
    "    y_pred_new = model_1(x_test)\n",
    "y_pred_new[:3]"
   ]
  },
  {
   "cell_type": "code",
   "execution_count": 70,
   "metadata": {},
   "outputs": [
    {
     "data": {
      "image/png": "[encoded data removed]",
      "text/plain": [
       "<Figure size 300x300 with 1 Axes>"
      ]
     },
     "metadata": {},
     "output_type": "display_data"
    }
   ],
   "source": [
    "plot_data(x1_data=x_test, y1_data=y_test,x2_data=x_test, y2_data=y_pred_new, label_1=\"data test\", label_2=\"data pred\" )"
   ]
  },
  {
   "cell_type": "code",
   "execution_count": 77,
   "metadata": {},
   "outputs": [],
   "source": [
    "torch.save(obj=model_1.state_dict(), f=\"model_1.pt\") # only saving the state_dict() only saves the models learned parameters"
   ]
  },
  {
   "cell_type": "code",
   "execution_count": 80,
   "metadata": {},
   "outputs": [
    {
     "name": "stdout",
     "output_type": "stream",
     "text": [
      "Loaded model:\n",
      "LinearRegressionModelV2(\n",
      "  (lineal_model): Linear(in_features=1, out_features=1, bias=True)\n",
      ")\n",
      "Model on device:\n",
      "Parameter containing:\n",
      "tensor([[0.7027]], requires_grad=True)\n"
     ]
    }
   ],
   "source": [
    "load_model_1 = LinearRegressionModelV2()\n",
    "load_model_1.load_state_dict(torch.load(\"model_1.pt\"))\n",
    "\n",
    "print(f\"Loaded model:\\n{load_model_1}\")\n",
    "print(f\"Model on device:\\n{next(load_model_1.parameters())}\")"
   ]
  },
  {
   "cell_type": "code",
   "execution_count": 82,
   "metadata": {},
   "outputs": [
    {
     "data": {
      "text/plain": [
       "tensor([[True],\n",
       "        [True],\n",
       "        [True]])"
      ]
     },
     "execution_count": 82,
     "metadata": {},
     "output_type": "execute_result"
    }
   ],
   "source": [
    "load_model_1.eval()\n",
    "with torch.inference_mode():\n",
    "    load_model_1_preds = load_model_1(x_test)\n",
    "y_pred_new[:3] == load_model_1_preds[:3]"
   ]
  }
 ],
 "metadata": {
  "kernelspec": {
   "display_name": "base",
   "language": "python",
   "name": "python3"
  },
  "language_info": {
   "codemirror_mode": {
    "name": "ipython",
    "version": 3
   },
   "file_extension": ".py",
   "mimetype": "text/x-python",
   "name": "python",
   "nbconvert_exporter": "python",
   "pygments_lexer": "ipython3",
   "version": "3.10.13"
  }
 },
 "nbformat": 4,
 "nbformat_minor": 2
}
