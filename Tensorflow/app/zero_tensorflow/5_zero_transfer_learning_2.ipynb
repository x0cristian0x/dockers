{
 "cells": [
  {
   "cell_type": "code",
   "execution_count": 49,
   "metadata": {},
   "outputs": [],
   "source": [
    "import tensorflow as tf\n",
    "from tensorflow import keras\n",
    "from helper_functions import create_tensorboard_callback, plot_loss_curves, unzip_data, walk_through_dir, compare_historys\n",
    "from datetime import datetime\n",
    "import tensorflow_hub as hub\n",
    "import numpy as np\n",
    "import matplotlib.pyplot as plt\n"
   ]
  },
  {
   "cell_type": "markdown",
   "metadata": {},
   "source": [
    "## Transfer Learning with TensorFlow Part 2: Fine-tuning"
   ]
  },
  {
   "cell_type": "code",
   "execution_count": 5,
   "metadata": {},
   "outputs": [],
   "source": [
    "# Create training and test directories\n",
    "train_dir = \"./data/data_multiclass_10/train/\"\n",
    "test_dir = \"./data/data_multiclass_10/test/\""
   ]
  },
  {
   "cell_type": "code",
   "execution_count": 7,
   "metadata": {},
   "outputs": [
    {
     "name": "stdout",
     "output_type": "stream",
     "text": [
      "Found 750 files belonging to 10 classes.\n",
      "Found 2500 files belonging to 10 classes.\n"
     ]
    }
   ],
   "source": [
    "# Create data inputs\n",
    "IMG_SIZE = (224, 224) # define image size\n",
    "train_data_10_percent = tf.keras.preprocessing.image_dataset_from_directory(directory=train_dir,\n",
    "                                                                            image_size=IMG_SIZE,\n",
    "                                                                            label_mode=\"categorical\", # what type are the labels?\n",
    "                                                                            batch_size=32) # batch_size is 32 by default, this is generally a good number\n",
    "test_data_10_percent = tf.keras.preprocessing.image_dataset_from_directory(directory=test_dir,\n",
    "                                                                           image_size=IMG_SIZE,\n",
    "                                                                           label_mode=\"categorical\")"
   ]
  },
  {
   "cell_type": "code",
   "execution_count": 8,
   "metadata": {},
   "outputs": [
    {
     "data": {
      "text/plain": [
       "['chicken_curry',\n",
       " 'chicken_wings',\n",
       " 'fried_rice',\n",
       " 'grilled_salmon',\n",
       " 'hamburger',\n",
       " 'ice_cream',\n",
       " 'pizza',\n",
       " 'ramen',\n",
       " 'steak',\n",
       " 'sushi']"
      ]
     },
     "execution_count": 8,
     "metadata": {},
     "output_type": "execute_result"
    }
   ],
   "source": [
    "# Check out the class names of our dataset\n",
    "train_data_10_percent.class_names"
   ]
  },
  {
   "cell_type": "markdown",
   "metadata": {},
   "source": [
    "### Model 0: Building a transfer learning model using the Keras Functional API"
   ]
  },
  {
   "cell_type": "code",
   "execution_count": 9,
   "metadata": {},
   "outputs": [
    {
     "name": "stdout",
     "output_type": "stream",
     "text": [
      "Downloading data from https://storage.googleapis.com/tensorflow/keras-applications/efficientnet_v2/efficientnetv2-b0_notop.h5\n",
      "24274472/24274472 [==============================] - 15s 1us/step\n",
      "Shape after base_model: (None, 7, 7, 1280)\n",
      "After GlobalAveragePooling2D(): (None, 1280)\n",
      "Epoch 1/5\n"
     ]
    },
    {
     "name": "stderr",
     "output_type": "stream",
     "text": [
      "2024-02-29 18:11:16.673280: I tensorflow/compiler/xla/stream_executor/cuda/cuda_dnn.cc:442] Loaded cuDNN version 8600\n"
     ]
    },
    {
     "name": "stdout",
     "output_type": "stream",
     "text": [
      " 4/24 [====>.........................] - ETA: 0s - loss: 2.3713 - accuracy: 0.1172  "
     ]
    },
    {
     "name": "stderr",
     "output_type": "stream",
     "text": [
      "2024-02-29 18:11:18.165175: I tensorflow/compiler/xla/service/service.cc:168] XLA service 0x7f196159a300 initialized for platform CUDA (this does not guarantee that XLA will be used). Devices:\n",
      "2024-02-29 18:11:18.165190: I tensorflow/compiler/xla/service/service.cc:176]   StreamExecutor device (0): NVIDIA GeForce RTX 3080, Compute Capability 8.6\n",
      "2024-02-29 18:11:18.170209: I tensorflow/compiler/mlir/tensorflow/utils/dump_mlir_util.cc:269] disabling MLIR crash reproducer, set env var `MLIR_CRASH_REPRODUCER_DIRECTORY` to enable.\n",
      "2024-02-29 18:11:18.233323: I ./tensorflow/compiler/jit/device_compiler.h:186] Compiled cluster using XLA!  This line is logged at most once for the lifetime of the process.\n"
     ]
    },
    {
     "name": "stdout",
     "output_type": "stream",
     "text": [
      "24/24 [==============================] - 8s 91ms/step - loss: 1.8616 - accuracy: 0.4413 - val_loss: 1.3226 - val_accuracy: 0.7434\n",
      "Epoch 2/5\n",
      "24/24 [==============================] - 1s 42ms/step - loss: 1.1382 - accuracy: 0.7640 - val_loss: 0.8841 - val_accuracy: 0.8109\n",
      "Epoch 3/5\n",
      "24/24 [==============================] - 1s 39ms/step - loss: 0.8300 - accuracy: 0.8227 - val_loss: 0.7059 - val_accuracy: 0.8553\n",
      "Epoch 4/5\n",
      "24/24 [==============================] - 1s 43ms/step - loss: 0.6825 - accuracy: 0.8520 - val_loss: 0.6358 - val_accuracy: 0.8503\n",
      "Epoch 5/5\n",
      "24/24 [==============================] - 1s 43ms/step - loss: 0.5923 - accuracy: 0.8560 - val_loss: 0.5605 - val_accuracy: 0.8618\n"
     ]
    }
   ],
   "source": [
    "# 1. Create base model with tf.keras.applications\n",
    "base_model = tf.keras.applications.efficientnet_v2.EfficientNetV2B0(include_top=False)\n",
    "\n",
    "# 2. Freeze the base model (so the pre-learned patterns remain)\n",
    "base_model.trainable = False\n",
    "\n",
    "# 3. Create inputs into the base model\n",
    "inputs = tf.keras.layers.Input(shape=(224, 224, 3), name=\"input_layer\")\n",
    "\n",
    "# 5. Pass the inputs to the base_model (note: using tf.keras.applications, EfficientNetV2 inputs don't have to be normalized)\n",
    "x = base_model(inputs)\n",
    "print(f\"Shape after base_model: {x.shape}\")\n",
    "\n",
    "# 6. Average pool the outputs of the base model (aggregate all the most important information, reduce number of computations)\n",
    "x = tf.keras.layers.GlobalAveragePooling2D(name=\"global_average_pooling_layer\")(x)\n",
    "print(f\"After GlobalAveragePooling2D(): {x.shape}\")\n",
    "\n",
    "# 7. Create the output activation layer\n",
    "outputs = tf.keras.layers.Dense(10, activation=\"softmax\", name=\"output_layer\")(x)\n",
    "\n",
    "# 8. Combine the inputs with the outputs into a model\n",
    "model_0 = tf.keras.Model(inputs, outputs)\n",
    "\n",
    "model_0.compile(loss='categorical_crossentropy',\n",
    "              optimizer=tf.keras.optimizers.Adam(),\n",
    "              metrics=[\"accuracy\"])\n",
    "\n",
    "history_10_percent = model_0.fit(train_data_10_percent, epochs=5, steps_per_epoch=len(train_data_10_percent),\n",
    "                                 validation_data=test_data_10_percent,\n",
    "                                 # Go through less of the validation data so epochs are faster (we want faster experiments!)\n",
    "                                 validation_steps=int(0.25 * len(test_data_10_percent)),\n",
    "                                 #callbacks=[create_tensorboard_callback(\"transfer_learning\", \"10_percent_feature_extract\")]\n",
    ")"
   ]
  },
  {
   "cell_type": "code",
   "execution_count": 10,
   "metadata": {},
   "outputs": [
    {
     "name": "stdout",
     "output_type": "stream",
     "text": [
      "Model: \"efficientnetv2-b0\"\n",
      "__________________________________________________________________________________________________\n",
      " Layer (type)                Output Shape                 Param #   Connected to                  \n",
      "==================================================================================================\n",
      " input_1 (InputLayer)        [(None, None, None, 3)]      0         []                            \n",
      "                                                                                                  \n",
      " rescaling (Rescaling)       (None, None, None, 3)        0         ['input_1[0][0]']             \n",
      "                                                                                                  \n",
      " normalization (Normalizati  (None, None, None, 3)        0         ['rescaling[0][0]']           \n",
      " on)                                                                                              \n",
      "                                                                                                  \n",
      " stem_conv (Conv2D)          (None, None, None, 32)       864       ['normalization[0][0]']       \n",
      "                                                                                                  \n",
      " stem_bn (BatchNormalizatio  (None, None, None, 32)       128       ['stem_conv[0][0]']           \n",
      " n)                                                                                               \n",
      "                                                                                                  \n",
      " stem_activation (Activatio  (None, None, None, 32)       0         ['stem_bn[0][0]']             \n",
      " n)                                                                                               \n",
      "                                                                                                  \n",
      " block1a_project_conv (Conv  (None, None, None, 16)       4608      ['stem_activation[0][0]']     \n",
      " 2D)                                                                                              \n",
      "                                                                                                  \n",
      " block1a_project_bn (BatchN  (None, None, None, 16)       64        ['block1a_project_conv[0][0]']\n",
      " ormalization)                                                                                    \n",
      "                                                                                                  \n",
      " block1a_project_activation  (None, None, None, 16)       0         ['block1a_project_bn[0][0]']  \n",
      "  (Activation)                                                                                    \n",
      "                                                                                                  \n",
      " block2a_expand_conv (Conv2  (None, None, None, 64)       9216      ['block1a_project_activation[0\n",
      " D)                                                                 ][0]']                        \n",
      "                                                                                                  \n",
      " block2a_expand_bn (BatchNo  (None, None, None, 64)       256       ['block2a_expand_conv[0][0]'] \n",
      " rmalization)                                                                                     \n",
      "                                                                                                  \n",
      " block2a_expand_activation   (None, None, None, 64)       0         ['block2a_expand_bn[0][0]']   \n",
      " (Activation)                                                                                     \n",
      "                                                                                                  \n",
      " block2a_project_conv (Conv  (None, None, None, 32)       2048      ['block2a_expand_activation[0]\n",
      " 2D)                                                                [0]']                         \n",
      "                                                                                                  \n",
      " block2a_project_bn (BatchN  (None, None, None, 32)       128       ['block2a_project_conv[0][0]']\n",
      " ormalization)                                                                                    \n",
      "                                                                                                  \n",
      " block2b_expand_conv (Conv2  (None, None, None, 128)      36864     ['block2a_project_bn[0][0]']  \n",
      " D)                                                                                               \n",
      "                                                                                                  \n",
      " block2b_expand_bn (BatchNo  (None, None, None, 128)      512       ['block2b_expand_conv[0][0]'] \n",
      " rmalization)                                                                                     \n",
      "                                                                                                  \n",
      " block2b_expand_activation   (None, None, None, 128)      0         ['block2b_expand_bn[0][0]']   \n",
      " (Activation)                                                                                     \n",
      "                                                                                                  \n",
      " block2b_project_conv (Conv  (None, None, None, 32)       4096      ['block2b_expand_activation[0]\n",
      " 2D)                                                                [0]']                         \n",
      "                                                                                                  \n",
      " block2b_project_bn (BatchN  (None, None, None, 32)       128       ['block2b_project_conv[0][0]']\n",
      " ormalization)                                                                                    \n",
      "                                                                                                  \n",
      " block2b_drop (Dropout)      (None, None, None, 32)       0         ['block2b_project_bn[0][0]']  \n",
      "                                                                                                  \n",
      " block2b_add (Add)           (None, None, None, 32)       0         ['block2b_drop[0][0]',        \n",
      "                                                                     'block2a_project_bn[0][0]']  \n",
      "                                                                                                  \n",
      " block3a_expand_conv (Conv2  (None, None, None, 128)      36864     ['block2b_add[0][0]']         \n",
      " D)                                                                                               \n",
      "                                                                                                  \n",
      " block3a_expand_bn (BatchNo  (None, None, None, 128)      512       ['block3a_expand_conv[0][0]'] \n",
      " rmalization)                                                                                     \n",
      "                                                                                                  \n",
      " block3a_expand_activation   (None, None, None, 128)      0         ['block3a_expand_bn[0][0]']   \n",
      " (Activation)                                                                                     \n",
      "                                                                                                  \n",
      " block3a_project_conv (Conv  (None, None, None, 48)       6144      ['block3a_expand_activation[0]\n",
      " 2D)                                                                [0]']                         \n",
      "                                                                                                  \n",
      " block3a_project_bn (BatchN  (None, None, None, 48)       192       ['block3a_project_conv[0][0]']\n",
      " ormalization)                                                                                    \n",
      "                                                                                                  \n",
      " block3b_expand_conv (Conv2  (None, None, None, 192)      82944     ['block3a_project_bn[0][0]']  \n",
      " D)                                                                                               \n",
      "                                                                                                  \n",
      " block3b_expand_bn (BatchNo  (None, None, None, 192)      768       ['block3b_expand_conv[0][0]'] \n",
      " rmalization)                                                                                     \n",
      "                                                                                                  \n",
      " block3b_expand_activation   (None, None, None, 192)      0         ['block3b_expand_bn[0][0]']   \n",
      " (Activation)                                                                                     \n",
      "                                                                                                  \n",
      " block3b_project_conv (Conv  (None, None, None, 48)       9216      ['block3b_expand_activation[0]\n",
      " 2D)                                                                [0]']                         \n",
      "                                                                                                  \n",
      " block3b_project_bn (BatchN  (None, None, None, 48)       192       ['block3b_project_conv[0][0]']\n",
      " ormalization)                                                                                    \n",
      "                                                                                                  \n",
      " block3b_drop (Dropout)      (None, None, None, 48)       0         ['block3b_project_bn[0][0]']  \n",
      "                                                                                                  \n",
      " block3b_add (Add)           (None, None, None, 48)       0         ['block3b_drop[0][0]',        \n",
      "                                                                     'block3a_project_bn[0][0]']  \n",
      "                                                                                                  \n",
      " block4a_expand_conv (Conv2  (None, None, None, 192)      9216      ['block3b_add[0][0]']         \n",
      " D)                                                                                               \n",
      "                                                                                                  \n",
      " block4a_expand_bn (BatchNo  (None, None, None, 192)      768       ['block4a_expand_conv[0][0]'] \n",
      " rmalization)                                                                                     \n",
      "                                                                                                  \n",
      " block4a_expand_activation   (None, None, None, 192)      0         ['block4a_expand_bn[0][0]']   \n",
      " (Activation)                                                                                     \n",
      "                                                                                                  \n",
      " block4a_dwconv2 (Depthwise  (None, None, None, 192)      1728      ['block4a_expand_activation[0]\n",
      " Conv2D)                                                            [0]']                         \n",
      "                                                                                                  \n",
      " block4a_bn (BatchNormaliza  (None, None, None, 192)      768       ['block4a_dwconv2[0][0]']     \n",
      " tion)                                                                                            \n",
      "                                                                                                  \n",
      " block4a_activation (Activa  (None, None, None, 192)      0         ['block4a_bn[0][0]']          \n",
      " tion)                                                                                            \n",
      "                                                                                                  \n",
      " block4a_se_squeeze (Global  (None, 192)                  0         ['block4a_activation[0][0]']  \n",
      " AveragePooling2D)                                                                                \n",
      "                                                                                                  \n",
      " block4a_se_reshape (Reshap  (None, 1, 1, 192)            0         ['block4a_se_squeeze[0][0]']  \n",
      " e)                                                                                               \n",
      "                                                                                                  \n",
      " block4a_se_reduce (Conv2D)  (None, 1, 1, 12)             2316      ['block4a_se_reshape[0][0]']  \n",
      "                                                                                                  \n",
      " block4a_se_expand (Conv2D)  (None, 1, 1, 192)            2496      ['block4a_se_reduce[0][0]']   \n",
      "                                                                                                  \n",
      " block4a_se_excite (Multipl  (None, None, None, 192)      0         ['block4a_activation[0][0]',  \n",
      " y)                                                                  'block4a_se_expand[0][0]']   \n",
      "                                                                                                  \n",
      " block4a_project_conv (Conv  (None, None, None, 96)       18432     ['block4a_se_excite[0][0]']   \n",
      " 2D)                                                                                              \n",
      "                                                                                                  \n",
      " block4a_project_bn (BatchN  (None, None, None, 96)       384       ['block4a_project_conv[0][0]']\n",
      " ormalization)                                                                                    \n",
      "                                                                                                  \n",
      " block4b_expand_conv (Conv2  (None, None, None, 384)      36864     ['block4a_project_bn[0][0]']  \n",
      " D)                                                                                               \n",
      "                                                                                                  \n",
      " block4b_expand_bn (BatchNo  (None, None, None, 384)      1536      ['block4b_expand_conv[0][0]'] \n",
      " rmalization)                                                                                     \n",
      "                                                                                                  \n",
      " block4b_expand_activation   (None, None, None, 384)      0         ['block4b_expand_bn[0][0]']   \n",
      " (Activation)                                                                                     \n",
      "                                                                                                  \n",
      " block4b_dwconv2 (Depthwise  (None, None, None, 384)      3456      ['block4b_expand_activation[0]\n",
      " Conv2D)                                                            [0]']                         \n",
      "                                                                                                  \n",
      " block4b_bn (BatchNormaliza  (None, None, None, 384)      1536      ['block4b_dwconv2[0][0]']     \n",
      " tion)                                                                                            \n",
      "                                                                                                  \n",
      " block4b_activation (Activa  (None, None, None, 384)      0         ['block4b_bn[0][0]']          \n",
      " tion)                                                                                            \n",
      "                                                                                                  \n",
      " block4b_se_squeeze (Global  (None, 384)                  0         ['block4b_activation[0][0]']  \n",
      " AveragePooling2D)                                                                                \n",
      "                                                                                                  \n",
      " block4b_se_reshape (Reshap  (None, 1, 1, 384)            0         ['block4b_se_squeeze[0][0]']  \n",
      " e)                                                                                               \n",
      "                                                                                                  \n",
      " block4b_se_reduce (Conv2D)  (None, 1, 1, 24)             9240      ['block4b_se_reshape[0][0]']  \n",
      "                                                                                                  \n",
      " block4b_se_expand (Conv2D)  (None, 1, 1, 384)            9600      ['block4b_se_reduce[0][0]']   \n",
      "                                                                                                  \n",
      " block4b_se_excite (Multipl  (None, None, None, 384)      0         ['block4b_activation[0][0]',  \n",
      " y)                                                                  'block4b_se_expand[0][0]']   \n",
      "                                                                                                  \n",
      " block4b_project_conv (Conv  (None, None, None, 96)       36864     ['block4b_se_excite[0][0]']   \n",
      " 2D)                                                                                              \n",
      "                                                                                                  \n",
      " block4b_project_bn (BatchN  (None, None, None, 96)       384       ['block4b_project_conv[0][0]']\n",
      " ormalization)                                                                                    \n",
      "                                                                                                  \n",
      " block4b_drop (Dropout)      (None, None, None, 96)       0         ['block4b_project_bn[0][0]']  \n",
      "                                                                                                  \n",
      " block4b_add (Add)           (None, None, None, 96)       0         ['block4b_drop[0][0]',        \n",
      "                                                                     'block4a_project_bn[0][0]']  \n",
      "                                                                                                  \n",
      " block4c_expand_conv (Conv2  (None, None, None, 384)      36864     ['block4b_add[0][0]']         \n",
      " D)                                                                                               \n",
      "                                                                                                  \n",
      " block4c_expand_bn (BatchNo  (None, None, None, 384)      1536      ['block4c_expand_conv[0][0]'] \n",
      " rmalization)                                                                                     \n",
      "                                                                                                  \n",
      " block4c_expand_activation   (None, None, None, 384)      0         ['block4c_expand_bn[0][0]']   \n",
      " (Activation)                                                                                     \n",
      "                                                                                                  \n",
      " block4c_dwconv2 (Depthwise  (None, None, None, 384)      3456      ['block4c_expand_activation[0]\n",
      " Conv2D)                                                            [0]']                         \n",
      "                                                                                                  \n",
      " block4c_bn (BatchNormaliza  (None, None, None, 384)      1536      ['block4c_dwconv2[0][0]']     \n",
      " tion)                                                                                            \n",
      "                                                                                                  \n",
      " block4c_activation (Activa  (None, None, None, 384)      0         ['block4c_bn[0][0]']          \n",
      " tion)                                                                                            \n",
      "                                                                                                  \n",
      " block4c_se_squeeze (Global  (None, 384)                  0         ['block4c_activation[0][0]']  \n",
      " AveragePooling2D)                                                                                \n",
      "                                                                                                  \n",
      " block4c_se_reshape (Reshap  (None, 1, 1, 384)            0         ['block4c_se_squeeze[0][0]']  \n",
      " e)                                                                                               \n",
      "                                                                                                  \n",
      " block4c_se_reduce (Conv2D)  (None, 1, 1, 24)             9240      ['block4c_se_reshape[0][0]']  \n",
      "                                                                                                  \n",
      " block4c_se_expand (Conv2D)  (None, 1, 1, 384)            9600      ['block4c_se_reduce[0][0]']   \n",
      "                                                                                                  \n",
      " block4c_se_excite (Multipl  (None, None, None, 384)      0         ['block4c_activation[0][0]',  \n",
      " y)                                                                  'block4c_se_expand[0][0]']   \n",
      "                                                                                                  \n",
      " block4c_project_conv (Conv  (None, None, None, 96)       36864     ['block4c_se_excite[0][0]']   \n",
      " 2D)                                                                                              \n",
      "                                                                                                  \n",
      " block4c_project_bn (BatchN  (None, None, None, 96)       384       ['block4c_project_conv[0][0]']\n",
      " ormalization)                                                                                    \n",
      "                                                                                                  \n",
      " block4c_drop (Dropout)      (None, None, None, 96)       0         ['block4c_project_bn[0][0]']  \n",
      "                                                                                                  \n",
      " block4c_add (Add)           (None, None, None, 96)       0         ['block4c_drop[0][0]',        \n",
      "                                                                     'block4b_add[0][0]']         \n",
      "                                                                                                  \n",
      " block5a_expand_conv (Conv2  (None, None, None, 576)      55296     ['block4c_add[0][0]']         \n",
      " D)                                                                                               \n",
      "                                                                                                  \n",
      " block5a_expand_bn (BatchNo  (None, None, None, 576)      2304      ['block5a_expand_conv[0][0]'] \n",
      " rmalization)                                                                                     \n",
      "                                                                                                  \n",
      " block5a_expand_activation   (None, None, None, 576)      0         ['block5a_expand_bn[0][0]']   \n",
      " (Activation)                                                                                     \n",
      "                                                                                                  \n",
      " block5a_dwconv2 (Depthwise  (None, None, None, 576)      5184      ['block5a_expand_activation[0]\n",
      " Conv2D)                                                            [0]']                         \n",
      "                                                                                                  \n",
      " block5a_bn (BatchNormaliza  (None, None, None, 576)      2304      ['block5a_dwconv2[0][0]']     \n",
      " tion)                                                                                            \n",
      "                                                                                                  \n",
      " block5a_activation (Activa  (None, None, None, 576)      0         ['block5a_bn[0][0]']          \n",
      " tion)                                                                                            \n",
      "                                                                                                  \n",
      " block5a_se_squeeze (Global  (None, 576)                  0         ['block5a_activation[0][0]']  \n",
      " AveragePooling2D)                                                                                \n",
      "                                                                                                  \n",
      " block5a_se_reshape (Reshap  (None, 1, 1, 576)            0         ['block5a_se_squeeze[0][0]']  \n",
      " e)                                                                                               \n",
      "                                                                                                  \n",
      " block5a_se_reduce (Conv2D)  (None, 1, 1, 24)             13848     ['block5a_se_reshape[0][0]']  \n",
      "                                                                                                  \n",
      " block5a_se_expand (Conv2D)  (None, 1, 1, 576)            14400     ['block5a_se_reduce[0][0]']   \n",
      "                                                                                                  \n",
      " block5a_se_excite (Multipl  (None, None, None, 576)      0         ['block5a_activation[0][0]',  \n",
      " y)                                                                  'block5a_se_expand[0][0]']   \n",
      "                                                                                                  \n",
      " block5a_project_conv (Conv  (None, None, None, 112)      64512     ['block5a_se_excite[0][0]']   \n",
      " 2D)                                                                                              \n",
      "                                                                                                  \n",
      " block5a_project_bn (BatchN  (None, None, None, 112)      448       ['block5a_project_conv[0][0]']\n",
      " ormalization)                                                                                    \n",
      "                                                                                                  \n",
      " block5b_expand_conv (Conv2  (None, None, None, 672)      75264     ['block5a_project_bn[0][0]']  \n",
      " D)                                                                                               \n",
      "                                                                                                  \n",
      " block5b_expand_bn (BatchNo  (None, None, None, 672)      2688      ['block5b_expand_conv[0][0]'] \n",
      " rmalization)                                                                                     \n",
      "                                                                                                  \n",
      " block5b_expand_activation   (None, None, None, 672)      0         ['block5b_expand_bn[0][0]']   \n",
      " (Activation)                                                                                     \n",
      "                                                                                                  \n",
      " block5b_dwconv2 (Depthwise  (None, None, None, 672)      6048      ['block5b_expand_activation[0]\n",
      " Conv2D)                                                            [0]']                         \n",
      "                                                                                                  \n",
      " block5b_bn (BatchNormaliza  (None, None, None, 672)      2688      ['block5b_dwconv2[0][0]']     \n",
      " tion)                                                                                            \n",
      "                                                                                                  \n",
      " block5b_activation (Activa  (None, None, None, 672)      0         ['block5b_bn[0][0]']          \n",
      " tion)                                                                                            \n",
      "                                                                                                  \n",
      " block5b_se_squeeze (Global  (None, 672)                  0         ['block5b_activation[0][0]']  \n",
      " AveragePooling2D)                                                                                \n",
      "                                                                                                  \n",
      " block5b_se_reshape (Reshap  (None, 1, 1, 672)            0         ['block5b_se_squeeze[0][0]']  \n",
      " e)                                                                                               \n",
      "                                                                                                  \n",
      " block5b_se_reduce (Conv2D)  (None, 1, 1, 28)             18844     ['block5b_se_reshape[0][0]']  \n",
      "                                                                                                  \n",
      " block5b_se_expand (Conv2D)  (None, 1, 1, 672)            19488     ['block5b_se_reduce[0][0]']   \n",
      "                                                                                                  \n",
      " block5b_se_excite (Multipl  (None, None, None, 672)      0         ['block5b_activation[0][0]',  \n",
      " y)                                                                  'block5b_se_expand[0][0]']   \n",
      "                                                                                                  \n",
      " block5b_project_conv (Conv  (None, None, None, 112)      75264     ['block5b_se_excite[0][0]']   \n",
      " 2D)                                                                                              \n",
      "                                                                                                  \n",
      " block5b_project_bn (BatchN  (None, None, None, 112)      448       ['block5b_project_conv[0][0]']\n",
      " ormalization)                                                                                    \n",
      "                                                                                                  \n",
      " block5b_drop (Dropout)      (None, None, None, 112)      0         ['block5b_project_bn[0][0]']  \n",
      "                                                                                                  \n",
      " block5b_add (Add)           (None, None, None, 112)      0         ['block5b_drop[0][0]',        \n",
      "                                                                     'block5a_project_bn[0][0]']  \n",
      "                                                                                                  \n",
      " block5c_expand_conv (Conv2  (None, None, None, 672)      75264     ['block5b_add[0][0]']         \n",
      " D)                                                                                               \n",
      "                                                                                                  \n",
      " block5c_expand_bn (BatchNo  (None, None, None, 672)      2688      ['block5c_expand_conv[0][0]'] \n",
      " rmalization)                                                                                     \n",
      "                                                                                                  \n",
      " block5c_expand_activation   (None, None, None, 672)      0         ['block5c_expand_bn[0][0]']   \n",
      " (Activation)                                                                                     \n",
      "                                                                                                  \n",
      " block5c_dwconv2 (Depthwise  (None, None, None, 672)      6048      ['block5c_expand_activation[0]\n",
      " Conv2D)                                                            [0]']                         \n",
      "                                                                                                  \n",
      " block5c_bn (BatchNormaliza  (None, None, None, 672)      2688      ['block5c_dwconv2[0][0]']     \n",
      " tion)                                                                                            \n",
      "                                                                                                  \n",
      " block5c_activation (Activa  (None, None, None, 672)      0         ['block5c_bn[0][0]']          \n",
      " tion)                                                                                            \n",
      "                                                                                                  \n",
      " block5c_se_squeeze (Global  (None, 672)                  0         ['block5c_activation[0][0]']  \n",
      " AveragePooling2D)                                                                                \n",
      "                                                                                                  \n",
      " block5c_se_reshape (Reshap  (None, 1, 1, 672)            0         ['block5c_se_squeeze[0][0]']  \n",
      " e)                                                                                               \n",
      "                                                                                                  \n",
      " block5c_se_reduce (Conv2D)  (None, 1, 1, 28)             18844     ['block5c_se_reshape[0][0]']  \n",
      "                                                                                                  \n",
      " block5c_se_expand (Conv2D)  (None, 1, 1, 672)            19488     ['block5c_se_reduce[0][0]']   \n",
      "                                                                                                  \n",
      " block5c_se_excite (Multipl  (None, None, None, 672)      0         ['block5c_activation[0][0]',  \n",
      " y)                                                                  'block5c_se_expand[0][0]']   \n",
      "                                                                                                  \n",
      " block5c_project_conv (Conv  (None, None, None, 112)      75264     ['block5c_se_excite[0][0]']   \n",
      " 2D)                                                                                              \n",
      "                                                                                                  \n",
      " block5c_project_bn (BatchN  (None, None, None, 112)      448       ['block5c_project_conv[0][0]']\n",
      " ormalization)                                                                                    \n",
      "                                                                                                  \n",
      " block5c_drop (Dropout)      (None, None, None, 112)      0         ['block5c_project_bn[0][0]']  \n",
      "                                                                                                  \n",
      " block5c_add (Add)           (None, None, None, 112)      0         ['block5c_drop[0][0]',        \n",
      "                                                                     'block5b_add[0][0]']         \n",
      "                                                                                                  \n",
      " block5d_expand_conv (Conv2  (None, None, None, 672)      75264     ['block5c_add[0][0]']         \n",
      " D)                                                                                               \n",
      "                                                                                                  \n",
      " block5d_expand_bn (BatchNo  (None, None, None, 672)      2688      ['block5d_expand_conv[0][0]'] \n",
      " rmalization)                                                                                     \n",
      "                                                                                                  \n",
      " block5d_expand_activation   (None, None, None, 672)      0         ['block5d_expand_bn[0][0]']   \n",
      " (Activation)                                                                                     \n",
      "                                                                                                  \n",
      " block5d_dwconv2 (Depthwise  (None, None, None, 672)      6048      ['block5d_expand_activation[0]\n",
      " Conv2D)                                                            [0]']                         \n",
      "                                                                                                  \n",
      " block5d_bn (BatchNormaliza  (None, None, None, 672)      2688      ['block5d_dwconv2[0][0]']     \n",
      " tion)                                                                                            \n",
      "                                                                                                  \n",
      " block5d_activation (Activa  (None, None, None, 672)      0         ['block5d_bn[0][0]']          \n",
      " tion)                                                                                            \n",
      "                                                                                                  \n",
      " block5d_se_squeeze (Global  (None, 672)                  0         ['block5d_activation[0][0]']  \n",
      " AveragePooling2D)                                                                                \n",
      "                                                                                                  \n",
      " block5d_se_reshape (Reshap  (None, 1, 1, 672)            0         ['block5d_se_squeeze[0][0]']  \n",
      " e)                                                                                               \n",
      "                                                                                                  \n",
      " block5d_se_reduce (Conv2D)  (None, 1, 1, 28)             18844     ['block5d_se_reshape[0][0]']  \n",
      "                                                                                                  \n",
      " block5d_se_expand (Conv2D)  (None, 1, 1, 672)            19488     ['block5d_se_reduce[0][0]']   \n",
      "                                                                                                  \n",
      " block5d_se_excite (Multipl  (None, None, None, 672)      0         ['block5d_activation[0][0]',  \n",
      " y)                                                                  'block5d_se_expand[0][0]']   \n",
      "                                                                                                  \n",
      " block5d_project_conv (Conv  (None, None, None, 112)      75264     ['block5d_se_excite[0][0]']   \n",
      " 2D)                                                                                              \n",
      "                                                                                                  \n",
      " block5d_project_bn (BatchN  (None, None, None, 112)      448       ['block5d_project_conv[0][0]']\n",
      " ormalization)                                                                                    \n",
      "                                                                                                  \n",
      " block5d_drop (Dropout)      (None, None, None, 112)      0         ['block5d_project_bn[0][0]']  \n",
      "                                                                                                  \n",
      " block5d_add (Add)           (None, None, None, 112)      0         ['block5d_drop[0][0]',        \n",
      "                                                                     'block5c_add[0][0]']         \n",
      "                                                                                                  \n",
      " block5e_expand_conv (Conv2  (None, None, None, 672)      75264     ['block5d_add[0][0]']         \n",
      " D)                                                                                               \n",
      "                                                                                                  \n",
      " block5e_expand_bn (BatchNo  (None, None, None, 672)      2688      ['block5e_expand_conv[0][0]'] \n",
      " rmalization)                                                                                     \n",
      "                                                                                                  \n",
      " block5e_expand_activation   (None, None, None, 672)      0         ['block5e_expand_bn[0][0]']   \n",
      " (Activation)                                                                                     \n",
      "                                                                                                  \n",
      " block5e_dwconv2 (Depthwise  (None, None, None, 672)      6048      ['block5e_expand_activation[0]\n",
      " Conv2D)                                                            [0]']                         \n",
      "                                                                                                  \n",
      " block5e_bn (BatchNormaliza  (None, None, None, 672)      2688      ['block5e_dwconv2[0][0]']     \n",
      " tion)                                                                                            \n",
      "                                                                                                  \n",
      " block5e_activation (Activa  (None, None, None, 672)      0         ['block5e_bn[0][0]']          \n",
      " tion)                                                                                            \n",
      "                                                                                                  \n",
      " block5e_se_squeeze (Global  (None, 672)                  0         ['block5e_activation[0][0]']  \n",
      " AveragePooling2D)                                                                                \n",
      "                                                                                                  \n",
      " block5e_se_reshape (Reshap  (None, 1, 1, 672)            0         ['block5e_se_squeeze[0][0]']  \n",
      " e)                                                                                               \n",
      "                                                                                                  \n",
      " block5e_se_reduce (Conv2D)  (None, 1, 1, 28)             18844     ['block5e_se_reshape[0][0]']  \n",
      "                                                                                                  \n",
      " block5e_se_expand (Conv2D)  (None, 1, 1, 672)            19488     ['block5e_se_reduce[0][0]']   \n",
      "                                                                                                  \n",
      " block5e_se_excite (Multipl  (None, None, None, 672)      0         ['block5e_activation[0][0]',  \n",
      " y)                                                                  'block5e_se_expand[0][0]']   \n",
      "                                                                                                  \n",
      " block5e_project_conv (Conv  (None, None, None, 112)      75264     ['block5e_se_excite[0][0]']   \n",
      " 2D)                                                                                              \n",
      "                                                                                                  \n",
      " block5e_project_bn (BatchN  (None, None, None, 112)      448       ['block5e_project_conv[0][0]']\n",
      " ormalization)                                                                                    \n",
      "                                                                                                  \n",
      " block5e_drop (Dropout)      (None, None, None, 112)      0         ['block5e_project_bn[0][0]']  \n",
      "                                                                                                  \n",
      " block5e_add (Add)           (None, None, None, 112)      0         ['block5e_drop[0][0]',        \n",
      "                                                                     'block5d_add[0][0]']         \n",
      "                                                                                                  \n",
      " block6a_expand_conv (Conv2  (None, None, None, 672)      75264     ['block5e_add[0][0]']         \n",
      " D)                                                                                               \n",
      "                                                                                                  \n",
      " block6a_expand_bn (BatchNo  (None, None, None, 672)      2688      ['block6a_expand_conv[0][0]'] \n",
      " rmalization)                                                                                     \n",
      "                                                                                                  \n",
      " block6a_expand_activation   (None, None, None, 672)      0         ['block6a_expand_bn[0][0]']   \n",
      " (Activation)                                                                                     \n",
      "                                                                                                  \n",
      " block6a_dwconv2 (Depthwise  (None, None, None, 672)      6048      ['block6a_expand_activation[0]\n",
      " Conv2D)                                                            [0]']                         \n",
      "                                                                                                  \n",
      " block6a_bn (BatchNormaliza  (None, None, None, 672)      2688      ['block6a_dwconv2[0][0]']     \n",
      " tion)                                                                                            \n",
      "                                                                                                  \n",
      " block6a_activation (Activa  (None, None, None, 672)      0         ['block6a_bn[0][0]']          \n",
      " tion)                                                                                            \n",
      "                                                                                                  \n",
      " block6a_se_squeeze (Global  (None, 672)                  0         ['block6a_activation[0][0]']  \n",
      " AveragePooling2D)                                                                                \n",
      "                                                                                                  \n",
      " block6a_se_reshape (Reshap  (None, 1, 1, 672)            0         ['block6a_se_squeeze[0][0]']  \n",
      " e)                                                                                               \n",
      "                                                                                                  \n",
      " block6a_se_reduce (Conv2D)  (None, 1, 1, 28)             18844     ['block6a_se_reshape[0][0]']  \n",
      "                                                                                                  \n",
      " block6a_se_expand (Conv2D)  (None, 1, 1, 672)            19488     ['block6a_se_reduce[0][0]']   \n",
      "                                                                                                  \n",
      " block6a_se_excite (Multipl  (None, None, None, 672)      0         ['block6a_activation[0][0]',  \n",
      " y)                                                                  'block6a_se_expand[0][0]']   \n",
      "                                                                                                  \n",
      " block6a_project_conv (Conv  (None, None, None, 192)      129024    ['block6a_se_excite[0][0]']   \n",
      " 2D)                                                                                              \n",
      "                                                                                                  \n",
      " block6a_project_bn (BatchN  (None, None, None, 192)      768       ['block6a_project_conv[0][0]']\n",
      " ormalization)                                                                                    \n",
      "                                                                                                  \n",
      " block6b_expand_conv (Conv2  (None, None, None, 1152)     221184    ['block6a_project_bn[0][0]']  \n",
      " D)                                                                                               \n",
      "                                                                                                  \n",
      " block6b_expand_bn (BatchNo  (None, None, None, 1152)     4608      ['block6b_expand_conv[0][0]'] \n",
      " rmalization)                                                                                     \n",
      "                                                                                                  \n",
      " block6b_expand_activation   (None, None, None, 1152)     0         ['block6b_expand_bn[0][0]']   \n",
      " (Activation)                                                                                     \n",
      "                                                                                                  \n",
      " block6b_dwconv2 (Depthwise  (None, None, None, 1152)     10368     ['block6b_expand_activation[0]\n",
      " Conv2D)                                                            [0]']                         \n",
      "                                                                                                  \n",
      " block6b_bn (BatchNormaliza  (None, None, None, 1152)     4608      ['block6b_dwconv2[0][0]']     \n",
      " tion)                                                                                            \n",
      "                                                                                                  \n",
      " block6b_activation (Activa  (None, None, None, 1152)     0         ['block6b_bn[0][0]']          \n",
      " tion)                                                                                            \n",
      "                                                                                                  \n",
      " block6b_se_squeeze (Global  (None, 1152)                 0         ['block6b_activation[0][0]']  \n",
      " AveragePooling2D)                                                                                \n",
      "                                                                                                  \n",
      " block6b_se_reshape (Reshap  (None, 1, 1, 1152)           0         ['block6b_se_squeeze[0][0]']  \n",
      " e)                                                                                               \n",
      "                                                                                                  \n",
      " block6b_se_reduce (Conv2D)  (None, 1, 1, 48)             55344     ['block6b_se_reshape[0][0]']  \n",
      "                                                                                                  \n",
      " block6b_se_expand (Conv2D)  (None, 1, 1, 1152)           56448     ['block6b_se_reduce[0][0]']   \n",
      "                                                                                                  \n",
      " block6b_se_excite (Multipl  (None, None, None, 1152)     0         ['block6b_activation[0][0]',  \n",
      " y)                                                                  'block6b_se_expand[0][0]']   \n",
      "                                                                                                  \n",
      " block6b_project_conv (Conv  (None, None, None, 192)      221184    ['block6b_se_excite[0][0]']   \n",
      " 2D)                                                                                              \n",
      "                                                                                                  \n",
      " block6b_project_bn (BatchN  (None, None, None, 192)      768       ['block6b_project_conv[0][0]']\n",
      " ormalization)                                                                                    \n",
      "                                                                                                  \n",
      " block6b_drop (Dropout)      (None, None, None, 192)      0         ['block6b_project_bn[0][0]']  \n",
      "                                                                                                  \n",
      " block6b_add (Add)           (None, None, None, 192)      0         ['block6b_drop[0][0]',        \n",
      "                                                                     'block6a_project_bn[0][0]']  \n",
      "                                                                                                  \n",
      " block6c_expand_conv (Conv2  (None, None, None, 1152)     221184    ['block6b_add[0][0]']         \n",
      " D)                                                                                               \n",
      "                                                                                                  \n",
      " block6c_expand_bn (BatchNo  (None, None, None, 1152)     4608      ['block6c_expand_conv[0][0]'] \n",
      " rmalization)                                                                                     \n",
      "                                                                                                  \n",
      " block6c_expand_activation   (None, None, None, 1152)     0         ['block6c_expand_bn[0][0]']   \n",
      " (Activation)                                                                                     \n",
      "                                                                                                  \n",
      " block6c_dwconv2 (Depthwise  (None, None, None, 1152)     10368     ['block6c_expand_activation[0]\n",
      " Conv2D)                                                            [0]']                         \n",
      "                                                                                                  \n",
      " block6c_bn (BatchNormaliza  (None, None, None, 1152)     4608      ['block6c_dwconv2[0][0]']     \n",
      " tion)                                                                                            \n",
      "                                                                                                  \n",
      " block6c_activation (Activa  (None, None, None, 1152)     0         ['block6c_bn[0][0]']          \n",
      " tion)                                                                                            \n",
      "                                                                                                  \n",
      " block6c_se_squeeze (Global  (None, 1152)                 0         ['block6c_activation[0][0]']  \n",
      " AveragePooling2D)                                                                                \n",
      "                                                                                                  \n",
      " block6c_se_reshape (Reshap  (None, 1, 1, 1152)           0         ['block6c_se_squeeze[0][0]']  \n",
      " e)                                                                                               \n",
      "                                                                                                  \n",
      " block6c_se_reduce (Conv2D)  (None, 1, 1, 48)             55344     ['block6c_se_reshape[0][0]']  \n",
      "                                                                                                  \n",
      " block6c_se_expand (Conv2D)  (None, 1, 1, 1152)           56448     ['block6c_se_reduce[0][0]']   \n",
      "                                                                                                  \n",
      " block6c_se_excite (Multipl  (None, None, None, 1152)     0         ['block6c_activation[0][0]',  \n",
      " y)                                                                  'block6c_se_expand[0][0]']   \n",
      "                                                                                                  \n",
      " block6c_project_conv (Conv  (None, None, None, 192)      221184    ['block6c_se_excite[0][0]']   \n",
      " 2D)                                                                                              \n",
      "                                                                                                  \n",
      " block6c_project_bn (BatchN  (None, None, None, 192)      768       ['block6c_project_conv[0][0]']\n",
      " ormalization)                                                                                    \n",
      "                                                                                                  \n",
      " block6c_drop (Dropout)      (None, None, None, 192)      0         ['block6c_project_bn[0][0]']  \n",
      "                                                                                                  \n",
      " block6c_add (Add)           (None, None, None, 192)      0         ['block6c_drop[0][0]',        \n",
      "                                                                     'block6b_add[0][0]']         \n",
      "                                                                                                  \n",
      " block6d_expand_conv (Conv2  (None, None, None, 1152)     221184    ['block6c_add[0][0]']         \n",
      " D)                                                                                               \n",
      "                                                                                                  \n",
      " block6d_expand_bn (BatchNo  (None, None, None, 1152)     4608      ['block6d_expand_conv[0][0]'] \n",
      " rmalization)                                                                                     \n",
      "                                                                                                  \n",
      " block6d_expand_activation   (None, None, None, 1152)     0         ['block6d_expand_bn[0][0]']   \n",
      " (Activation)                                                                                     \n",
      "                                                                                                  \n",
      " block6d_dwconv2 (Depthwise  (None, None, None, 1152)     10368     ['block6d_expand_activation[0]\n",
      " Conv2D)                                                            [0]']                         \n",
      "                                                                                                  \n",
      " block6d_bn (BatchNormaliza  (None, None, None, 1152)     4608      ['block6d_dwconv2[0][0]']     \n",
      " tion)                                                                                            \n",
      "                                                                                                  \n",
      " block6d_activation (Activa  (None, None, None, 1152)     0         ['block6d_bn[0][0]']          \n",
      " tion)                                                                                            \n",
      "                                                                                                  \n",
      " block6d_se_squeeze (Global  (None, 1152)                 0         ['block6d_activation[0][0]']  \n",
      " AveragePooling2D)                                                                                \n",
      "                                                                                                  \n",
      " block6d_se_reshape (Reshap  (None, 1, 1, 1152)           0         ['block6d_se_squeeze[0][0]']  \n",
      " e)                                                                                               \n",
      "                                                                                                  \n",
      " block6d_se_reduce (Conv2D)  (None, 1, 1, 48)             55344     ['block6d_se_reshape[0][0]']  \n",
      "                                                                                                  \n",
      " block6d_se_expand (Conv2D)  (None, 1, 1, 1152)           56448     ['block6d_se_reduce[0][0]']   \n",
      "                                                                                                  \n",
      " block6d_se_excite (Multipl  (None, None, None, 1152)     0         ['block6d_activation[0][0]',  \n",
      " y)                                                                  'block6d_se_expand[0][0]']   \n",
      "                                                                                                  \n",
      " block6d_project_conv (Conv  (None, None, None, 192)      221184    ['block6d_se_excite[0][0]']   \n",
      " 2D)                                                                                              \n",
      "                                                                                                  \n",
      " block6d_project_bn (BatchN  (None, None, None, 192)      768       ['block6d_project_conv[0][0]']\n",
      " ormalization)                                                                                    \n",
      "                                                                                                  \n",
      " block6d_drop (Dropout)      (None, None, None, 192)      0         ['block6d_project_bn[0][0]']  \n",
      "                                                                                                  \n",
      " block6d_add (Add)           (None, None, None, 192)      0         ['block6d_drop[0][0]',        \n",
      "                                                                     'block6c_add[0][0]']         \n",
      "                                                                                                  \n",
      " block6e_expand_conv (Conv2  (None, None, None, 1152)     221184    ['block6d_add[0][0]']         \n",
      " D)                                                                                               \n",
      "                                                                                                  \n",
      " block6e_expand_bn (BatchNo  (None, None, None, 1152)     4608      ['block6e_expand_conv[0][0]'] \n",
      " rmalization)                                                                                     \n",
      "                                                                                                  \n",
      " block6e_expand_activation   (None, None, None, 1152)     0         ['block6e_expand_bn[0][0]']   \n",
      " (Activation)                                                                                     \n",
      "                                                                                                  \n",
      " block6e_dwconv2 (Depthwise  (None, None, None, 1152)     10368     ['block6e_expand_activation[0]\n",
      " Conv2D)                                                            [0]']                         \n",
      "                                                                                                  \n",
      " block6e_bn (BatchNormaliza  (None, None, None, 1152)     4608      ['block6e_dwconv2[0][0]']     \n",
      " tion)                                                                                            \n",
      "                                                                                                  \n",
      " block6e_activation (Activa  (None, None, None, 1152)     0         ['block6e_bn[0][0]']          \n",
      " tion)                                                                                            \n",
      "                                                                                                  \n",
      " block6e_se_squeeze (Global  (None, 1152)                 0         ['block6e_activation[0][0]']  \n",
      " AveragePooling2D)                                                                                \n",
      "                                                                                                  \n",
      " block6e_se_reshape (Reshap  (None, 1, 1, 1152)           0         ['block6e_se_squeeze[0][0]']  \n",
      " e)                                                                                               \n",
      "                                                                                                  \n",
      " block6e_se_reduce (Conv2D)  (None, 1, 1, 48)             55344     ['block6e_se_reshape[0][0]']  \n",
      "                                                                                                  \n",
      " block6e_se_expand (Conv2D)  (None, 1, 1, 1152)           56448     ['block6e_se_reduce[0][0]']   \n",
      "                                                                                                  \n",
      " block6e_se_excite (Multipl  (None, None, None, 1152)     0         ['block6e_activation[0][0]',  \n",
      " y)                                                                  'block6e_se_expand[0][0]']   \n",
      "                                                                                                  \n",
      " block6e_project_conv (Conv  (None, None, None, 192)      221184    ['block6e_se_excite[0][0]']   \n",
      " 2D)                                                                                              \n",
      "                                                                                                  \n",
      " block6e_project_bn (BatchN  (None, None, None, 192)      768       ['block6e_project_conv[0][0]']\n",
      " ormalization)                                                                                    \n",
      "                                                                                                  \n",
      " block6e_drop (Dropout)      (None, None, None, 192)      0         ['block6e_project_bn[0][0]']  \n",
      "                                                                                                  \n",
      " block6e_add (Add)           (None, None, None, 192)      0         ['block6e_drop[0][0]',        \n",
      "                                                                     'block6d_add[0][0]']         \n",
      "                                                                                                  \n",
      " block6f_expand_conv (Conv2  (None, None, None, 1152)     221184    ['block6e_add[0][0]']         \n",
      " D)                                                                                               \n",
      "                                                                                                  \n",
      " block6f_expand_bn (BatchNo  (None, None, None, 1152)     4608      ['block6f_expand_conv[0][0]'] \n",
      " rmalization)                                                                                     \n",
      "                                                                                                  \n",
      " block6f_expand_activation   (None, None, None, 1152)     0         ['block6f_expand_bn[0][0]']   \n",
      " (Activation)                                                                                     \n",
      "                                                                                                  \n",
      " block6f_dwconv2 (Depthwise  (None, None, None, 1152)     10368     ['block6f_expand_activation[0]\n",
      " Conv2D)                                                            [0]']                         \n",
      "                                                                                                  \n",
      " block6f_bn (BatchNormaliza  (None, None, None, 1152)     4608      ['block6f_dwconv2[0][0]']     \n",
      " tion)                                                                                            \n",
      "                                                                                                  \n",
      " block6f_activation (Activa  (None, None, None, 1152)     0         ['block6f_bn[0][0]']          \n",
      " tion)                                                                                            \n",
      "                                                                                                  \n",
      " block6f_se_squeeze (Global  (None, 1152)                 0         ['block6f_activation[0][0]']  \n",
      " AveragePooling2D)                                                                                \n",
      "                                                                                                  \n",
      " block6f_se_reshape (Reshap  (None, 1, 1, 1152)           0         ['block6f_se_squeeze[0][0]']  \n",
      " e)                                                                                               \n",
      "                                                                                                  \n",
      " block6f_se_reduce (Conv2D)  (None, 1, 1, 48)             55344     ['block6f_se_reshape[0][0]']  \n",
      "                                                                                                  \n",
      " block6f_se_expand (Conv2D)  (None, 1, 1, 1152)           56448     ['block6f_se_reduce[0][0]']   \n",
      "                                                                                                  \n",
      " block6f_se_excite (Multipl  (None, None, None, 1152)     0         ['block6f_activation[0][0]',  \n",
      " y)                                                                  'block6f_se_expand[0][0]']   \n",
      "                                                                                                  \n",
      " block6f_project_conv (Conv  (None, None, None, 192)      221184    ['block6f_se_excite[0][0]']   \n",
      " 2D)                                                                                              \n",
      "                                                                                                  \n",
      " block6f_project_bn (BatchN  (None, None, None, 192)      768       ['block6f_project_conv[0][0]']\n",
      " ormalization)                                                                                    \n",
      "                                                                                                  \n",
      " block6f_drop (Dropout)      (None, None, None, 192)      0         ['block6f_project_bn[0][0]']  \n",
      "                                                                                                  \n",
      " block6f_add (Add)           (None, None, None, 192)      0         ['block6f_drop[0][0]',        \n",
      "                                                                     'block6e_add[0][0]']         \n",
      "                                                                                                  \n",
      " block6g_expand_conv (Conv2  (None, None, None, 1152)     221184    ['block6f_add[0][0]']         \n",
      " D)                                                                                               \n",
      "                                                                                                  \n",
      " block6g_expand_bn (BatchNo  (None, None, None, 1152)     4608      ['block6g_expand_conv[0][0]'] \n",
      " rmalization)                                                                                     \n",
      "                                                                                                  \n",
      " block6g_expand_activation   (None, None, None, 1152)     0         ['block6g_expand_bn[0][0]']   \n",
      " (Activation)                                                                                     \n",
      "                                                                                                  \n",
      " block6g_dwconv2 (Depthwise  (None, None, None, 1152)     10368     ['block6g_expand_activation[0]\n",
      " Conv2D)                                                            [0]']                         \n",
      "                                                                                                  \n",
      " block6g_bn (BatchNormaliza  (None, None, None, 1152)     4608      ['block6g_dwconv2[0][0]']     \n",
      " tion)                                                                                            \n",
      "                                                                                                  \n",
      " block6g_activation (Activa  (None, None, None, 1152)     0         ['block6g_bn[0][0]']          \n",
      " tion)                                                                                            \n",
      "                                                                                                  \n",
      " block6g_se_squeeze (Global  (None, 1152)                 0         ['block6g_activation[0][0]']  \n",
      " AveragePooling2D)                                                                                \n",
      "                                                                                                  \n",
      " block6g_se_reshape (Reshap  (None, 1, 1, 1152)           0         ['block6g_se_squeeze[0][0]']  \n",
      " e)                                                                                               \n",
      "                                                                                                  \n",
      " block6g_se_reduce (Conv2D)  (None, 1, 1, 48)             55344     ['block6g_se_reshape[0][0]']  \n",
      "                                                                                                  \n",
      " block6g_se_expand (Conv2D)  (None, 1, 1, 1152)           56448     ['block6g_se_reduce[0][0]']   \n",
      "                                                                                                  \n",
      " block6g_se_excite (Multipl  (None, None, None, 1152)     0         ['block6g_activation[0][0]',  \n",
      " y)                                                                  'block6g_se_expand[0][0]']   \n",
      "                                                                                                  \n",
      " block6g_project_conv (Conv  (None, None, None, 192)      221184    ['block6g_se_excite[0][0]']   \n",
      " 2D)                                                                                              \n",
      "                                                                                                  \n",
      " block6g_project_bn (BatchN  (None, None, None, 192)      768       ['block6g_project_conv[0][0]']\n",
      " ormalization)                                                                                    \n",
      "                                                                                                  \n",
      " block6g_drop (Dropout)      (None, None, None, 192)      0         ['block6g_project_bn[0][0]']  \n",
      "                                                                                                  \n",
      " block6g_add (Add)           (None, None, None, 192)      0         ['block6g_drop[0][0]',        \n",
      "                                                                     'block6f_add[0][0]']         \n",
      "                                                                                                  \n",
      " block6h_expand_conv (Conv2  (None, None, None, 1152)     221184    ['block6g_add[0][0]']         \n",
      " D)                                                                                               \n",
      "                                                                                                  \n",
      " block6h_expand_bn (BatchNo  (None, None, None, 1152)     4608      ['block6h_expand_conv[0][0]'] \n",
      " rmalization)                                                                                     \n",
      "                                                                                                  \n",
      " block6h_expand_activation   (None, None, None, 1152)     0         ['block6h_expand_bn[0][0]']   \n",
      " (Activation)                                                                                     \n",
      "                                                                                                  \n",
      " block6h_dwconv2 (Depthwise  (None, None, None, 1152)     10368     ['block6h_expand_activation[0]\n",
      " Conv2D)                                                            [0]']                         \n",
      "                                                                                                  \n",
      " block6h_bn (BatchNormaliza  (None, None, None, 1152)     4608      ['block6h_dwconv2[0][0]']     \n",
      " tion)                                                                                            \n",
      "                                                                                                  \n",
      " block6h_activation (Activa  (None, None, None, 1152)     0         ['block6h_bn[0][0]']          \n",
      " tion)                                                                                            \n",
      "                                                                                                  \n",
      " block6h_se_squeeze (Global  (None, 1152)                 0         ['block6h_activation[0][0]']  \n",
      " AveragePooling2D)                                                                                \n",
      "                                                                                                  \n",
      " block6h_se_reshape (Reshap  (None, 1, 1, 1152)           0         ['block6h_se_squeeze[0][0]']  \n",
      " e)                                                                                               \n",
      "                                                                                                  \n",
      " block6h_se_reduce (Conv2D)  (None, 1, 1, 48)             55344     ['block6h_se_reshape[0][0]']  \n",
      "                                                                                                  \n",
      " block6h_se_expand (Conv2D)  (None, 1, 1, 1152)           56448     ['block6h_se_reduce[0][0]']   \n",
      "                                                                                                  \n",
      " block6h_se_excite (Multipl  (None, None, None, 1152)     0         ['block6h_activation[0][0]',  \n",
      " y)                                                                  'block6h_se_expand[0][0]']   \n",
      "                                                                                                  \n",
      " block6h_project_conv (Conv  (None, None, None, 192)      221184    ['block6h_se_excite[0][0]']   \n",
      " 2D)                                                                                              \n",
      "                                                                                                  \n",
      " block6h_project_bn (BatchN  (None, None, None, 192)      768       ['block6h_project_conv[0][0]']\n",
      " ormalization)                                                                                    \n",
      "                                                                                                  \n",
      " block6h_drop (Dropout)      (None, None, None, 192)      0         ['block6h_project_bn[0][0]']  \n",
      "                                                                                                  \n",
      " block6h_add (Add)           (None, None, None, 192)      0         ['block6h_drop[0][0]',        \n",
      "                                                                     'block6g_add[0][0]']         \n",
      "                                                                                                  \n",
      " top_conv (Conv2D)           (None, None, None, 1280)     245760    ['block6h_add[0][0]']         \n",
      "                                                                                                  \n",
      " top_bn (BatchNormalization  (None, None, None, 1280)     5120      ['top_conv[0][0]']            \n",
      " )                                                                                                \n",
      "                                                                                                  \n",
      " top_activation (Activation  (None, None, None, 1280)     0         ['top_bn[0][0]']              \n",
      " )                                                                                                \n",
      "                                                                                                  \n",
      "==================================================================================================\n",
      "Total params: 5919312 (22.58 MB)\n",
      "Trainable params: 0 (0.00 Byte)\n",
      "Non-trainable params: 5919312 (22.58 MB)\n",
      "__________________________________________________________________________________________________\n"
     ]
    }
   ],
   "source": [
    "base_model.summary()"
   ]
  },
  {
   "cell_type": "code",
   "execution_count": 11,
   "metadata": {},
   "outputs": [
    {
     "name": "stdout",
     "output_type": "stream",
     "text": [
      "Model: \"model\"\n",
      "_________________________________________________________________\n",
      " Layer (type)                Output Shape              Param #   \n",
      "=================================================================\n",
      " input_layer (InputLayer)    [(None, 224, 224, 3)]     0         \n",
      "                                                                 \n",
      " efficientnetv2-b0 (Functio  (None, None, None, 1280   5919312   \n",
      " nal)                        )                                   \n",
      "                                                                 \n",
      " global_average_pooling_lay  (None, 1280)              0         \n",
      " er (GlobalAveragePooling2D                                      \n",
      " )                                                               \n",
      "                                                                 \n",
      " output_layer (Dense)        (None, 10)                12810     \n",
      "                                                                 \n",
      "=================================================================\n",
      "Total params: 5932122 (22.63 MB)\n",
      "Trainable params: 12810 (50.04 KB)\n",
      "Non-trainable params: 5919312 (22.58 MB)\n",
      "_________________________________________________________________\n"
     ]
    }
   ],
   "source": [
    "# Check summary of model constructed with Functional API\n",
    "model_0.summary()"
   ]
  },
  {
   "cell_type": "markdown",
   "metadata": {},
   "source": [
    "Our overall model has five layers but really, one of those layers (`efficientnetv2-b0`) has 269 layers.\n",
    "\n",
    "You can see how the output shape started out as `(None, 224, 224, 3)` for the input layer (the shape of our images) but was transformed to be `(None, 10)` by the output layer (the shape of our labels), where `None` is the placeholder for the batch size.\n",
    "\n",
    "Notice too, the only trainable parameters in the model are those in the output layer.\n",
    "\n",
    "How do our model's training curves look?\n",
    "\n"
   ]
  },
  {
   "cell_type": "code",
   "execution_count": 12,
   "metadata": {},
   "outputs": [
    {
     "data": {
      "image/png": "[encoded data removed]",
      "text/plain": [
       "<Figure size 640x480 with 1 Axes>"
      ]
     },
     "metadata": {},
     "output_type": "display_data"
    },
    {
     "data": {
      "image/png": "[encoded data removed]",
      "text/plain": [
       "<Figure size 640x480 with 1 Axes>"
      ]
     },
     "metadata": {},
     "output_type": "display_data"
    }
   ],
   "source": [
    "# Check out our model's training curves\n",
    "plot_loss_curves(history_10_percent)"
   ]
  },
  {
   "cell_type": "markdown",
   "metadata": {},
   "source": [
    "## Getting a feature vector from a trained model"
   ]
  },
  {
   "cell_type": "code",
   "execution_count": 14,
   "metadata": {},
   "outputs": [
    {
     "name": "stdout",
     "output_type": "stream",
     "text": [
      "2D global average pooled random tensor:\n",
      " [[-0.09368646 -0.45840448 -0.2885598 ]]\n",
      "\n",
      "Shape of input tensor: (1, 4, 4, 3)\n",
      "Shape of 2D global averaged pooled input tensor: (1, 3)\n"
     ]
    }
   ],
   "source": [
    "# Define input tensor shape (same number of dimensions as the output of efficientnetv2-b0)\n",
    "input_shape = (1, 4, 4, 3)\n",
    "\n",
    "tf.random.set_seed(42)\n",
    "input_tensor = tf.random.normal(input_shape)\n",
    "\n",
    "# Pass the random tensor through a global average pooling 2D layer\n",
    "global_average_pooled_tensor = tf.keras.layers.GlobalAveragePooling2D()(input_tensor)\n",
    "print(f\"2D global average pooled random tensor:\\n {global_average_pooled_tensor}\\n\")\n",
    "\n",
    "# Check the shapes of the different tensors\n",
    "print(f\"Shape of input tensor: {input_tensor.shape}\")\n",
    "print(f\"Shape of 2D global averaged pooled input tensor: {global_average_pooled_tensor.shape}\")"
   ]
  },
  {
   "cell_type": "markdown",
   "metadata": {},
   "source": [
    "You can see the `tf.keras.layers.GlobalAveragePooling2D()` layer condensed the input tensor from shape `(1, 4, 4, 3)` to `(1, 3)`. It did so by averaging the `input_tensor` across the middle two axes.\n",
    "\n",
    "We can replicate this operation using the `tf.reduce_mean()` operation and specifying the appropriate axes."
   ]
  },
  {
   "cell_type": "code",
   "execution_count": 15,
   "metadata": {},
   "outputs": [
    {
     "data": {
      "text/plain": [
       "<tf.Tensor: shape=(1, 3), dtype=float32, numpy=array([[-0.09368646, -0.45840448, -0.2885598 ]], dtype=float32)>"
      ]
     },
     "execution_count": 15,
     "metadata": {},
     "output_type": "execute_result"
    }
   ],
   "source": [
    "# This is the same as GlobalAveragePooling2D()\n",
    "tf.reduce_mean(input_tensor, axis=[1, 2]) # average across the middle axes"
   ]
  },
  {
   "cell_type": "markdown",
   "metadata": {},
   "source": [
    "Doing this not only makes the output of the base model compatible with the input shape requirement of our output layer (`tf.keras.layers.Dense()`), it also condenses the information found by the base model into a lower dimension **feature vector**.\n",
    "\n",
    "> 🔑 **Note:** One of the reasons feature extraction transfer learning is named how it is is because what often happens is a pretrained model outputs a **feature vector** (a long tensor of numbers, in our case, this is the output of the [`tf.keras.layers.GlobalAveragePooling2D()`](https://www.tensorflow.org/api_docs/python/tf/keras/layers/GlobalAveragePooling2D) layer) which can then be used to extract patterns out of.\n",
    "\n",
    "> 🛠 **Practice:** Do the same as the above cell but for [`tf.keras.layers.GlobalMaxPool2D()`](https://www.tensorflow.org/api_docs/python/tf/keras/layers/GlobalMaxPool2D)."
   ]
  },
  {
   "cell_type": "markdown",
   "metadata": {},
   "source": [
    "## Running a series of transfer learning experiments\n",
    "\n",
    "1. **Model 1**: Use feature extraction transfer learning on 1% of the training data with data augmentation.\n",
    "2. **Model 2**: Use feature extraction transfer learning on 10% of the training data with data augmentation and save the results to a checkpoint.\n",
    "3. **Model 3**: Fine-tune the **Model 2** checkpoint on 10% of the training data with data augmentation.\n",
    "4. **Model 4**: Fine-tune the **Model 2** checkpoint on 100% of the training data with data augmentation."
   ]
  },
  {
   "cell_type": "markdown",
   "metadata": {},
   "source": [
    "## Model 2: Feature extraction transfer learning with 10% of data and data augmentation"
   ]
  },
  {
   "cell_type": "code",
   "execution_count": 25,
   "metadata": {},
   "outputs": [],
   "source": [
    "# Create training and test directories\n",
    "train_dir_10_percent = \"./data/data_multiclass_10/train/\"\n",
    "test_dir_10_percent = \"./data/data_multiclass_10/test/\""
   ]
  },
  {
   "cell_type": "markdown",
   "metadata": {},
   "source": [
    "Data downloaded. Let's create the dataloaders."
   ]
  },
  {
   "cell_type": "code",
   "execution_count": 26,
   "metadata": {},
   "outputs": [
    {
     "name": "stdout",
     "output_type": "stream",
     "text": [
      "Found 750 files belonging to 10 classes.\n"
     ]
    },
    {
     "name": "stdout",
     "output_type": "stream",
     "text": [
      "Found 2500 files belonging to 10 classes.\n"
     ]
    }
   ],
   "source": [
    "# Setup data inputs\n",
    "IMG_SIZE = (224, 224)\n",
    "train_data_10_percent = tf.keras.preprocessing.image_dataset_from_directory(train_dir_10_percent,\n",
    "                                                                            label_mode=\"categorical\",\n",
    "                                                                            image_size=IMG_SIZE)\n",
    "\n",
    "test_data = tf.keras.preprocessing.image_dataset_from_directory(test_dir,\n",
    "                                                                label_mode=\"categorical\",\n",
    "                                                                image_size=IMG_SIZE)"
   ]
  },
  {
   "cell_type": "code",
   "execution_count": 27,
   "metadata": {},
   "outputs": [],
   "source": [
    "# Create a functional model with data augmentation\n",
    "data_augmentation = keras.Sequential([\n",
    "  keras.layers.RandomFlip(\"horizontal\"),\n",
    "  keras.layers.RandomRotation(0.2),\n",
    "  keras.layers.RandomZoom(0.2),\n",
    "  keras.layers.RandomHeight(0.2),\n",
    "  keras.layers.RandomWidth(0.2),\n",
    "  # preprocessing.Rescaling(1./255) # keep for ResNet50V2, remove for EfficientNet\n",
    "], name =\"data_augmentation\")\n",
    "\n",
    "# Setup the input shape to our model\n",
    "input_shape = (224, 224, 3)\n",
    "\n",
    "# Create a frozen base model\n",
    "base_model = tf.keras.applications.efficientnet_v2.EfficientNetV2B0(include_top=False)\n",
    "base_model.trainable = False\n",
    "\n",
    "# Create input and output layers\n",
    "inputs = keras.layers.Input(shape=input_shape, name=\"input_layer\") # create input layer\n",
    "x = data_augmentation(inputs) # augment our training images\n",
    "x = base_model(x, training=False) # pass augmented images to base model but keep it in inference mode, so batchnorm layers don't get updated: https://keras.io/guides/transfer_learning/#build-a-model\n",
    "x = keras.layers.GlobalAveragePooling2D(name=\"global_average_pooling_layer\")(x)\n",
    "outputs = keras.layers.Dense(10, activation=\"softmax\", name=\"output_layer\")(x)\n",
    "model_2 = keras.Model(inputs, outputs)\n",
    "\n",
    "# Compile\n",
    "model_2.compile(loss=\"categorical_crossentropy\", optimizer=tf.keras.optimizers.Adam(learning_rate=0.001), metrics=[\"accuracy\"])"
   ]
  },
  {
   "cell_type": "code",
   "execution_count": 28,
   "metadata": {},
   "outputs": [],
   "source": [
    "def create_base_model(input_shape: tuple[int, int, int] = (224, 224, 3),\n",
    "                      output_shape: int = 10,\n",
    "                      learning_rate: float = 0.001,\n",
    "                      training: bool = False) -> tf.keras.Model:\n",
    "    # Create base model\n",
    "    base_model = tf.keras.applications.efficientnet_v2.EfficientNetV2B0(include_top=False)\n",
    "    base_model.trainable = training\n",
    "\n",
    "    # Setup model input and outputs with data augmentation built-in\n",
    "    inputs = keras.layers.Input(shape=input_shape, name=\"input_layer\")\n",
    "    x = data_augmentation(inputs)\n",
    "    x = base_model(x, training=False)  # pass augmented images to base model but keep it in inference mode\n",
    "    x = keras.layers.GlobalAveragePooling2D(name=\"global_average_pooling_layer\")(x)\n",
    "    outputs = keras.layers.Dense(units=output_shape, activation=\"softmax\", name=\"output_layer\")(x)\n",
    "    model = tf.keras.Model(inputs, outputs)\n",
    "\n",
    "    # Compile model\n",
    "    model.compile(loss=\"categorical_crossentropy\", optimizer=tf.keras.optimizers.Adam(learning_rate=learning_rate),\n",
    "                  metrics=[\"accuracy\"])\n",
    "\n",
    "    return model\n",
    "\n",
    "model_2 = create_base_model()"
   ]
  },
  {
   "cell_type": "code",
   "execution_count": 29,
   "metadata": {},
   "outputs": [],
   "source": [
    "# Setup checkpoint path\n",
    "checkpoint_path = \"ten_percent_model_checkpoints_weights/checkpoint.ckpt\" # note: remember saving directly to Colab is temporary\n",
    "\n",
    "# Create a ModelCheckpoint callback that saves the model's weights only\n",
    "checkpoint_callback = tf.keras.callbacks.ModelCheckpoint(filepath=checkpoint_path,\n",
    "                                                         save_weights_only=True, # set to False to save the entire model\n",
    "                                                         save_best_only=True, # save only the best model weights instead of a model every epoch\n",
    "                                                         save_freq=\"epoch\", # save every epoch\n",
    "                                                         verbose=1)"
   ]
  },
  {
   "cell_type": "code",
   "execution_count": 30,
   "metadata": {},
   "outputs": [
    {
     "name": "stdout",
     "output_type": "stream",
     "text": [
      "Saving TensorBoard log files to: transfer_learning/10_percent_data_aug/20240229-182333\n",
      "Epoch 1/5\n"
     ]
    },
    {
     "name": "stdout",
     "output_type": "stream",
     "text": [
      "24/24 [==============================] - ETA: 0s - loss: 2.0000 - accuracy: 0.3253\n",
      "Epoch 1: val_loss improved from inf to 1.51748, saving model to ten_percent_model_checkpoints_weights/checkpoint.ckpt\n",
      "24/24 [==============================] - 11s 309ms/step - loss: 2.0000 - accuracy: 0.3253 - val_loss: 1.5175 - val_accuracy: 0.5954\n",
      "Epoch 2/5\n",
      "24/24 [==============================] - ETA: 0s - loss: 1.4006 - accuracy: 0.6573\n",
      "Epoch 2: val_loss improved from 1.51748 to 1.07277, saving model to ten_percent_model_checkpoints_weights/checkpoint.ckpt\n",
      "24/24 [==============================] - 6s 226ms/step - loss: 1.4006 - accuracy: 0.6573 - val_loss: 1.0728 - val_accuracy: 0.7763\n",
      "Epoch 3/5\n",
      "24/24 [==============================] - ETA: 0s - loss: 1.1149 - accuracy: 0.7240\n",
      "Epoch 3: val_loss improved from 1.07277 to 0.84949, saving model to ten_percent_model_checkpoints_weights/checkpoint.ckpt\n",
      "24/24 [==============================] - 6s 242ms/step - loss: 1.1149 - accuracy: 0.7240 - val_loss: 0.8495 - val_accuracy: 0.8026\n",
      "Epoch 4/5\n",
      "24/24 [==============================] - ETA: 0s - loss: 0.9261 - accuracy: 0.7667\n",
      "Epoch 4: val_loss improved from 0.84949 to 0.75808, saving model to ten_percent_model_checkpoints_weights/checkpoint.ckpt\n",
      "24/24 [==============================] - 6s 245ms/step - loss: 0.9261 - accuracy: 0.7667 - val_loss: 0.7581 - val_accuracy: 0.8092\n",
      "Epoch 5/5\n",
      "24/24 [==============================] - ETA: 0s - loss: 0.8259 - accuracy: 0.8013\n",
      "Epoch 5: val_loss improved from 0.75808 to 0.67142, saving model to ten_percent_model_checkpoints_weights/checkpoint.ckpt\n",
      "24/24 [==============================] - 6s 241ms/step - loss: 0.8259 - accuracy: 0.8013 - val_loss: 0.6714 - val_accuracy: 0.8289\n"
     ]
    }
   ],
   "source": [
    "# Fit the model saving checkpoints every epoch\n",
    "initial_epochs = 5\n",
    "history_10_percent_data_aug = model_2.fit(train_data_10_percent,\n",
    "                                          epochs=initial_epochs,\n",
    "                                          validation_data=test_data,\n",
    "                                          validation_steps=int(0.25 * len(test_data)), # do less steps per validation (quicker)\n",
    "                                          callbacks=[create_tensorboard_callback(\"transfer_learning\", \"10_percent_data_aug\"),\n",
    "                                                     checkpoint_callback]) # save model for each epoch"
   ]
  },
  {
   "cell_type": "code",
   "execution_count": 31,
   "metadata": {},
   "outputs": [
    {
     "name": "stdout",
     "output_type": "stream",
     "text": [
      "79/79 [==============================] - 2s 23ms/step - loss: 0.6560 - accuracy: 0.8364\n"
     ]
    },
    {
     "data": {
      "text/plain": [
       "[0.6559810638427734, 0.8363999724388123]"
      ]
     },
     "execution_count": 31,
     "metadata": {},
     "output_type": "execute_result"
    }
   ],
   "source": [
    "# Evaluate on the test data\n",
    "results_10_percent_data_aug = model_2.evaluate(test_data)\n",
    "results_10_percent_data_aug"
   ]
  },
  {
   "cell_type": "code",
   "execution_count": 32,
   "metadata": {},
   "outputs": [
    {
     "data": {
      "image/png": "[encoded data removed]",
      "text/plain": [
       "<Figure size 640x480 with 1 Axes>"
      ]
     },
     "metadata": {},
     "output_type": "display_data"
    },
    {
     "data": {
      "image/png": "[encoded data removed]",
      "text/plain": [
       "<Figure size 640x480 with 1 Axes>"
      ]
     },
     "metadata": {},
     "output_type": "display_data"
    }
   ],
   "source": [
    "# Plot model loss curves\n",
    "plot_loss_curves(history_10_percent_data_aug)"
   ]
  },
  {
   "cell_type": "code",
   "execution_count": 33,
   "metadata": {},
   "outputs": [
    {
     "name": "stdout",
     "output_type": "stream",
     "text": [
      "79/79 [==============================] - 2s 22ms/step - loss: 0.6560 - accuracy: 0.8364\n"
     ]
    }
   ],
   "source": [
    "# Load in saved model weights and evaluate model\n",
    "model_2.load_weights(checkpoint_path)\n",
    "loaded_weights_model_results = model_2.evaluate(test_data)"
   ]
  },
  {
   "cell_type": "code",
   "execution_count": 34,
   "metadata": {},
   "outputs": [
    {
     "data": {
      "text/plain": [
       "True"
      ]
     },
     "execution_count": 34,
     "metadata": {},
     "output_type": "execute_result"
    }
   ],
   "source": [
    "# If the results from our native model and the loaded weights are the same, this should output True\n",
    "results_10_percent_data_aug == loaded_weights_model_results"
   ]
  },
  {
   "cell_type": "markdown",
   "metadata": {},
   "source": [
    "## Model 3: Fine-tuning an existing model on 10% of the data"
   ]
  },
  {
   "cell_type": "code",
   "execution_count": 38,
   "metadata": {},
   "outputs": [
    {
     "data": {
      "text/plain": [
       "[<keras.src.engine.input_layer.InputLayer at 0x7f1cc567c510>,\n",
       " <keras.src.engine.sequential.Sequential at 0x7f1daa0b51d0>,\n",
       " <keras.src.engine.functional.Functional at 0x7f1cc564d3d0>,\n",
       " <keras.src.layers.pooling.global_average_pooling2d.GlobalAveragePooling2D at 0x7f1cc56ca190>,\n",
       " <keras.src.layers.core.dense.Dense at 0x7f1cc5455d10>]"
      ]
     },
     "execution_count": 38,
     "metadata": {},
     "output_type": "execute_result"
    }
   ],
   "source": [
    "# Layers in loaded model\n",
    "model_2.layers"
   ]
  },
  {
   "cell_type": "code",
   "execution_count": 39,
   "metadata": {},
   "outputs": [
    {
     "name": "stdout",
     "output_type": "stream",
     "text": [
      "Layer number: 0 | Layer name: input_layer | Layer type: <keras.src.engine.input_layer.InputLayer object at 0x7f1cc567c510> | Trainable? True\n",
      "Layer number: 1 | Layer name: data_augmentation | Layer type: <keras.src.engine.sequential.Sequential object at 0x7f1daa0b51d0> | Trainable? True\n",
      "Layer number: 2 | Layer name: efficientnetv2-b0 | Layer type: <keras.src.engine.functional.Functional object at 0x7f1cc564d3d0> | Trainable? False\n",
      "Layer number: 3 | Layer name: global_average_pooling_layer | Layer type: <keras.src.layers.pooling.global_average_pooling2d.GlobalAveragePooling2D object at 0x7f1cc56ca190> | Trainable? True\n",
      "Layer number: 4 | Layer name: output_layer | Layer type: <keras.src.layers.core.dense.Dense object at 0x7f1cc5455d10> | Trainable? True\n"
     ]
    }
   ],
   "source": [
    "for layer_number, layer in enumerate(model_2.layers):\n",
    "  print(f\"Layer number: {layer_number} | Layer name: {layer.name} | Layer type: {layer} | Trainable? {layer.trainable}\")"
   ]
  },
  {
   "cell_type": "code",
   "execution_count": 40,
   "metadata": {},
   "outputs": [
    {
     "name": "stdout",
     "output_type": "stream",
     "text": [
      "Model: \"model_5\"\n",
      "_________________________________________________________________\n",
      " Layer (type)                Output Shape              Param #   \n",
      "=================================================================\n",
      " input_layer (InputLayer)    [(None, 224, 224, 3)]     0         \n",
      "                                                                 \n",
      " data_augmentation (Sequent  (None, None, None, 3)     0         \n",
      " ial)                                                            \n",
      "                                                                 \n",
      " efficientnetv2-b0 (Functio  (None, None, None, 1280   5919312   \n",
      " nal)                        )                                   \n",
      "                                                                 \n",
      " global_average_pooling_lay  (None, 1280)              0         \n",
      " er (GlobalAveragePooling2D                                      \n",
      " )                                                               \n",
      "                                                                 \n",
      " output_layer (Dense)        (None, 10)                12810     \n",
      "                                                                 \n",
      "=================================================================\n",
      "Total params: 5932122 (22.63 MB)\n",
      "Trainable params: 12810 (50.04 KB)\n",
      "Non-trainable params: 5919312 (22.58 MB)\n",
      "_________________________________________________________________\n"
     ]
    }
   ],
   "source": [
    "model_2.summary()"
   ]
  },
  {
   "cell_type": "code",
   "execution_count": 41,
   "metadata": {},
   "outputs": [
    {
     "data": {
      "text/plain": [
       "'efficientnetv2-b0'"
      ]
     },
     "execution_count": 41,
     "metadata": {},
     "output_type": "execute_result"
    }
   ],
   "source": [
    "# Access the base_model layers of model_2\n",
    "model_2_base_model = model_2.layers[2]\n",
    "model_2_base_model.name"
   ]
  },
  {
   "cell_type": "code",
   "execution_count": 42,
   "metadata": {},
   "outputs": [
    {
     "name": "stdout",
     "output_type": "stream",
     "text": [
      "0\n"
     ]
    }
   ],
   "source": [
    "# How many layers are trainable in our model_2_base_model?\n",
    "print(len(model_2_base_model.trainable_variables)) # layer at index 2 is the EfficientNetV2B0 layer (the base model)"
   ]
  },
  {
   "cell_type": "markdown",
   "metadata": {},
   "source": [
    "We can even check layer by layer to see if the they're trainable.\n",
    "\n",
    "To access the layers in `model_2_base_model`, we can use the `layers` attribute."
   ]
  },
  {
   "cell_type": "code",
   "execution_count": 43,
   "metadata": {},
   "outputs": [
    {
     "name": "stdout",
     "output_type": "stream",
     "text": [
      "0 input_6 False\n",
      "1 rescaling_5 False\n",
      "2 normalization_5 False\n",
      "3 stem_conv False\n",
      "4 stem_bn False\n",
      "5 stem_activation False\n",
      "6 block1a_project_conv False\n",
      "7 block1a_project_bn False\n",
      "8 block1a_project_activation False\n",
      "9 block2a_expand_conv False\n",
      "10 block2a_expand_bn False\n",
      "11 block2a_expand_activation False\n",
      "12 block2a_project_conv False\n",
      "13 block2a_project_bn False\n",
      "14 block2b_expand_conv False\n",
      "15 block2b_expand_bn False\n",
      "16 block2b_expand_activation False\n",
      "17 block2b_project_conv False\n",
      "18 block2b_project_bn False\n",
      "19 block2b_drop False\n",
      "20 block2b_add False\n",
      "21 block3a_expand_conv False\n",
      "22 block3a_expand_bn False\n",
      "23 block3a_expand_activation False\n",
      "24 block3a_project_conv False\n",
      "25 block3a_project_bn False\n",
      "26 block3b_expand_conv False\n",
      "27 block3b_expand_bn False\n",
      "28 block3b_expand_activation False\n",
      "29 block3b_project_conv False\n",
      "30 block3b_project_bn False\n",
      "31 block3b_drop False\n",
      "32 block3b_add False\n",
      "33 block4a_expand_conv False\n",
      "34 block4a_expand_bn False\n",
      "35 block4a_expand_activation False\n",
      "36 block4a_dwconv2 False\n",
      "37 block4a_bn False\n",
      "38 block4a_activation False\n",
      "39 block4a_se_squeeze False\n",
      "40 block4a_se_reshape False\n",
      "41 block4a_se_reduce False\n",
      "42 block4a_se_expand False\n",
      "43 block4a_se_excite False\n",
      "44 block4a_project_conv False\n",
      "45 block4a_project_bn False\n",
      "46 block4b_expand_conv False\n",
      "47 block4b_expand_bn False\n",
      "48 block4b_expand_activation False\n",
      "49 block4b_dwconv2 False\n",
      "50 block4b_bn False\n",
      "51 block4b_activation False\n",
      "52 block4b_se_squeeze False\n",
      "53 block4b_se_reshape False\n",
      "54 block4b_se_reduce False\n",
      "55 block4b_se_expand False\n",
      "56 block4b_se_excite False\n",
      "57 block4b_project_conv False\n",
      "58 block4b_project_bn False\n",
      "59 block4b_drop False\n",
      "60 block4b_add False\n",
      "61 block4c_expand_conv False\n",
      "62 block4c_expand_bn False\n",
      "63 block4c_expand_activation False\n",
      "64 block4c_dwconv2 False\n",
      "65 block4c_bn False\n",
      "66 block4c_activation False\n",
      "67 block4c_se_squeeze False\n",
      "68 block4c_se_reshape False\n",
      "69 block4c_se_reduce False\n",
      "70 block4c_se_expand False\n",
      "71 block4c_se_excite False\n",
      "72 block4c_project_conv False\n",
      "73 block4c_project_bn False\n",
      "74 block4c_drop False\n",
      "75 block4c_add False\n",
      "76 block5a_expand_conv False\n",
      "77 block5a_expand_bn False\n",
      "78 block5a_expand_activation False\n",
      "79 block5a_dwconv2 False\n",
      "80 block5a_bn False\n",
      "81 block5a_activation False\n",
      "82 block5a_se_squeeze False\n",
      "83 block5a_se_reshape False\n",
      "84 block5a_se_reduce False\n",
      "85 block5a_se_expand False\n",
      "86 block5a_se_excite False\n",
      "87 block5a_project_conv False\n",
      "88 block5a_project_bn False\n",
      "89 block5b_expand_conv False\n",
      "90 block5b_expand_bn False\n",
      "91 block5b_expand_activation False\n",
      "92 block5b_dwconv2 False\n",
      "93 block5b_bn False\n",
      "94 block5b_activation False\n",
      "95 block5b_se_squeeze False\n",
      "96 block5b_se_reshape False\n",
      "97 block5b_se_reduce False\n",
      "98 block5b_se_expand False\n",
      "99 block5b_se_excite False\n",
      "100 block5b_project_conv False\n",
      "101 block5b_project_bn False\n",
      "102 block5b_drop False\n",
      "103 block5b_add False\n",
      "104 block5c_expand_conv False\n",
      "105 block5c_expand_bn False\n",
      "106 block5c_expand_activation False\n",
      "107 block5c_dwconv2 False\n",
      "108 block5c_bn False\n",
      "109 block5c_activation False\n",
      "110 block5c_se_squeeze False\n",
      "111 block5c_se_reshape False\n",
      "112 block5c_se_reduce False\n",
      "113 block5c_se_expand False\n",
      "114 block5c_se_excite False\n",
      "115 block5c_project_conv False\n",
      "116 block5c_project_bn False\n",
      "117 block5c_drop False\n",
      "118 block5c_add False\n",
      "119 block5d_expand_conv False\n",
      "120 block5d_expand_bn False\n",
      "121 block5d_expand_activation False\n",
      "122 block5d_dwconv2 False\n",
      "123 block5d_bn False\n",
      "124 block5d_activation False\n",
      "125 block5d_se_squeeze False\n",
      "126 block5d_se_reshape False\n",
      "127 block5d_se_reduce False\n",
      "128 block5d_se_expand False\n",
      "129 block5d_se_excite False\n",
      "130 block5d_project_conv False\n",
      "131 block5d_project_bn False\n",
      "132 block5d_drop False\n",
      "133 block5d_add False\n",
      "134 block5e_expand_conv False\n",
      "135 block5e_expand_bn False\n",
      "136 block5e_expand_activation False\n",
      "137 block5e_dwconv2 False\n",
      "138 block5e_bn False\n",
      "139 block5e_activation False\n",
      "140 block5e_se_squeeze False\n",
      "141 block5e_se_reshape False\n",
      "142 block5e_se_reduce False\n",
      "143 block5e_se_expand False\n",
      "144 block5e_se_excite False\n",
      "145 block5e_project_conv False\n",
      "146 block5e_project_bn False\n",
      "147 block5e_drop False\n",
      "148 block5e_add False\n",
      "149 block6a_expand_conv False\n",
      "150 block6a_expand_bn False\n",
      "151 block6a_expand_activation False\n",
      "152 block6a_dwconv2 False\n",
      "153 block6a_bn False\n",
      "154 block6a_activation False\n",
      "155 block6a_se_squeeze False\n",
      "156 block6a_se_reshape False\n",
      "157 block6a_se_reduce False\n",
      "158 block6a_se_expand False\n",
      "159 block6a_se_excite False\n",
      "160 block6a_project_conv False\n",
      "161 block6a_project_bn False\n",
      "162 block6b_expand_conv False\n",
      "163 block6b_expand_bn False\n",
      "164 block6b_expand_activation False\n",
      "165 block6b_dwconv2 False\n",
      "166 block6b_bn False\n",
      "167 block6b_activation False\n",
      "168 block6b_se_squeeze False\n",
      "169 block6b_se_reshape False\n",
      "170 block6b_se_reduce False\n",
      "171 block6b_se_expand False\n",
      "172 block6b_se_excite False\n",
      "173 block6b_project_conv False\n",
      "174 block6b_project_bn False\n",
      "175 block6b_drop False\n",
      "176 block6b_add False\n",
      "177 block6c_expand_conv False\n",
      "178 block6c_expand_bn False\n",
      "179 block6c_expand_activation False\n",
      "180 block6c_dwconv2 False\n",
      "181 block6c_bn False\n",
      "182 block6c_activation False\n",
      "183 block6c_se_squeeze False\n",
      "184 block6c_se_reshape False\n",
      "185 block6c_se_reduce False\n",
      "186 block6c_se_expand False\n",
      "187 block6c_se_excite False\n",
      "188 block6c_project_conv False\n",
      "189 block6c_project_bn False\n",
      "190 block6c_drop False\n",
      "191 block6c_add False\n",
      "192 block6d_expand_conv False\n",
      "193 block6d_expand_bn False\n",
      "194 block6d_expand_activation False\n",
      "195 block6d_dwconv2 False\n",
      "196 block6d_bn False\n",
      "197 block6d_activation False\n",
      "198 block6d_se_squeeze False\n",
      "199 block6d_se_reshape False\n",
      "200 block6d_se_reduce False\n",
      "201 block6d_se_expand False\n",
      "202 block6d_se_excite False\n",
      "203 block6d_project_conv False\n",
      "204 block6d_project_bn False\n",
      "205 block6d_drop False\n",
      "206 block6d_add False\n",
      "207 block6e_expand_conv False\n",
      "208 block6e_expand_bn False\n",
      "209 block6e_expand_activation False\n",
      "210 block6e_dwconv2 False\n",
      "211 block6e_bn False\n",
      "212 block6e_activation False\n",
      "213 block6e_se_squeeze False\n",
      "214 block6e_se_reshape False\n",
      "215 block6e_se_reduce False\n",
      "216 block6e_se_expand False\n",
      "217 block6e_se_excite False\n",
      "218 block6e_project_conv False\n",
      "219 block6e_project_bn False\n",
      "220 block6e_drop False\n",
      "221 block6e_add False\n",
      "222 block6f_expand_conv False\n",
      "223 block6f_expand_bn False\n",
      "224 block6f_expand_activation False\n",
      "225 block6f_dwconv2 False\n",
      "226 block6f_bn False\n",
      "227 block6f_activation False\n",
      "228 block6f_se_squeeze False\n",
      "229 block6f_se_reshape False\n",
      "230 block6f_se_reduce False\n",
      "231 block6f_se_expand False\n",
      "232 block6f_se_excite False\n",
      "233 block6f_project_conv False\n",
      "234 block6f_project_bn False\n",
      "235 block6f_drop False\n",
      "236 block6f_add False\n",
      "237 block6g_expand_conv False\n",
      "238 block6g_expand_bn False\n",
      "239 block6g_expand_activation False\n",
      "240 block6g_dwconv2 False\n",
      "241 block6g_bn False\n",
      "242 block6g_activation False\n",
      "243 block6g_se_squeeze False\n",
      "244 block6g_se_reshape False\n",
      "245 block6g_se_reduce False\n",
      "246 block6g_se_expand False\n",
      "247 block6g_se_excite False\n",
      "248 block6g_project_conv False\n",
      "249 block6g_project_bn False\n",
      "250 block6g_drop False\n",
      "251 block6g_add False\n",
      "252 block6h_expand_conv False\n",
      "253 block6h_expand_bn False\n",
      "254 block6h_expand_activation False\n",
      "255 block6h_dwconv2 False\n",
      "256 block6h_bn False\n",
      "257 block6h_activation False\n",
      "258 block6h_se_squeeze False\n",
      "259 block6h_se_reshape False\n",
      "260 block6h_se_reduce False\n",
      "261 block6h_se_expand False\n",
      "262 block6h_se_excite False\n",
      "263 block6h_project_conv False\n",
      "264 block6h_project_bn False\n",
      "265 block6h_drop False\n",
      "266 block6h_add False\n",
      "267 top_conv False\n",
      "268 top_bn False\n",
      "269 top_activation False\n"
     ]
    }
   ],
   "source": [
    "# Check which layers are tuneable (trainable)\n",
    "for layer_number, layer in enumerate(model_2_base_model.layers):\n",
    "  print(layer_number, layer.name, layer.trainable)"
   ]
  },
  {
   "cell_type": "code",
   "execution_count": 44,
   "metadata": {},
   "outputs": [],
   "source": [
    "# Make all the layers in model_2_base_model trainable\n",
    "model_2_base_model.trainable = True\n",
    "\n",
    "# Freeze all layers except for the last 10\n",
    "for layer in model_2_base_model.layers[:-10]:\n",
    "  layer.trainable = False\n",
    "\n",
    "# Recompile the whole model (always recompile after any adjustments to a model)\n",
    "model_2.compile(loss=\"categorical_crossentropy\",\n",
    "                optimizer=tf.keras.optimizers.Adam(learning_rate=0.0001), # lr is 10x lower than before for fine-tuning\n",
    "                metrics=[\"accuracy\"])"
   ]
  },
  {
   "cell_type": "code",
   "execution_count": 45,
   "metadata": {},
   "outputs": [
    {
     "name": "stdout",
     "output_type": "stream",
     "text": [
      "0 input_6 False\n",
      "1 rescaling_5 False\n",
      "2 normalization_5 False\n",
      "3 stem_conv False\n",
      "4 stem_bn False\n",
      "5 stem_activation False\n",
      "6 block1a_project_conv False\n",
      "7 block1a_project_bn False\n",
      "8 block1a_project_activation False\n",
      "9 block2a_expand_conv False\n",
      "10 block2a_expand_bn False\n",
      "11 block2a_expand_activation False\n",
      "12 block2a_project_conv False\n",
      "13 block2a_project_bn False\n",
      "14 block2b_expand_conv False\n",
      "15 block2b_expand_bn False\n",
      "16 block2b_expand_activation False\n",
      "17 block2b_project_conv False\n",
      "18 block2b_project_bn False\n",
      "19 block2b_drop False\n",
      "20 block2b_add False\n",
      "21 block3a_expand_conv False\n",
      "22 block3a_expand_bn False\n",
      "23 block3a_expand_activation False\n",
      "24 block3a_project_conv False\n",
      "25 block3a_project_bn False\n",
      "26 block3b_expand_conv False\n",
      "27 block3b_expand_bn False\n",
      "28 block3b_expand_activation False\n",
      "29 block3b_project_conv False\n",
      "30 block3b_project_bn False\n",
      "31 block3b_drop False\n",
      "32 block3b_add False\n",
      "33 block4a_expand_conv False\n",
      "34 block4a_expand_bn False\n",
      "35 block4a_expand_activation False\n",
      "36 block4a_dwconv2 False\n",
      "37 block4a_bn False\n",
      "38 block4a_activation False\n",
      "39 block4a_se_squeeze False\n",
      "40 block4a_se_reshape False\n",
      "41 block4a_se_reduce False\n",
      "42 block4a_se_expand False\n",
      "43 block4a_se_excite False\n",
      "44 block4a_project_conv False\n",
      "45 block4a_project_bn False\n",
      "46 block4b_expand_conv False\n",
      "47 block4b_expand_bn False\n",
      "48 block4b_expand_activation False\n",
      "49 block4b_dwconv2 False\n",
      "50 block4b_bn False\n",
      "51 block4b_activation False\n",
      "52 block4b_se_squeeze False\n",
      "53 block4b_se_reshape False\n",
      "54 block4b_se_reduce False\n",
      "55 block4b_se_expand False\n",
      "56 block4b_se_excite False\n",
      "57 block4b_project_conv False\n",
      "58 block4b_project_bn False\n",
      "59 block4b_drop False\n",
      "60 block4b_add False\n",
      "61 block4c_expand_conv False\n",
      "62 block4c_expand_bn False\n",
      "63 block4c_expand_activation False\n",
      "64 block4c_dwconv2 False\n",
      "65 block4c_bn False\n",
      "66 block4c_activation False\n",
      "67 block4c_se_squeeze False\n",
      "68 block4c_se_reshape False\n",
      "69 block4c_se_reduce False\n",
      "70 block4c_se_expand False\n",
      "71 block4c_se_excite False\n",
      "72 block4c_project_conv False\n",
      "73 block4c_project_bn False\n",
      "74 block4c_drop False\n",
      "75 block4c_add False\n",
      "76 block5a_expand_conv False\n",
      "77 block5a_expand_bn False\n",
      "78 block5a_expand_activation False\n",
      "79 block5a_dwconv2 False\n",
      "80 block5a_bn False\n",
      "81 block5a_activation False\n",
      "82 block5a_se_squeeze False\n",
      "83 block5a_se_reshape False\n",
      "84 block5a_se_reduce False\n",
      "85 block5a_se_expand False\n",
      "86 block5a_se_excite False\n",
      "87 block5a_project_conv False\n",
      "88 block5a_project_bn False\n",
      "89 block5b_expand_conv False\n",
      "90 block5b_expand_bn False\n",
      "91 block5b_expand_activation False\n",
      "92 block5b_dwconv2 False\n",
      "93 block5b_bn False\n",
      "94 block5b_activation False\n",
      "95 block5b_se_squeeze False\n",
      "96 block5b_se_reshape False\n",
      "97 block5b_se_reduce False\n",
      "98 block5b_se_expand False\n",
      "99 block5b_se_excite False\n",
      "100 block5b_project_conv False\n",
      "101 block5b_project_bn False\n",
      "102 block5b_drop False\n",
      "103 block5b_add False\n",
      "104 block5c_expand_conv False\n",
      "105 block5c_expand_bn False\n",
      "106 block5c_expand_activation False\n",
      "107 block5c_dwconv2 False\n",
      "108 block5c_bn False\n",
      "109 block5c_activation False\n",
      "110 block5c_se_squeeze False\n",
      "111 block5c_se_reshape False\n",
      "112 block5c_se_reduce False\n",
      "113 block5c_se_expand False\n",
      "114 block5c_se_excite False\n",
      "115 block5c_project_conv False\n",
      "116 block5c_project_bn False\n",
      "117 block5c_drop False\n",
      "118 block5c_add False\n",
      "119 block5d_expand_conv False\n",
      "120 block5d_expand_bn False\n",
      "121 block5d_expand_activation False\n",
      "122 block5d_dwconv2 False\n",
      "123 block5d_bn False\n",
      "124 block5d_activation False\n",
      "125 block5d_se_squeeze False\n",
      "126 block5d_se_reshape False\n",
      "127 block5d_se_reduce False\n",
      "128 block5d_se_expand False\n",
      "129 block5d_se_excite False\n",
      "130 block5d_project_conv False\n",
      "131 block5d_project_bn False\n",
      "132 block5d_drop False\n",
      "133 block5d_add False\n",
      "134 block5e_expand_conv False\n",
      "135 block5e_expand_bn False\n",
      "136 block5e_expand_activation False\n",
      "137 block5e_dwconv2 False\n",
      "138 block5e_bn False\n",
      "139 block5e_activation False\n",
      "140 block5e_se_squeeze False\n",
      "141 block5e_se_reshape False\n",
      "142 block5e_se_reduce False\n",
      "143 block5e_se_expand False\n",
      "144 block5e_se_excite False\n",
      "145 block5e_project_conv False\n",
      "146 block5e_project_bn False\n",
      "147 block5e_drop False\n",
      "148 block5e_add False\n",
      "149 block6a_expand_conv False\n",
      "150 block6a_expand_bn False\n",
      "151 block6a_expand_activation False\n",
      "152 block6a_dwconv2 False\n",
      "153 block6a_bn False\n",
      "154 block6a_activation False\n",
      "155 block6a_se_squeeze False\n",
      "156 block6a_se_reshape False\n",
      "157 block6a_se_reduce False\n",
      "158 block6a_se_expand False\n",
      "159 block6a_se_excite False\n",
      "160 block6a_project_conv False\n",
      "161 block6a_project_bn False\n",
      "162 block6b_expand_conv False\n",
      "163 block6b_expand_bn False\n",
      "164 block6b_expand_activation False\n",
      "165 block6b_dwconv2 False\n",
      "166 block6b_bn False\n",
      "167 block6b_activation False\n",
      "168 block6b_se_squeeze False\n",
      "169 block6b_se_reshape False\n",
      "170 block6b_se_reduce False\n",
      "171 block6b_se_expand False\n",
      "172 block6b_se_excite False\n",
      "173 block6b_project_conv False\n",
      "174 block6b_project_bn False\n",
      "175 block6b_drop False\n",
      "176 block6b_add False\n",
      "177 block6c_expand_conv False\n",
      "178 block6c_expand_bn False\n",
      "179 block6c_expand_activation False\n",
      "180 block6c_dwconv2 False\n",
      "181 block6c_bn False\n",
      "182 block6c_activation False\n",
      "183 block6c_se_squeeze False\n",
      "184 block6c_se_reshape False\n",
      "185 block6c_se_reduce False\n",
      "186 block6c_se_expand False\n",
      "187 block6c_se_excite False\n",
      "188 block6c_project_conv False\n",
      "189 block6c_project_bn False\n",
      "190 block6c_drop False\n",
      "191 block6c_add False\n",
      "192 block6d_expand_conv False\n",
      "193 block6d_expand_bn False\n",
      "194 block6d_expand_activation False\n",
      "195 block6d_dwconv2 False\n",
      "196 block6d_bn False\n",
      "197 block6d_activation False\n",
      "198 block6d_se_squeeze False\n",
      "199 block6d_se_reshape False\n",
      "200 block6d_se_reduce False\n",
      "201 block6d_se_expand False\n",
      "202 block6d_se_excite False\n",
      "203 block6d_project_conv False\n",
      "204 block6d_project_bn False\n",
      "205 block6d_drop False\n",
      "206 block6d_add False\n",
      "207 block6e_expand_conv False\n",
      "208 block6e_expand_bn False\n",
      "209 block6e_expand_activation False\n",
      "210 block6e_dwconv2 False\n",
      "211 block6e_bn False\n",
      "212 block6e_activation False\n",
      "213 block6e_se_squeeze False\n",
      "214 block6e_se_reshape False\n",
      "215 block6e_se_reduce False\n",
      "216 block6e_se_expand False\n",
      "217 block6e_se_excite False\n",
      "218 block6e_project_conv False\n",
      "219 block6e_project_bn False\n",
      "220 block6e_drop False\n",
      "221 block6e_add False\n",
      "222 block6f_expand_conv False\n",
      "223 block6f_expand_bn False\n",
      "224 block6f_expand_activation False\n",
      "225 block6f_dwconv2 False\n",
      "226 block6f_bn False\n",
      "227 block6f_activation False\n",
      "228 block6f_se_squeeze False\n",
      "229 block6f_se_reshape False\n",
      "230 block6f_se_reduce False\n",
      "231 block6f_se_expand False\n",
      "232 block6f_se_excite False\n",
      "233 block6f_project_conv False\n",
      "234 block6f_project_bn False\n",
      "235 block6f_drop False\n",
      "236 block6f_add False\n",
      "237 block6g_expand_conv False\n",
      "238 block6g_expand_bn False\n",
      "239 block6g_expand_activation False\n",
      "240 block6g_dwconv2 False\n",
      "241 block6g_bn False\n",
      "242 block6g_activation False\n",
      "243 block6g_se_squeeze False\n",
      "244 block6g_se_reshape False\n",
      "245 block6g_se_reduce False\n",
      "246 block6g_se_expand False\n",
      "247 block6g_se_excite False\n",
      "248 block6g_project_conv False\n",
      "249 block6g_project_bn False\n",
      "250 block6g_drop False\n",
      "251 block6g_add False\n",
      "252 block6h_expand_conv False\n",
      "253 block6h_expand_bn False\n",
      "254 block6h_expand_activation False\n",
      "255 block6h_dwconv2 False\n",
      "256 block6h_bn False\n",
      "257 block6h_activation False\n",
      "258 block6h_se_squeeze False\n",
      "259 block6h_se_reshape False\n",
      "260 block6h_se_reduce True\n",
      "261 block6h_se_expand True\n",
      "262 block6h_se_excite True\n",
      "263 block6h_project_conv True\n",
      "264 block6h_project_bn True\n",
      "265 block6h_drop True\n",
      "266 block6h_add True\n",
      "267 top_conv True\n",
      "268 top_bn True\n",
      "269 top_activation True\n"
     ]
    }
   ],
   "source": [
    "# Check which layers are tuneable (trainable)\n",
    "for layer_number, layer in enumerate(model_2_base_model.layers):\n",
    "  print(layer_number, layer.name, layer.trainable)"
   ]
  },
  {
   "cell_type": "markdown",
   "metadata": {},
   "source": [
    "Nice! It seems all layers except for the last 10 are frozen and untrainable. This means only the last 10 layers of the base model along with the output layer will have their weights updated during training.\n",
    "\n",
    "Every time you make a change to your models, you need to recompile them."
   ]
  },
  {
   "cell_type": "code",
   "execution_count": 46,
   "metadata": {},
   "outputs": [
    {
     "name": "stdout",
     "output_type": "stream",
     "text": [
      "12\n"
     ]
    }
   ],
   "source": [
    "print(len(model_2.trainable_variables))"
   ]
  },
  {
   "cell_type": "markdown",
   "metadata": {},
   "source": [
    "Wonderful, it looks like our model has a total of 12 trainable variables, the last 10 layers of the base model and the weight and bias parameters of the Dense output layer.\n",
    "\n",
    "Time to fine-tune!\n",
    "\n",
    "We're going to continue training on from where our previous model finished. Since it trained for 5 epochs, our fine-tuning will begin on the epoch 5 and continue for another 5 epochs.\n",
    "\n",
    "To do this, we can use the `initial_epoch` parameter of the [`fit()`](https://www.tensorflow.org/api_docs/python/tf/keras/Model#fit) method. We'll pass it the last epoch of the previous model's training history (`history_10_percent_data_aug.epoch[-1]`)."
   ]
  },
  {
   "cell_type": "code",
   "execution_count": 47,
   "metadata": {},
   "outputs": [
    {
     "name": "stdout",
     "output_type": "stream",
     "text": [
      "Saving TensorBoard log files to: transfer_learning/10_percent_fine_tune_last_10/20240229-182904\n",
      "Epoch 5/10\n",
      "24/24 [==============================] - 19s 608ms/step - loss: 0.7078 - accuracy: 0.8120 - val_loss: 0.5412 - val_accuracy: 0.8454\n",
      "Epoch 6/10\n",
      "24/24 [==============================] - 9s 392ms/step - loss: 0.6047 - accuracy: 0.8107 - val_loss: 0.5113 - val_accuracy: 0.8388\n",
      "Epoch 7/10\n",
      "24/24 [==============================] - 9s 362ms/step - loss: 0.5725 - accuracy: 0.8267 - val_loss: 0.5168 - val_accuracy: 0.8273\n",
      "Epoch 8/10\n",
      "24/24 [==============================] - 7s 292ms/step - loss: 0.4949 - accuracy: 0.8280 - val_loss: 0.4655 - val_accuracy: 0.8438\n",
      "Epoch 9/10\n",
      "24/24 [==============================] - 8s 326ms/step - loss: 0.4719 - accuracy: 0.8640 - val_loss: 0.4635 - val_accuracy: 0.8470\n",
      "Epoch 10/10\n",
      "24/24 [==============================] - 7s 289ms/step - loss: 0.4198 - accuracy: 0.8640 - val_loss: 0.4733 - val_accuracy: 0.8405\n"
     ]
    }
   ],
   "source": [
    "# Fine tune for another 5 epochs\n",
    "fine_tune_epochs = initial_epochs + 5\n",
    "\n",
    "# Refit the model (same as model_2 except with more trainable layers)\n",
    "history_fine_10_percent_data_aug = model_2.fit(train_data_10_percent, epochs=fine_tune_epochs,\n",
    "                                               validation_data=test_data,\n",
    "                                               initial_epoch=history_10_percent_data_aug.epoch[-1], # start from previous last epoch\n",
    "                                               validation_steps=int(0.25 * len(test_data)),\n",
    "                                               callbacks=[create_tensorboard_callback(\"transfer_learning\", \"10_percent_fine_tune_last_10\")]) # name experiment appropriately"
   ]
  },
  {
   "cell_type": "code",
   "execution_count": 48,
   "metadata": {},
   "outputs": [
    {
     "name": "stdout",
     "output_type": "stream",
     "text": [
      "79/79 [==============================] - 2s 22ms/step - loss: 0.4308 - accuracy: 0.8560\n"
     ]
    }
   ],
   "source": [
    "# Evaluate the model on the test data\n",
    "results_fine_tune_10_percent = model_2.evaluate(test_data)"
   ]
  },
  {
   "cell_type": "code",
   "execution_count": 50,
   "metadata": {},
   "outputs": [
    {
     "data": {
      "image/png": "[encoded data removed]",
      "text/plain": [
       "<Figure size 800x800 with 2 Axes>"
      ]
     },
     "metadata": {},
     "output_type": "display_data"
    }
   ],
   "source": [
    "compare_historys(original_history=history_10_percent_data_aug,\n",
    "                 new_history=history_fine_10_percent_data_aug,\n",
    "                 initial_epochs=5)"
   ]
  },
  {
   "cell_type": "markdown",
   "metadata": {},
   "source": [
    "Alright, alright, seems like the curves are heading in the right direction after fine-tuning. But remember, it should be noted that fine-tuning usually works best with larger amounts of data."
   ]
  },
  {
   "cell_type": "markdown",
   "metadata": {},
   "source": [
    "## Model 4: Fine-tuning an existing model all of the data\n",
    "\n",
    "Enough talk about how fine-tuning a model usually works with more data, let's try it out.\n",
    "\n",
    "We'll start by downloading the full version of our 10 food classes dataset.\n",
    "\n"
   ]
  },
  {
   "cell_type": "code",
   "execution_count": 51,
   "metadata": {},
   "outputs": [],
   "source": [
    "# Setup data directories\n",
    "train_dir = \"./data/data_multiclass_pizza_steak_other/train/\"\n",
    "test_dir = \"./data/data_multiclass_pizza_steak_other/test/\""
   ]
  },
  {
   "cell_type": "code",
   "execution_count": 52,
   "metadata": {},
   "outputs": [
    {
     "name": "stdout",
     "output_type": "stream",
     "text": [
      "Found 7500 files belonging to 10 classes.\n",
      "Found 2500 files belonging to 10 classes.\n"
     ]
    }
   ],
   "source": [
    "# Setup data inputs\n",
    "IMG_SIZE = (224, 224)\n",
    "\n",
    "train_data_10_classes_full = tf.keras.preprocessing.image_dataset_from_directory(train_dir,\n",
    "                                                                                 label_mode=\"categorical\",\n",
    "                                                                                 image_size=IMG_SIZE)\n",
    "\n",
    "# Note: this is the same test dataset we've been using for the previous modelling experiments\n",
    "test_data = tf.keras.preprocessing.image_dataset_from_directory(test_dir,\n",
    "                                                                label_mode=\"categorical\",\n",
    "                                                                image_size=IMG_SIZE)"
   ]
  },
  {
   "cell_type": "code",
   "execution_count": 53,
   "metadata": {},
   "outputs": [
    {
     "name": "stdout",
     "output_type": "stream",
     "text": [
      "79/79 [==============================] - 2s 24ms/step - loss: 0.4308 - accuracy: 0.8560\n"
     ]
    },
    {
     "data": {
      "text/plain": [
       "[0.4308101534843445, 0.8560000061988831]"
      ]
     },
     "execution_count": 53,
     "metadata": {},
     "output_type": "execute_result"
    }
   ],
   "source": [
    "# Evaluate model (this is the fine-tuned 10 percent of data version)\n",
    "model_2.evaluate(test_data)"
   ]
  },
  {
   "cell_type": "code",
   "execution_count": 54,
   "metadata": {},
   "outputs": [
    {
     "data": {
      "text/plain": [
       "[0.4308100938796997, 0.8560000061988831]"
      ]
     },
     "execution_count": 54,
     "metadata": {},
     "output_type": "execute_result"
    }
   ],
   "source": [
    "results_fine_tune_10_percent"
   ]
  },
  {
   "cell_type": "markdown",
   "metadata": {},
   "source": [
    "To keep our experiments clean, we'll load a create a new instance of `model_2` using our `create_base_model()` function.\n",
    "\n",
    "More specifically, we're trying to measure:\n",
    "* **Experiment 3 (previous one)** - `model_2` with 10 layers fine-tuned for 5 more epochs on 10% of the data.\n",
    "* **Experiment 4 (this one)** - `model_2` with layers fined-tuned for 5 more epochs on 100% on the data.\n",
    "\n",
    "Importantly, both experiments should use the same test data (to keep evaluation the same).\n",
    "\n",
    "And they should also start from the same checkpoint (`model_2` feature extractor trained for 5 epochs on 10% of the data).\n",
    "\n",
    "Let's first create new instance of `model_2`."
   ]
  },
  {
   "cell_type": "code",
   "execution_count": 55,
   "metadata": {},
   "outputs": [],
   "source": [
    "# Create a new instance of model_2 for Experiment 4\n",
    "model_2 = create_base_model(learning_rate=0.0001) # 10x lower learning rate for fine-tuning"
   ]
  },
  {
   "cell_type": "markdown",
   "metadata": {},
   "source": [
    "And now to make sure it starts at the same checkpoint, we can load the checkpointed weights from `checkpoint_path`."
   ]
  },
  {
   "cell_type": "code",
   "execution_count": 56,
   "metadata": {},
   "outputs": [
    {
     "data": {
      "text/plain": [
       "<tensorflow.python.checkpoint.checkpoint.CheckpointLoadStatus at 0x7f1abe814d50>"
      ]
     },
     "execution_count": 56,
     "metadata": {},
     "output_type": "execute_result"
    }
   ],
   "source": [
    "# Load previously checkpointed weights\n",
    "model_2.load_weights(checkpoint_path)"
   ]
  },
  {
   "cell_type": "markdown",
   "metadata": {},
   "source": [
    "Let's now get a summary and check how many trainable variables there are."
   ]
  },
  {
   "cell_type": "code",
   "execution_count": 57,
   "metadata": {},
   "outputs": [
    {
     "name": "stdout",
     "output_type": "stream",
     "text": [
      "Model: \"model_6\"\n",
      "_________________________________________________________________\n",
      " Layer (type)                Output Shape              Param #   \n",
      "=================================================================\n",
      " input_layer (InputLayer)    [(None, 224, 224, 3)]     0         \n",
      "                                                                 \n",
      " data_augmentation (Sequent  (None, None, None, 3)     0         \n",
      " ial)                                                            \n",
      "                                                                 \n",
      " efficientnetv2-b0 (Functio  (None, None, None, 1280   5919312   \n",
      " nal)                        )                                   \n",
      "                                                                 \n",
      " global_average_pooling_lay  (None, 1280)              0         \n",
      " er (GlobalAveragePooling2D                                      \n",
      " )                                                               \n",
      "                                                                 \n",
      " output_layer (Dense)        (None, 10)                12810     \n",
      "                                                                 \n",
      "=================================================================\n",
      "Total params: 5932122 (22.63 MB)\n",
      "Trainable params: 12810 (50.04 KB)\n",
      "Non-trainable params: 5919312 (22.58 MB)\n",
      "_________________________________________________________________\n"
     ]
    }
   ],
   "source": [
    "model_2.summary()"
   ]
  },
  {
   "cell_type": "code",
   "execution_count": 58,
   "metadata": {},
   "outputs": [
    {
     "name": "stdout",
     "output_type": "stream",
     "text": [
      "2\n"
     ]
    }
   ],
   "source": [
    "print(len(model_2.trainable_variables))"
   ]
  },
  {
   "cell_type": "markdown",
   "metadata": {},
   "source": [
    "Nice! This is the same as our original checkpoint.\n",
    "\n",
    "And the results should be the same as `results_10_percent_data_aug`."
   ]
  },
  {
   "cell_type": "code",
   "execution_count": 59,
   "metadata": {},
   "outputs": [
    {
     "name": "stdout",
     "output_type": "stream",
     "text": [
      "79/79 [==============================] - 3s 22ms/step - loss: 0.6560 - accuracy: 0.8364\n"
     ]
    },
    {
     "data": {
      "text/plain": [
       "[0.6559810638427734, 0.8363999724388123]"
      ]
     },
     "execution_count": 59,
     "metadata": {},
     "output_type": "execute_result"
    }
   ],
   "source": [
    "# After loading the weights, this should have gone down (no fine-tuning)\n",
    "model_2.evaluate(test_data)"
   ]
  },
  {
   "cell_type": "markdown",
   "metadata": {},
   "source": [
    "Alright, the previous steps might seem quite confusing but all we've done is:\n",
    "1. Trained a feature extraction transfer learning model for 5 epochs on 10% of the data (with all base model layers frozen) and saved the model's weights using `ModelCheckpoint` (**Model 2**).\n",
    "2. Fine-tuned the same model on the same 10% of the data for a further 5 epochs with the top 10 layers of the base model unfrozen (**Model 3**).\n",
    "3. Saved the results and training logs each time.\n",
    "4. Reloaded the model from 1 to do the same steps as 2 but with all (100%) of the data (**Model 4**).\n",
    "\n",
    "The same steps as 2?\n",
    "\n",
    "Yeah, we're going to fine-tune the last 10 layers of the base model with the full dataset for another 5 epochs but first let's remind ourselves which layers are trainable."
   ]
  },
  {
   "cell_type": "code",
   "execution_count": 60,
   "metadata": {},
   "outputs": [
    {
     "name": "stdout",
     "output_type": "stream",
     "text": [
      "0 input_layer True\n",
      "1 data_augmentation True\n",
      "2 efficientnetv2-b0 False\n",
      "3 global_average_pooling_layer True\n",
      "4 output_layer True\n"
     ]
    }
   ],
   "source": [
    "# Check which layers are tuneable in the whole model\n",
    "for layer_number, layer in enumerate(model_2.layers):\n",
    "  print(layer_number, layer.name, layer.trainable)"
   ]
  },
  {
   "cell_type": "markdown",
   "metadata": {},
   "source": [
    "Remember, the `base_model` of `model_2` (`efficientnetv2-b0`) can be referenced by `model_2.layers[2]`.\n",
    "\n",
    "So let's unfreeze the last 10 layers of the `base_model` to make them trainable (for fine-tuning)."
   ]
  },
  {
   "cell_type": "code",
   "execution_count": 61,
   "metadata": {},
   "outputs": [],
   "source": [
    "# Unfreeze the top 10 layers in model_2's base_model\n",
    "model_2_base_model = model_2.layers[2]\n",
    "model_2_base_model.trainable = True\n",
    "\n",
    "# Freeze all layers except for the last 10\n",
    "for layer in model_2_base_model.layers[:-10]:\n",
    "  layer.trainable = False"
   ]
  },
  {
   "cell_type": "markdown",
   "metadata": {},
   "source": [
    "Now let's make sure the right layers are trainable (we only want the last 10 to be trainable).\n",
    "\n",
    "> **Note:** You could experiment which number of layers should be trainable here. Generally, the more data you have, the more layers that can be fine-tuned."
   ]
  },
  {
   "cell_type": "code",
   "execution_count": 62,
   "metadata": {},
   "outputs": [
    {
     "name": "stdout",
     "output_type": "stream",
     "text": [
      "0 input_7 False\n",
      "1 rescaling_6 False\n",
      "2 normalization_6 False\n",
      "3 stem_conv False\n",
      "4 stem_bn False\n",
      "5 stem_activation False\n",
      "6 block1a_project_conv False\n",
      "7 block1a_project_bn False\n",
      "8 block1a_project_activation False\n",
      "9 block2a_expand_conv False\n",
      "10 block2a_expand_bn False\n",
      "11 block2a_expand_activation False\n",
      "12 block2a_project_conv False\n",
      "13 block2a_project_bn False\n",
      "14 block2b_expand_conv False\n",
      "15 block2b_expand_bn False\n",
      "16 block2b_expand_activation False\n",
      "17 block2b_project_conv False\n",
      "18 block2b_project_bn False\n",
      "19 block2b_drop False\n",
      "20 block2b_add False\n",
      "21 block3a_expand_conv False\n",
      "22 block3a_expand_bn False\n",
      "23 block3a_expand_activation False\n",
      "24 block3a_project_conv False\n",
      "25 block3a_project_bn False\n",
      "26 block3b_expand_conv False\n",
      "27 block3b_expand_bn False\n",
      "28 block3b_expand_activation False\n",
      "29 block3b_project_conv False\n",
      "30 block3b_project_bn False\n",
      "31 block3b_drop False\n",
      "32 block3b_add False\n",
      "33 block4a_expand_conv False\n",
      "34 block4a_expand_bn False\n",
      "35 block4a_expand_activation False\n",
      "36 block4a_dwconv2 False\n",
      "37 block4a_bn False\n",
      "38 block4a_activation False\n",
      "39 block4a_se_squeeze False\n",
      "40 block4a_se_reshape False\n",
      "41 block4a_se_reduce False\n",
      "42 block4a_se_expand False\n",
      "43 block4a_se_excite False\n",
      "44 block4a_project_conv False\n",
      "45 block4a_project_bn False\n",
      "46 block4b_expand_conv False\n",
      "47 block4b_expand_bn False\n",
      "48 block4b_expand_activation False\n",
      "49 block4b_dwconv2 False\n",
      "50 block4b_bn False\n",
      "51 block4b_activation False\n",
      "52 block4b_se_squeeze False\n",
      "53 block4b_se_reshape False\n",
      "54 block4b_se_reduce False\n",
      "55 block4b_se_expand False\n",
      "56 block4b_se_excite False\n",
      "57 block4b_project_conv False\n",
      "58 block4b_project_bn False\n",
      "59 block4b_drop False\n",
      "60 block4b_add False\n",
      "61 block4c_expand_conv False\n",
      "62 block4c_expand_bn False\n",
      "63 block4c_expand_activation False\n",
      "64 block4c_dwconv2 False\n",
      "65 block4c_bn False\n",
      "66 block4c_activation False\n",
      "67 block4c_se_squeeze False\n",
      "68 block4c_se_reshape False\n",
      "69 block4c_se_reduce False\n",
      "70 block4c_se_expand False\n",
      "71 block4c_se_excite False\n",
      "72 block4c_project_conv False\n",
      "73 block4c_project_bn False\n",
      "74 block4c_drop False\n",
      "75 block4c_add False\n",
      "76 block5a_expand_conv False\n",
      "77 block5a_expand_bn False\n",
      "78 block5a_expand_activation False\n",
      "79 block5a_dwconv2 False\n",
      "80 block5a_bn False\n",
      "81 block5a_activation False\n",
      "82 block5a_se_squeeze False\n",
      "83 block5a_se_reshape False\n",
      "84 block5a_se_reduce False\n",
      "85 block5a_se_expand False\n",
      "86 block5a_se_excite False\n",
      "87 block5a_project_conv False\n",
      "88 block5a_project_bn False\n",
      "89 block5b_expand_conv False\n",
      "90 block5b_expand_bn False\n",
      "91 block5b_expand_activation False\n",
      "92 block5b_dwconv2 False\n",
      "93 block5b_bn False\n",
      "94 block5b_activation False\n",
      "95 block5b_se_squeeze False\n",
      "96 block5b_se_reshape False\n",
      "97 block5b_se_reduce False\n",
      "98 block5b_se_expand False\n",
      "99 block5b_se_excite False\n",
      "100 block5b_project_conv False\n",
      "101 block5b_project_bn False\n",
      "102 block5b_drop False\n",
      "103 block5b_add False\n",
      "104 block5c_expand_conv False\n",
      "105 block5c_expand_bn False\n",
      "106 block5c_expand_activation False\n",
      "107 block5c_dwconv2 False\n",
      "108 block5c_bn False\n",
      "109 block5c_activation False\n",
      "110 block5c_se_squeeze False\n",
      "111 block5c_se_reshape False\n",
      "112 block5c_se_reduce False\n",
      "113 block5c_se_expand False\n",
      "114 block5c_se_excite False\n",
      "115 block5c_project_conv False\n",
      "116 block5c_project_bn False\n",
      "117 block5c_drop False\n",
      "118 block5c_add False\n",
      "119 block5d_expand_conv False\n",
      "120 block5d_expand_bn False\n",
      "121 block5d_expand_activation False\n",
      "122 block5d_dwconv2 False\n",
      "123 block5d_bn False\n",
      "124 block5d_activation False\n",
      "125 block5d_se_squeeze False\n",
      "126 block5d_se_reshape False\n",
      "127 block5d_se_reduce False\n",
      "128 block5d_se_expand False\n",
      "129 block5d_se_excite False\n",
      "130 block5d_project_conv False\n",
      "131 block5d_project_bn False\n",
      "132 block5d_drop False\n",
      "133 block5d_add False\n",
      "134 block5e_expand_conv False\n",
      "135 block5e_expand_bn False\n",
      "136 block5e_expand_activation False\n",
      "137 block5e_dwconv2 False\n",
      "138 block5e_bn False\n",
      "139 block5e_activation False\n",
      "140 block5e_se_squeeze False\n",
      "141 block5e_se_reshape False\n",
      "142 block5e_se_reduce False\n",
      "143 block5e_se_expand False\n",
      "144 block5e_se_excite False\n",
      "145 block5e_project_conv False\n",
      "146 block5e_project_bn False\n",
      "147 block5e_drop False\n",
      "148 block5e_add False\n",
      "149 block6a_expand_conv False\n",
      "150 block6a_expand_bn False\n",
      "151 block6a_expand_activation False\n",
      "152 block6a_dwconv2 False\n",
      "153 block6a_bn False\n",
      "154 block6a_activation False\n",
      "155 block6a_se_squeeze False\n",
      "156 block6a_se_reshape False\n",
      "157 block6a_se_reduce False\n",
      "158 block6a_se_expand False\n",
      "159 block6a_se_excite False\n",
      "160 block6a_project_conv False\n",
      "161 block6a_project_bn False\n",
      "162 block6b_expand_conv False\n",
      "163 block6b_expand_bn False\n",
      "164 block6b_expand_activation False\n",
      "165 block6b_dwconv2 False\n",
      "166 block6b_bn False\n",
      "167 block6b_activation False\n",
      "168 block6b_se_squeeze False\n",
      "169 block6b_se_reshape False\n",
      "170 block6b_se_reduce False\n",
      "171 block6b_se_expand False\n",
      "172 block6b_se_excite False\n",
      "173 block6b_project_conv False\n",
      "174 block6b_project_bn False\n",
      "175 block6b_drop False\n",
      "176 block6b_add False\n",
      "177 block6c_expand_conv False\n",
      "178 block6c_expand_bn False\n",
      "179 block6c_expand_activation False\n",
      "180 block6c_dwconv2 False\n",
      "181 block6c_bn False\n",
      "182 block6c_activation False\n",
      "183 block6c_se_squeeze False\n",
      "184 block6c_se_reshape False\n",
      "185 block6c_se_reduce False\n",
      "186 block6c_se_expand False\n",
      "187 block6c_se_excite False\n",
      "188 block6c_project_conv False\n",
      "189 block6c_project_bn False\n",
      "190 block6c_drop False\n",
      "191 block6c_add False\n",
      "192 block6d_expand_conv False\n",
      "193 block6d_expand_bn False\n",
      "194 block6d_expand_activation False\n",
      "195 block6d_dwconv2 False\n",
      "196 block6d_bn False\n",
      "197 block6d_activation False\n",
      "198 block6d_se_squeeze False\n",
      "199 block6d_se_reshape False\n",
      "200 block6d_se_reduce False\n",
      "201 block6d_se_expand False\n",
      "202 block6d_se_excite False\n",
      "203 block6d_project_conv False\n",
      "204 block6d_project_bn False\n",
      "205 block6d_drop False\n",
      "206 block6d_add False\n",
      "207 block6e_expand_conv False\n",
      "208 block6e_expand_bn False\n",
      "209 block6e_expand_activation False\n",
      "210 block6e_dwconv2 False\n",
      "211 block6e_bn False\n",
      "212 block6e_activation False\n",
      "213 block6e_se_squeeze False\n",
      "214 block6e_se_reshape False\n",
      "215 block6e_se_reduce False\n",
      "216 block6e_se_expand False\n",
      "217 block6e_se_excite False\n",
      "218 block6e_project_conv False\n",
      "219 block6e_project_bn False\n",
      "220 block6e_drop False\n",
      "221 block6e_add False\n",
      "222 block6f_expand_conv False\n",
      "223 block6f_expand_bn False\n",
      "224 block6f_expand_activation False\n",
      "225 block6f_dwconv2 False\n",
      "226 block6f_bn False\n",
      "227 block6f_activation False\n",
      "228 block6f_se_squeeze False\n",
      "229 block6f_se_reshape False\n",
      "230 block6f_se_reduce False\n",
      "231 block6f_se_expand False\n",
      "232 block6f_se_excite False\n",
      "233 block6f_project_conv False\n",
      "234 block6f_project_bn False\n",
      "235 block6f_drop False\n",
      "236 block6f_add False\n",
      "237 block6g_expand_conv False\n",
      "238 block6g_expand_bn False\n",
      "239 block6g_expand_activation False\n",
      "240 block6g_dwconv2 False\n",
      "241 block6g_bn False\n",
      "242 block6g_activation False\n",
      "243 block6g_se_squeeze False\n",
      "244 block6g_se_reshape False\n",
      "245 block6g_se_reduce False\n",
      "246 block6g_se_expand False\n",
      "247 block6g_se_excite False\n",
      "248 block6g_project_conv False\n",
      "249 block6g_project_bn False\n",
      "250 block6g_drop False\n",
      "251 block6g_add False\n",
      "252 block6h_expand_conv False\n",
      "253 block6h_expand_bn False\n",
      "254 block6h_expand_activation False\n",
      "255 block6h_dwconv2 False\n",
      "256 block6h_bn False\n",
      "257 block6h_activation False\n",
      "258 block6h_se_squeeze False\n",
      "259 block6h_se_reshape False\n",
      "260 block6h_se_reduce True\n",
      "261 block6h_se_expand True\n",
      "262 block6h_se_excite True\n",
      "263 block6h_project_conv True\n",
      "264 block6h_project_bn True\n",
      "265 block6h_drop True\n",
      "266 block6h_add True\n",
      "267 top_conv True\n",
      "268 top_bn True\n",
      "269 top_activation True\n"
     ]
    }
   ],
   "source": [
    "# Check which layers are tuneable in the base model\n",
    "for layer_number, layer in enumerate(model_2_base_model.layers):\n",
    "  print(layer_number, layer.name, layer.trainable)"
   ]
  },
  {
   "cell_type": "markdown",
   "metadata": {},
   "source": [
    "Looking good! The last 10 layers are trainable (unfrozen).\n",
    "\n",
    "We've got one more step to do before we can begin fine-tuning.\n",
    "\n",
    "Do you remember what it is?\n",
    "\n",
    "I'll give you a hint. We just reloaded the weights to our model and what do we need to do every time we make a change to our models?\n",
    "\n",
    "Recompile them!\n",
    "\n",
    "This will be just as before."
   ]
  },
  {
   "cell_type": "code",
   "execution_count": 63,
   "metadata": {},
   "outputs": [],
   "source": [
    "# Recompile the model (always recompile after any adjustments to a model)\n",
    "model_2.compile(loss=\"categorical_crossentropy\",\n",
    "                optimizer=tf.keras.optimizers.Adam(learning_rate=0.0001), # lr is 10x lower than before for fine-tuning\n",
    "                metrics=[\"accuracy\"])"
   ]
  },
  {
   "cell_type": "markdown",
   "metadata": {},
   "source": [
    "Alright, time to fine-tune on all of the data!"
   ]
  },
  {
   "cell_type": "code",
   "execution_count": 64,
   "metadata": {},
   "outputs": [
    {
     "name": "stdout",
     "output_type": "stream",
     "text": [
      "Saving TensorBoard log files to: transfer_learning/full_10_classes_fine_tune_last_10/20240229-183419\n",
      "Epoch 5/10\n",
      "235/235 [==============================] - 55s 214ms/step - loss: 0.7223 - accuracy: 0.7733 - val_loss: 0.3680 - val_accuracy: 0.8914\n",
      "Epoch 6/10\n",
      "235/235 [==============================] - 36s 153ms/step - loss: 0.5973 - accuracy: 0.8049 - val_loss: 0.3555 - val_accuracy: 0.8914\n",
      "Epoch 7/10\n",
      "235/235 [==============================] - 32s 137ms/step - loss: 0.5362 - accuracy: 0.8303 - val_loss: 0.3108 - val_accuracy: 0.8964\n",
      "Epoch 8/10\n",
      "235/235 [==============================] - 29s 124ms/step - loss: 0.5048 - accuracy: 0.8363 - val_loss: 0.2991 - val_accuracy: 0.9079\n",
      "Epoch 9/10\n",
      "235/235 [==============================] - 28s 118ms/step - loss: 0.4730 - accuracy: 0.8491 - val_loss: 0.3227 - val_accuracy: 0.9030\n",
      "Epoch 10/10\n",
      "235/235 [==============================] - 25s 105ms/step - loss: 0.4600 - accuracy: 0.8527 - val_loss: 0.2704 - val_accuracy: 0.9079\n"
     ]
    }
   ],
   "source": [
    "# Continue to train and fine-tune the model to our data\n",
    "fine_tune_epochs = initial_epochs + 5\n",
    "\n",
    "history_fine_10_classes_full = model_2.fit(train_data_10_classes_full,\n",
    "                                           epochs=fine_tune_epochs,\n",
    "                                           initial_epoch=history_10_percent_data_aug.epoch[-1],\n",
    "                                           validation_data=test_data,\n",
    "                                           validation_steps=int(0.25 * len(test_data)),\n",
    "                                           callbacks=[create_tensorboard_callback(\"transfer_learning\", \"full_10_classes_fine_tune_last_10\")])"
   ]
  },
  {
   "cell_type": "code",
   "execution_count": 65,
   "metadata": {},
   "outputs": [
    {
     "name": "stdout",
     "output_type": "stream",
     "text": [
      "79/79 [==============================] - 2s 21ms/step - loss: 0.2590 - accuracy: 0.9088\n"
     ]
    },
    {
     "data": {
      "text/plain": [
       "[0.259010374546051, 0.9088000059127808]"
      ]
     },
     "execution_count": 65,
     "metadata": {},
     "output_type": "execute_result"
    }
   ],
   "source": [
    "results_fine_tune_full_data = model_2.evaluate(test_data)\n",
    "results_fine_tune_full_data"
   ]
  },
  {
   "cell_type": "code",
   "execution_count": 66,
   "metadata": {},
   "outputs": [
    {
     "data": {
      "text/plain": [
       "[0.4308100938796997, 0.8560000061988831]"
      ]
     },
     "execution_count": 66,
     "metadata": {},
     "output_type": "execute_result"
    }
   ],
   "source": [
    "results_fine_tune_10_percent"
   ]
  },
  {
   "cell_type": "markdown",
   "metadata": {},
   "source": [
    "Nice! It looks like fine-tuning with all of the data has given our model a boost, how do the training curves look?"
   ]
  },
  {
   "cell_type": "code",
   "execution_count": 67,
   "metadata": {},
   "outputs": [
    {
     "data": {
      "image/png": "[encoded data removed]",
      "text/plain": [
       "<Figure size 800x800 with 2 Axes>"
      ]
     },
     "metadata": {},
     "output_type": "display_data"
    }
   ],
   "source": [
    "# How did fine-tuning go with more data?\n",
    "compare_historys(original_history=history_10_percent_data_aug,\n",
    "                 new_history=history_fine_10_classes_full,\n",
    "                 initial_epochs=5)"
   ]
  }
 ],
 "metadata": {
  "kernelspec": {
   "display_name": "Python 3 (ipykernel)",
   "language": "python",
   "name": "python3"
  },
  "language_info": {
   "codemirror_mode": {
    "name": "ipython",
    "version": 3
   },
   "file_extension": ".py",
   "mimetype": "text/x-python",
   "name": "python",
   "nbconvert_exporter": "python",
   "pygments_lexer": "ipython3",
   "version": "3.11.0"
  }
 },
 "nbformat": 4,
 "nbformat_minor": 2
}
