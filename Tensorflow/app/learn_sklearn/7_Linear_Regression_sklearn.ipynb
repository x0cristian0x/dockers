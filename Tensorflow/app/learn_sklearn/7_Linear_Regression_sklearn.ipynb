{
 "cells": [
  {
   "cell_type": "code",
   "execution_count": null,
   "metadata": {},
   "outputs": [],
   "source": [
    "from sklearn.linear_model import LinearRegression, Ridge, Lasso, ElasticNet, RidgeCV, BayesianRidge, LassoLars, RANSACRegressor, TheilSenRegressor, HuberRegressor\n",
    "from sklearn.svm import LinearSVR\n",
    "from sklearn.ensemble import RandomForestRegressor, GradientBoostingRegressor, BaggingRegressor\n",
    "from xgboost import XGBRegressor\n",
    "from xgboost import plot_tree\n",
    "from sklearn import datasets\n",
    "from sklearn.metrics import root_mean_squared_error, mean_squared_error, r2_score\n",
    "from sklearn.model_selection import train_test_split\n",
    "import matplotlib.pyplot as plt\n",
    "import numpy as np\n",
    "from matplotlib.pylab import rcParams\n",
    "import seaborn as sns\n",
    "%matplotlib inline"
   ]
  },
  {
   "cell_type": "code",
   "execution_count": null,
   "metadata": {},
   "outputs": [],
   "source": [
    "sns.set_style(\"darkgrid\")\n",
    "plt.rcParams[\"font.size\"] = 8\n",
    "plt.rcParams[\"figure.figsize\"] = (4,3)\n",
    "plt.rcParams[\"figure.facecolor\"] = \"#00000000\""
   ]
  },
  {
   "cell_type": "code",
   "execution_count": null,
   "metadata": {},
   "outputs": [],
   "source": [
    "x, y = datasets.fetch_california_housing(return_X_y=True, as_frame=True)\n",
    "x.head()"
   ]
  },
  {
   "cell_type": "code",
   "execution_count": null,
   "metadata": {},
   "outputs": [],
   "source": [
    "y.head()"
   ]
  },
  {
   "cell_type": "code",
   "execution_count": null,
   "metadata": {},
   "outputs": [],
   "source": [
    "x.describe()"
   ]
  },
  {
   "cell_type": "code",
   "execution_count": null,
   "metadata": {},
   "outputs": [],
   "source": [
    "# check Dtype for varible\n",
    "x.info()"
   ]
  },
  {
   "cell_type": "code",
   "execution_count": null,
   "metadata": {},
   "outputs": [],
   "source": [
    "# Fill / Remove Missing Values\n",
    "x.isna().sum()"
   ]
  },
  {
   "cell_type": "code",
   "execution_count": null,
   "metadata": {},
   "outputs": [],
   "source": [
    "# split data\n",
    "x_train, x_test, y_train, y_test= train_test_split(x,y, test_size=0.2, random_state=42)\n",
    "len(x_train), len(x_test), len(y_train), len(y_test)"
   ]
  },
  {
   "cell_type": "markdown",
   "metadata": {},
   "source": [
    "## Baseline Model"
   ]
  },
  {
   "cell_type": "code",
   "execution_count": null,
   "metadata": {},
   "outputs": [],
   "source": [
    "# Linear Model\n",
    "linreg_model = LinearRegression().fit(x_train, y_train)\n",
    "train_preds = linreg_model.predict(x_train)\n",
    "test_preds = linreg_model.predict(x_test)\n",
    "print(\"Train RMSE: \", root_mean_squared_error(y_train, train_preds))\n",
    "print(\"Train MSE: \", mean_squared_error(y_train, train_preds))\n",
    "print(\"Train R2: \", r2_score(y_train, train_preds))\n",
    "print(\"Test RMSE: \", root_mean_squared_error(y_test, test_preds))"
   ]
  },
  {
   "cell_type": "code",
   "execution_count": null,
   "metadata": {},
   "outputs": [],
   "source": [
    "# Ridge Model\n",
    "ridge_model = Ridge(random_state=42).fit(x_train, y_train)\n",
    "train_preds = ridge_model.predict(x_train)\n",
    "test_preds = ridge_model.predict(x_test)\n",
    "print(\"Train RMSE: \", root_mean_squared_error(y_train, train_preds))\n",
    "print(\"Test RMSE: \", root_mean_squared_error(y_test, test_preds))"
   ]
  },
  {
   "cell_type": "code",
   "execution_count": null,
   "metadata": {},
   "outputs": [],
   "source": [
    "# RidgeCV implements ridge regression with built-in cross-validation of the alpha parameter.\n",
    "ridgecv_model = RidgeCV(alphas=[1e-3, 1e-2, 1e-1, 1]).fit(x_train, y_train)\n",
    "train_preds = ridgecv_model.predict(x_train)\n",
    "test_preds = ridgecv_model.predict(x_test)\n",
    "print(\"Train RMSE: \", root_mean_squared_error(y_train, train_preds))\n",
    "print(\"Test RMSE: \", root_mean_squared_error(y_test, test_preds))"
   ]
  },
  {
   "cell_type": "code",
   "execution_count": null,
   "metadata": {},
   "outputs": [],
   "source": [
    "# Bayesian Ridge model\n",
    "bayesian_ridge_model = BayesianRidge().fit(np.array(x_train), np.array(y_train)) # convert to array\n",
    "train_preds = bayesian_ridge_model.predict( np.array(x_train))\n",
    "test_preds = bayesian_ridge_model.predict( np.array(x_test))\n",
    "print(\"Train RMSE: \", root_mean_squared_error(y_train, train_preds))\n",
    "print(\"Test RMSE: \", root_mean_squared_error(y_test, test_preds))"
   ]
  },
  {
   "cell_type": "code",
   "execution_count": null,
   "metadata": {},
   "outputs": [],
   "source": [
    "# Lasso Model\n",
    "lasso_model = Lasso(random_state=42).fit(x_train, y_train)\n",
    "train_preds = lasso_model.predict(x_train)\n",
    "test_preds = lasso_model.predict(x_test)\n",
    "print(\"Train RMSE: \", root_mean_squared_error(y_train, train_preds))\n",
    "print(\"Test RMSE: \", root_mean_squared_error(y_test, test_preds))"
   ]
  },
  {
   "cell_type": "code",
   "execution_count": null,
   "metadata": {},
   "outputs": [],
   "source": [
    "# LARS lasso model\n",
    "lars_lasso_model = LassoLars(alpha=0.5, random_state=42).fit(x_train, y_train)\n",
    "train_preds = lars_lasso_model.predict(x_train)\n",
    "test_preds = lasso_model.predict(x_test)\n",
    "print(\"Train RMSE: \", root_mean_squared_error(y_train, train_preds))\n",
    "print(\"Test RMSE: \", root_mean_squared_error(y_test, test_preds))"
   ]
  },
  {
   "cell_type": "code",
   "execution_count": null,
   "metadata": {},
   "outputs": [],
   "source": [
    "# Gradient Boosting Regressor model\n",
    "gbr_model = GradientBoostingRegressor(random_state=42,learning_rate=0.001, n_estimators=100) .fit(x_train, y_train)\n",
    "train_preds = gbr_model.predict(x_train)\n",
    "test_preds = gbr_model.predict(x_test)\n",
    "print(\"Train RMSE: \", root_mean_squared_error(y_train, train_preds))\n",
    "print(\"Test RMSE: \", root_mean_squared_error(y_test, test_preds))"
   ]
  },
  {
   "cell_type": "code",
   "execution_count": null,
   "metadata": {},
   "outputs": [],
   "source": [
    "# Bagging Regressor\n",
    "br_model = BaggingRegressor(random_state=42, n_estimators=100) .fit(x_train, y_train)\n",
    "train_preds = br_model.predict(x_train)\n",
    "test_preds = br_model.predict(x_test)\n",
    "print(\"Train RMSE: \", root_mean_squared_error(y_train, train_preds))\n",
    "print(\"Test RMSE: \", root_mean_squared_error(y_test, test_preds))"
   ]
  },
  {
   "cell_type": "code",
   "execution_count": null,
   "metadata": {},
   "outputs": [],
   "source": [
    "# RANSACRegressor, TheilSenRegressor, Huber: Robustness regression: outliers and modeling errors¶ \n",
    "ransac_model = RANSACRegressor(random_state=42).fit(x_train, y_train)\n",
    "train_preds = ransac_model.predict(x_train)\n",
    "test_preds = ransac_model.predict(x_test)\n",
    "print(\"Train RANSAC RMSE: \", root_mean_squared_error(y_train, train_preds))\n",
    "print(\"Test RANSAC RMSE: \", root_mean_squared_error(y_test, test_preds))\n",
    "\n",
    "theil_model = TheilSenRegressor(random_state=42).fit(x_train, y_train)\n",
    "train_preds = theil_model.predict(x_train)\n",
    "test_preds = theil_model.predict(x_test)\n",
    "print(\"Train Theil RMSE: \", root_mean_squared_error(y_train, train_preds))\n",
    "print(\"Test Theil RMSE: \", root_mean_squared_error(y_test, test_preds))\n",
    "\n",
    "huber_model = HuberRegressor(max_iter=2000, ).fit(x_train, y_train)\n",
    "train_preds = huber_model.predict(x_train)\n",
    "test_preds = huber_model.predict(x_test)\n",
    "print(\"Train Huber RMSE: \", root_mean_squared_error(y_train, train_preds))\n",
    "print(\"Test Huber score: \", huber_model.score(x_train, y_train))\n",
    "print(\"Test Huber R2: \", r2_score(y_train, train_preds))\n",
    "print(\"Test Huber RMSE: \", root_mean_squared_error(y_test, test_preds))"
   ]
  },
  {
   "cell_type": "code",
   "execution_count": null,
   "metadata": {},
   "outputs": [],
   "source": [
    "# Elastinet Model\n",
    "elastic_model = ElasticNet(random_state=42).fit(x_train, y_train)\n",
    "elastic_preds = elastic_model.predict(x_train)\n",
    "elastic_preds = elastic_model.predict(x_test)\n",
    "print(\"Train RMSE: \", root_mean_squared_error(y_train, train_preds))\n",
    "print(\"Test RMSE: \", root_mean_squared_error(y_test, test_preds))"
   ]
  },
  {
   "cell_type": "code",
   "execution_count": null,
   "metadata": {},
   "outputs": [],
   "source": [
    "# Random Forest Regressor\n",
    "random_forest_model = RandomForestRegressor(max_depth=20, n_jobs=-1, random_state=42, \n",
    "                                            n_estimators=800, max_samples=800)\n",
    "random_forest_model.fit(x_train, y_train)\n",
    "train_preds = random_forest_model.predict(x_train)\n",
    "test_preds = random_forest_model.predict(x_test)\n",
    "print(\"Train RMSE: \", root_mean_squared_error(y_train, train_preds))\n",
    "print(\"Test RMSE: \", root_mean_squared_error(y_test, test_preds))"
   ]
  },
  {
   "cell_type": "code",
   "execution_count": null,
   "metadata": {},
   "outputs": [],
   "source": [
    "# Support Vector Machine for Regression\n",
    "svc_model = LinearSVR(max_iter=2000, dual=\"auto\", random_state=42) # dual=\"auto\" chooses best parameters for the model automatically\n",
    "svc_model.fit(x_train, y_train)\n",
    "train_preds = svc_model.predict(x_train)\n",
    "test_preds = svc_model.predict(x_test)\n",
    "print(\"Train RMSE: \", root_mean_squared_error(y_train, train_preds))\n",
    "print(\"Test RMSE: \", root_mean_squared_error(y_test, test_preds))                "
   ]
  },
  {
   "cell_type": "code",
   "execution_count": null,
   "metadata": {},
   "outputs": [],
   "source": [
    "# XGBRegressor Model\n",
    "xgb_model = XGBRegressor(random_state=42, n_jobs=-1, objective='reg:squarederror', max_depth=10,\n",
    "                         n_estimators=200, learning_rate=1e-3)\n",
    "xgb_model.fit(x_train, y_train)\n",
    "train_preds = xgb_model.predict(x_train)\n",
    "test_preds = xgb_model.predict(x_test)\n",
    "print(\"Train RMSE: \", root_mean_squared_error(y_train, train_preds))\n",
    "print(\"Test RMSE: \", root_mean_squared_error(y_test, test_preds))"
   ]
  },
  {
   "cell_type": "code",
   "execution_count": null,
   "metadata": {},
   "outputs": [],
   "source": [
    "import matplotlib.pyplot as plt\n",
    "\n",
    "def test_params(ModelClass, **params):\n",
    "    \"\"\"Trains a model with the given parameters and returns training & validation RMSE\"\"\"\n",
    "    model = ModelClass(**params).fit(x_train, y_train)\n",
    "    train_rmse = root_mean_squared_error(model.predict(x_train), y_train)\n",
    "    val_rmse = root_mean_squared_error(model.predict(x_test), y_test)\n",
    "    return train_rmse, val_rmse\n",
    "\n",
    "def test_param_and_plot(ModelClass, param_name, param_values, **other_params):\n",
    "    \"\"\"Trains multiple models by varying the value of param_name according to param_values\"\"\"\n",
    "    train_errors, val_errors = [], [] \n",
    "    for value in param_values:\n",
    "        params = dict(other_params)\n",
    "        params[param_name] = value\n",
    "        train_rmse, val_rmse = test_params(ModelClass, **params)\n",
    "        train_errors.append(train_rmse)\n",
    "        val_errors.append(val_rmse)\n",
    "    \n",
    "    plt.figure(figsize=(10,6))\n",
    "    plt.title('Overfitting curve: ' + param_name)\n",
    "    plt.plot(param_values, train_errors, 'b-o')\n",
    "    plt.plot(param_values, val_errors, 'r-o')\n",
    "    plt.xlabel(param_name)\n",
    "    plt.ylabel('RMSE')\n",
    "    plt.legend(['Training', 'Validation'])\n",
    "\n",
    "best_params = {\n",
    "    'random_state': 42,\n",
    "    'n_jobs': -1,\n",
    "    'objective': 'reg:squarederror',\n",
    "    \"max_depth\":10,\n",
    "    \"learning_rate\": 0.001\n",
    "}"
   ]
  },
  {
   "cell_type": "code",
   "execution_count": null,
   "metadata": {},
   "outputs": [],
   "source": [
    "test_param_and_plot(XGBRegressor, 'n_estimators', [1, 5, 20], **best_params)"
   ]
  },
  {
   "cell_type": "code",
   "execution_count": null,
   "metadata": {},
   "outputs": [],
   "source": [
    "import sklearn\n",
    "sklearn.__version__"
   ]
  },
  {
   "cell_type": "code",
   "execution_count": null,
   "metadata": {},
   "outputs": [],
   "source": []
  }
 ],
 "metadata": {
  "kernelspec": {
   "display_name": "Python 3",
   "language": "python",
   "name": "python3"
  },
  "language_info": {
   "codemirror_mode": {
    "name": "ipython",
    "version": 3
   },
   "file_extension": ".py",
   "mimetype": "text/x-python",
   "name": "python",
   "nbconvert_exporter": "python",
   "pygments_lexer": "ipython3",
   "version": "3.11.0"
  }
 },
 "nbformat": 4,
 "nbformat_minor": 2
}
