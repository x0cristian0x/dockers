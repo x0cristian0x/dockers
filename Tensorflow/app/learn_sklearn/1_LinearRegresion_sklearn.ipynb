{
 "cells": [
  {
   "cell_type": "code",
   "execution_count": null,
   "metadata": {},
   "outputs": [],
   "source": [
    "from sklearn.linear_model import LinearRegression\n",
    "from sklearn import preprocessing # One-hot-Encoder y LabelEncoder\n",
    "from sklearn.preprocessing import StandardScaler\n",
    "from sklearn.metrics import root_mean_squared_error \n",
    "from sklearn.model_selection import train_test_split\n",
    "import pandas as pd\n",
    "import numpy as np\n",
    "#from urllib.request import urlretrieve  # pa descargar\n",
    "import plotly.express as px\n",
    "import matplotlib.pyplot as plt\n",
    "import seaborn as sns\n",
    "%matplotlib inline"
   ]
  },
  {
   "cell_type": "code",
   "execution_count": null,
   "metadata": {},
   "outputs": [],
   "source": [
    "sns.set_style(\"darkgrid\")\n",
    "plt.rcParams[\"font.size\"] = 8\n",
    "plt.rcParams[\"figure.figsize\"] = (4,3)\n",
    "plt.rcParams[\"figure.facecolor\"] = \"#00000000\""
   ]
  },
  {
   "cell_type": "code",
   "execution_count": null,
   "metadata": {},
   "outputs": [],
   "source": [
    "#url = \"raw.gotihub.data\"\n",
    "#urlretrieve(url=url, \"data.csv\")\n",
    "data = pd.read_csv(\"./dataset/medical-charges.csv\")\n",
    "data.head()"
   ]
  },
  {
   "cell_type": "code",
   "execution_count": null,
   "metadata": {},
   "outputs": [],
   "source": [
    "data.info()"
   ]
  },
  {
   "cell_type": "code",
   "execution_count": null,
   "metadata": {},
   "outputs": [],
   "source": [
    "data.smoker.value_counts()"
   ]
  },
  {
   "cell_type": "code",
   "execution_count": null,
   "metadata": {},
   "outputs": [],
   "source": [
    "data.describe()"
   ]
  },
  {
   "cell_type": "code",
   "execution_count": null,
   "metadata": {},
   "outputs": [],
   "source": [
    "data.hist()"
   ]
  },
  {
   "cell_type": "code",
   "execution_count": null,
   "metadata": {},
   "outputs": [],
   "source": [
    "# Age\n",
    "data.age.describe()"
   ]
  },
  {
   "cell_type": "code",
   "execution_count": null,
   "metadata": {},
   "outputs": [],
   "source": [
    "fig = px.histogram(data, x = \"age\", marginal=\"box\", nbins=47, title=\"Distributino of Age\")\n",
    "fig.update_layout(bargap=0.1)\n",
    "fig.show()"
   ]
  },
  {
   "cell_type": "code",
   "execution_count": null,
   "metadata": {},
   "outputs": [],
   "source": [
    "# BMI\n",
    "fig = px.histogram(data, x=\"bmi\", marginal=\"box\", color_discrete_sequence=[\"red\"], title= \"Distribution of BMI\")\n",
    "fig.update_layout(bargap=0.1)\n",
    "fig.show()"
   ]
  },
  {
   "cell_type": "code",
   "execution_count": null,
   "metadata": {},
   "outputs": [],
   "source": [
    "# Charges\n",
    "fig = px.histogram(data, x=\"charges\", marginal=\"box\", color=\"smoker\", color_discrete_sequence=[\"yellow\", \"green\"], title=\"Annual Medical Changes\")\n",
    "fig.update_layout(bargap=0.1)\n",
    "fig.show()"
   ]
  },
  {
   "cell_type": "code",
   "execution_count": null,
   "metadata": {},
   "outputs": [],
   "source": [
    "data.smoker.value_counts()"
   ]
  },
  {
   "cell_type": "code",
   "execution_count": null,
   "metadata": {},
   "outputs": [],
   "source": [
    "px.histogram(data, x=\"smoker\", color=\"sex\", title=\"Smokers\")"
   ]
  },
  {
   "cell_type": "code",
   "execution_count": null,
   "metadata": {},
   "outputs": [],
   "source": [
    "# Age and Charges\n",
    "fig = px.scatter(data, x=\"age\", y=\"charges\", color=\"smoker\", opacity=0.8, hover_data=[\"sex\"], title=\"Age vs Charges\")\n",
    "fig.update_traces(marker_size=5)\n",
    "fig.show()"
   ]
  },
  {
   "cell_type": "code",
   "execution_count": null,
   "metadata": {},
   "outputs": [],
   "source": [
    "# BMI and Charges\n",
    "fig = px.scatter(data, x=\"bmi\", y=\"charges\", color=\"smoker\", opacity=0.8, hover_data=[\"sex\"], title=\"BMI vs Charges\")\n",
    "fig.update_traces(marker_size=5)\n",
    "fig.show()"
   ]
  },
  {
   "cell_type": "code",
   "execution_count": null,
   "metadata": {},
   "outputs": [],
   "source": [
    "# Correlation\n",
    "data.charges.corr(data.age)"
   ]
  },
  {
   "cell_type": "code",
   "execution_count": null,
   "metadata": {},
   "outputs": [],
   "source": [
    "data.charges.corr(data.bmi)"
   ]
  },
  {
   "cell_type": "code",
   "execution_count": null,
   "metadata": {},
   "outputs": [],
   "source": [
    "smoker_values = {\"no\":0, \"yes\":1}\n",
    "smoker_numeric = data.smoker.map(smoker_values)\n",
    "data.charges.corr(smoker_numeric)"
   ]
  },
  {
   "cell_type": "code",
   "execution_count": null,
   "metadata": {},
   "outputs": [],
   "source": [
    "variable_num = [\"age\", \"bmi\", \"children\", \"charges\"]\n",
    "data_num = data[variable_num]\n",
    "data_num.corr()"
   ]
  },
  {
   "cell_type": "code",
   "execution_count": null,
   "metadata": {},
   "outputs": [],
   "source": [
    "sns.heatmap(data_num.corr(), cmap=\"Reds\", annot=True)\n",
    "plt.title(\"Correlation Matrix\");"
   ]
  },
  {
   "cell_type": "markdown",
   "metadata": {},
   "source": [
    "## Linear Regression using a Single Feature"
   ]
  },
  {
   "cell_type": "code",
   "execution_count": null,
   "metadata": {},
   "outputs": [],
   "source": [
    "non_smoker_df = data[data.smoker==\"no\"]\n",
    "\n",
    "plt.title(\"Age vs Charges\")\n",
    "sns.scatterplot(non_smoker_df, x=\"age\", y=\"charges\", alpha=0.7, s=15);"
   ]
  },
  {
   "cell_type": "code",
   "execution_count": null,
   "metadata": {},
   "outputs": [],
   "source": [
    "model = LinearRegression()\n",
    "help(model.fit)"
   ]
  },
  {
   "cell_type": "code",
   "execution_count": null,
   "metadata": {},
   "outputs": [],
   "source": [
    "inputs = non_smoker_df[[\"age\"]]\n",
    "targets = non_smoker_df[[\"charges\"]]\n",
    "print(\"input shape: \", inputs.shape)\n",
    "print(\"target shape: \", targets.shape)"
   ]
  },
  {
   "cell_type": "code",
   "execution_count": null,
   "metadata": {},
   "outputs": [],
   "source": [
    "model.fit(inputs, targets) # b+ w*age "
   ]
  },
  {
   "cell_type": "code",
   "execution_count": null,
   "metadata": {},
   "outputs": [],
   "source": [
    "model.predict(np.array([[23], [37], [61]]))"
   ]
  },
  {
   "cell_type": "code",
   "execution_count": null,
   "metadata": {},
   "outputs": [],
   "source": [
    "predictions = model.predict(inputs)\n",
    "predictions"
   ]
  },
  {
   "cell_type": "code",
   "execution_count": null,
   "metadata": {},
   "outputs": [],
   "source": [
    "root_mean_squared_error(targets, predictions)"
   ]
  },
  {
   "cell_type": "code",
   "execution_count": null,
   "metadata": {},
   "outputs": [],
   "source": [
    "model.coef_ # w"
   ]
  },
  {
   "cell_type": "code",
   "execution_count": null,
   "metadata": {},
   "outputs": [],
   "source": [
    "model.intercept_ # b"
   ]
  },
  {
   "cell_type": "code",
   "execution_count": null,
   "metadata": {},
   "outputs": [],
   "source": [
    "def try_parameters(w, b):\n",
    "    \n",
    "    plt.plot(non_smoker_df.age, predictions, 'r', alpha=0.9);\n",
    "    plt.scatter(non_smoker_df.age, non_smoker_df.charges, s=8,alpha=0.8);\n",
    "    plt.xlabel('Age');\n",
    "    plt.ylabel('Charges')\n",
    "    plt.legend(['Prediction', 'Actual']);\n",
    "    \n",
    "    print(\"RMSE Loss: \", root_mean_squared_error(targets, predictions))\n",
    "\n",
    "try_parameters(model.coef_, model.intercept_)"
   ]
  },
  {
   "cell_type": "markdown",
   "metadata": {},
   "source": [
    "## Linear Regression Using Multiple Features"
   ]
  },
  {
   "cell_type": "code",
   "execution_count": null,
   "metadata": {},
   "outputs": [],
   "source": [
    "inputs, targets = non_smoker_df[[\"age\", \"bmi\"]], non_smoker_df[[\"charges\"]]\n",
    "\n",
    "model = LinearRegression().fit(inputs, targets)\n",
    "\n",
    "predictions = model.predict(inputs)\n",
    "\n",
    "loss = root_mean_squared_error(targets, predictions)\n",
    "print(\"Loss: \", loss)"
   ]
  },
  {
   "cell_type": "code",
   "execution_count": null,
   "metadata": {},
   "outputs": [],
   "source": [
    "fig = px.scatter(non_smoker_df, x='bmi', y='charges', title='BMI vs. Charges')\n",
    "fig.update_traces(marker_size=5)\n",
    "fig.show()"
   ]
  },
  {
   "cell_type": "code",
   "execution_count": null,
   "metadata": {},
   "outputs": [],
   "source": [
    "fig = px.scatter_3d(non_smoker_df, x='age', y='bmi', z='charges')\n",
    "fig.update_traces(marker_size=3, marker_opacity=0.5)\n",
    "fig.show()"
   ]
  },
  {
   "cell_type": "code",
   "execution_count": null,
   "metadata": {},
   "outputs": [],
   "source": [
    "model.coef_, model.intercept_"
   ]
  },
  {
   "cell_type": "markdown",
   "metadata": {},
   "source": [
    "## Binary Categories"
   ]
  },
  {
   "cell_type": "code",
   "execution_count": null,
   "metadata": {},
   "outputs": [],
   "source": [
    "sns.barplot(data=data, x=\"smoker\", y=\"charges\", hue=\"smoker\"); # Hue "
   ]
  },
  {
   "cell_type": "code",
   "execution_count": null,
   "metadata": {},
   "outputs": [],
   "source": [
    "variable_string = {\"no\":0 , \"yes\":1}\n",
    "data[\"smoker_num\"] = data.smoker.map(variable_string)\n",
    "\n",
    "inputs, targets = data[[\"age\", \"bmi\", \"children\", \"smoker_num\"]], data[[\"charges\"]]\n",
    "\n",
    "model = LinearRegression().fit(inputs, targets)\n",
    "\n",
    "predictions = model.predict(inputs)\n",
    "\n",
    "loss = root_mean_squared_error(targets, predictions)\n",
    "print(\"Loss: \", loss)"
   ]
  },
  {
   "cell_type": "markdown",
   "metadata": {},
   "source": [
    "## Multiples Categories (one-hot-encoding) and Label-encoder"
   ]
  },
  {
   "cell_type": "code",
   "execution_count": null,
   "metadata": {},
   "outputs": [],
   "source": [
    "sns.barplot(data, x=\"region\", y=\"charges\", hue=\"region\");"
   ]
  },
  {
   "cell_type": "code",
   "execution_count": null,
   "metadata": {},
   "outputs": [],
   "source": [
    "# Encode with variables categories\n",
    "enc = preprocessing.OneHotEncoder()\n",
    "\n",
    "# show labels\n",
    "enc.fit(data[[\"region\"]])\n",
    "one_hot_region = enc.transform(data[[\"region\"]]).toarray()\n",
    "data[enc.categories_[0]] = one_hot_region # enc.categories_  son las etiquetas\n",
    "data.head()\n"
   ]
  },
  {
   "cell_type": "code",
   "execution_count": null,
   "metadata": {},
   "outputs": [],
   "source": [
    "# Encode with variables how sex or smoker\n",
    "enc = preprocessing.LabelEncoder()\n",
    "label_encoder = enc.fit_transform(data[\"sex\"])\n",
    "data[\"sex\"] = label_encoder\n",
    "data.head()\n",
    "\n",
    "## vuelve a sus labels [female y male]\n",
    "#data[\"sex\"] = enc.inverse_transform(data[\"sex\"]) "
   ]
  },
  {
   "cell_type": "code",
   "execution_count": null,
   "metadata": {},
   "outputs": [],
   "source": [
    "# inputs and targets\n",
    "input_cols = ['age', 'bmi', 'children', 'smoker_num', 'sex', 'northeast', 'northwest', 'southeast', 'southwest']\n",
    "inputs, targets = data[input_cols], data[[\"charges\"]]\n",
    "\n",
    "# create model\n",
    "model = LinearRegression().fit(inputs, targets)\n",
    "predictions = model.predict(inputs)\n",
    "loss = root_mean_squared_error(targets, predictions)\n",
    "print(\"Loss: \", loss)"
   ]
  },
  {
   "cell_type": "code",
   "execution_count": null,
   "metadata": {},
   "outputs": [],
   "source": [
    "# Features scaling\n",
    "model.coef_, model.intercept_"
   ]
  },
  {
   "cell_type": "code",
   "execution_count": null,
   "metadata": {},
   "outputs": [],
   "source": [
    "weights_df = pd.DataFrame({\"feature\": np.append(input_cols,1),\n",
    "                           \"weight\": np.append(model.coef_, model.intercept_)})\n",
    "\n",
    "weights_df.sort_values(\"weight\", ascending=False)"
   ]
  },
  {
   "cell_type": "code",
   "execution_count": null,
   "metadata": {},
   "outputs": [],
   "source": [
    "# StandardScaler\n",
    "num_cols = [\"age\", \"bmi\", \"children\"]\n",
    "scaler = StandardScaler()\n",
    "scaler.fit(data[num_cols])\n"
   ]
  },
  {
   "cell_type": "code",
   "execution_count": null,
   "metadata": {},
   "outputs": [],
   "source": [
    "print(f\"{num_cols} mean : {scaler.mean_}\")\n",
    "print(f\"{num_cols} var : {scaler.var_}\")"
   ]
  },
  {
   "cell_type": "code",
   "execution_count": null,
   "metadata": {},
   "outputs": [],
   "source": [
    "scaled_inputs = scaler.transform(data[num_cols])\n",
    "scaled_inputs"
   ]
  },
  {
   "cell_type": "code",
   "execution_count": null,
   "metadata": {},
   "outputs": [],
   "source": [
    "# combine data scaler with categorical\n",
    "cat_cols = ['smoker_num', 'sex', 'northeast', 'northwest', 'southeast', 'southwest']\n",
    "categorical_data = data[cat_cols].values\n",
    "\n",
    "inputs = np.concatenate((scaled_inputs, categorical_data), axis=1)\n",
    "targets = data[[\"charges\"]]\n",
    "\n",
    "model = LinearRegression().fit(inputs, targets)\n",
    "predictions = model.predict(inputs)\n",
    "loss = root_mean_squared_error(targets, predictions)\n",
    "print(\"Loss: \", loss)"
   ]
  },
  {
   "cell_type": "code",
   "execution_count": null,
   "metadata": {},
   "outputs": [],
   "source": [
    "weights_df = pd.DataFrame({\"feature\": np.append(num_cols + cat_cols,1),\n",
    "                           \"weight\": np.append(model.coef_, model.intercept_)})\n",
    "\n",
    "weights_df.sort_values(\"weight\", ascending=False)"
   ]
  },
  {
   "cell_type": "code",
   "execution_count": null,
   "metadata": {},
   "outputs": [],
   "source": [
    "# Test set\n",
    "inputs_train, inputs_test, targets_train, targets_test = train_test_split(inputs, targets, test_size=0.1)\n",
    "\n",
    "model = LinearRegression().fit(inputs_train, targets_train)\n",
    "predictions = model.predict(inputs_test)\n",
    "loss = root_mean_squared_error(targets_test, predictions)\n",
    "print(\"Test Loss: \", loss)"
   ]
  },
  {
   "cell_type": "code",
   "execution_count": null,
   "metadata": {},
   "outputs": [],
   "source": [
    "# Generate predictions\n",
    "predictions_train = model.predict(inputs_train)\n",
    "loss = root_mean_squared_error(targets_train, predictions_train)\n",
    "print('Training Loss:', loss)"
   ]
  },
  {
   "cell_type": "code",
   "execution_count": null,
   "metadata": {},
   "outputs": [],
   "source": []
  }
 ],
 "metadata": {
  "kernelspec": {
   "display_name": "Python 3",
   "language": "python",
   "name": "python3"
  },
  "language_info": {
   "codemirror_mode": {
    "name": "ipython",
    "version": 3
   },
   "file_extension": ".py",
   "mimetype": "text/x-python",
   "name": "python",
   "nbconvert_exporter": "python",
   "pygments_lexer": "ipython3",
   "version": "3.11.0rc1"
  }
 },
 "nbformat": 4,
 "nbformat_minor": 2
}
